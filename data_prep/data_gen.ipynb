{
 "cells": [
  {
   "cell_type": "code",
   "execution_count": 14,
   "source": [
    "import json\n",
    "import pandas as pd\n",
    "import os\n",
    "from tqdm import tqdm\n",
    "from pydub import AudioSegment  \n",
    "import matplotlib.pyplot as plt\n",
    "root_dirs = {\n",
    "    \"Birdsong\" : \"/nlsasfs/home/nltm-pilot/sandeshk/icassp/data/birdsong\",\n",
    "    \"IEMOCAP\"  : \"/speech/Databases/Birdsong/IEMOCAP/\",\n",
    "    \"MusicalInstruments\" : \"/speech/Databases/Birdsong/MusicalInstruments\",\n",
    "    \"speechcommandsv1\" : \"/nlsasfs/home/nltm-pilot/sandeshk/icassp/data/SpeechCommandsV1/train\"\n",
    "}"
   ],
   "outputs": [],
   "metadata": {}
  },
  {
   "cell_type": "markdown",
   "source": [
    "# BirdSong\n",
    "```shell\n",
    "python data_prep.py --root_dir \"/nlsasfs/home/nltm-pilot/sandeshk/icassp/data/birdsong/freefield1010\" --no_workers 10 --prefix wav --suffix spec\n",
    "```"
   ],
   "metadata": {}
  },
  {
   "cell_type": "code",
   "execution_count": 11,
   "source": [
    "root_dir = root_dirs[\"Birdsong\"]\n",
    "\n",
    "ff_txt = os.path.join(root_dir,\"freefield1010/6035814\")\n",
    "df1 = pd.read_csv(ff_txt) \n",
    "df1['Path'] = df1.apply(lambda row: os.path.join( 'freefield1010','spec',str(row.itemid)+'.wav.npy'), axis = 1)\n",
    "df1['PathL2'] = df1.apply(lambda row: os.path.join( 'freefield1010','specl2',str(row.itemid)+'.wav.npy'), axis = 1)\n",
    "df1['AudioPath'] = df1.apply(lambda row: os.path.join( 'freefield1010','wav',str(row.itemid)+'.wav'), axis = 1)\n",
    "df1.rename(columns = {'hasbird':'Label'}, inplace = True)\n",
    "wab_txt = os.path.join(root_dir,\"Warblr/6035817\")\n",
    "df2 = pd.read_csv(wab_txt) \n",
    "df2['Path'] = df2.apply(lambda row: os.path.join( 'Warblr','spec',str(row.itemid)+'.wav.npy'), axis = 1)\n",
    "df2['PathL2'] = df2.apply(lambda row: os.path.join( 'Warblr','specl2',str(row.itemid)+'.wav.npy'), axis = 1)\n",
    "df2['AudioPath'] = df2.apply(lambda row: os.path.join( 'Warblr','wav',str(row.itemid)+'.wav'), axis = 1)\n",
    "df2.rename(columns = {'hasbird':'Label'}, inplace = True)\n",
    "combined_df = df1.append(df2)"
   ],
   "outputs": [],
   "metadata": {}
  },
  {
   "cell_type": "code",
   "execution_count": 10,
   "source": [
    "df1 = df1.reindex(columns=['Path','Label'])\n",
    "df1.to_csv(os.path.join(root_dir,\"freefield1010_data.csv\"),index=False)\n",
    "df2 = df2.reindex(columns=['Path','Label'])\n",
    "df2.to_csv(os.path.join(root_dir,\"Warblr_data.csv\"),index=False)\n",
    "combined_df = combined_df.reindex(columns=['Path','Label'])\n",
    "combined_df.to_csv(os.path.join(root_dir,\"combined_data.csv\"),index=False)"
   ],
   "outputs": [],
   "metadata": {}
  },
  {
   "cell_type": "code",
   "execution_count": 12,
   "source": [
    "df1 = df1.reindex(columns=['PathL2','Label'])\n",
    "df1.to_csv(os.path.join(root_dir,\"freefield1010_data.csv\"),index=False)\n",
    "df2 = df2.reindex(columns=['PathL2','Label'])\n",
    "df2.to_csv(os.path.join(root_dir,\"Warblr_data_l2.csv\"),index=False)\n",
    "combined_df = combined_df.reindex(columns=['PathL2','Label'])\n",
    "combined_df.to_csv(os.path.join(root_dir,\"combined_data_l2.csv\"),index=False)"
   ],
   "outputs": [],
   "metadata": {}
  },
  {
   "cell_type": "markdown",
   "source": [
    "# SpeechCommandsV1\n",
    "\n",
    "```shell\n",
    "python data_prep.py --root_dir \"/nlsasfs/home/nltm-pilot/sandeshk/icassp/data/SpeechCommandsV1/train\" --no_workers 10 --prefix audio --suffix spec --file \"labels.csv\"\n",
    "```"
   ],
   "metadata": {}
  },
  {
   "cell_type": "code",
   "execution_count": 15,
   "source": [
    "root_dir = root_dirs['speechcommandsv1'] \n",
    "\n",
    "test_labels = [\"yes\", \"no\", \"up\", \"down\",\"left\", \"right\", \"on\", \"off\", \"stop\", \"go\" ] #10\n",
    "core_labels = test_labels + [\"zero\",\"one\",\"two\",\"three\",\"four\",\"five\",\"six\",\"seven\",\"eight\",\"nine\"] # 20\n",
    "auxliary_labels = [\"bird\",\"dog\",\"happy\", \"wow\",\"bed\",\"cat\",\"house\",\"marvin\",\"sheila\",\"tree\"] #10\n",
    "labels = core_labels+ auxliary_labels\n",
    "\n",
    "train_df = pd.DataFrame(columns = [ 'Path', 'Label'])\n",
    "audio_root_dir = os.path.join(root_dir , \"audio\")\n",
    "\n",
    "for labe_id,label in tqdm(enumerate(labels)):\n",
    "    audiofiles = os.listdir(os.path.join(audio_root_dir,label))\n",
    "    for file in tqdm(audiofiles ,leave=False):\n",
    "        file_path = os.path.join(label,file)\n",
    "        train_df=train_df.append( {'Path' : file_path, 'Label' : label} , ignore_index = True)\n",
    "train_df.to_csv(os.path.join(root_dir,\"labels.csv\"),index=False)"
   ],
   "outputs": [
    {
     "output_type": "stream",
     "name": "stderr",
     "text": [
      "30it [03:28,  6.95s/it]\n"
     ]
    }
   ],
   "metadata": {}
  },
  {
   "cell_type": "code",
   "execution_count": 25,
   "source": [
    "test_df = pd.read_csv(os.path.join(root_dir,\"testing_list.txt\"),header=None)\n",
    "test_df.columns=['Path']\n",
    "test_df['Label']= test_df.apply(lambda row: str(row.Path).split('/')[0], axis = 1)"
   ],
   "outputs": [],
   "metadata": {}
  }
 ],
 "metadata": {
  "orig_nbformat": 4,
  "language_info": {
   "name": "python",
   "version": "3.8.11",
   "mimetype": "text/x-python",
   "codemirror_mode": {
    "name": "ipython",
    "version": 3
   },
   "pygments_lexer": "ipython3",
   "nbconvert_exporter": "python",
   "file_extension": ".py"
  },
  "kernelspec": {
   "name": "python3",
   "display_name": "Python 3.8.11 64-bit ('default': conda)"
  },
  "interpreter": {
   "hash": "813ba1e14fc4b8a3882955179ac8d5855d8bcd0514fe871de254646abb26b5e1"
  }
 },
 "nbformat": 4,
 "nbformat_minor": 2
}