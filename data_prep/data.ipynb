{
 "cells": [
  {
   "cell_type": "code",
   "execution_count": 1,
   "source": [
    "import json\n",
    "import pandas as pd\n",
    "import os\n",
    "from tqdm import tqdm\n",
    "import numpy as np\n",
    "from pydub import AudioSegment  \n",
    "import matplotlib.pyplot as plt\n",
    "root_dirs = {\n",
    "    \"Birdsong\" : \"/nlsasfs/home/nltm-pilot/sandeshk/icassp/data/birdsong\",\n",
    "    \"IEMOCAP\"  : \"/nlsasfs/home/nltm-pilot/sandeshk/icassp/data/iemocap/iemocap/IEMOCAP\",\n",
    "    \"MusicalInstruments\" : \"/nlsasfs/home/nltm-pilot/sandeshk/icassp/data/magenta\",\n",
    "    \"tut_urban\" : \"/nlsasfs/home/nltm-pilot/sandeshk/icassp/data/utu/TUT-urban-acoustic-scenes-2018-development\"\n",
    "}"
   ],
   "outputs": [],
   "metadata": {}
  },
  {
   "cell_type": "markdown",
   "source": [
    "# BirdSong\n",
    "```shell\n",
    "python data_prep.py --root_dir \"/speech/Databases/Birdsong/BirdSong/freefield1010\" --no_workers 10 --prefix wav --suffix spec\n",
    "```"
   ],
   "metadata": {}
  },
  {
   "cell_type": "code",
   "execution_count": 2,
   "source": [
    "root_dir = root_dirs[\"Birdsong\"]\n",
    "\n",
    "ff_txt = os.path.join(root_dir,\"freefield1010/6035814\")\n",
    "df1 = pd.read_csv(ff_txt) \n",
    "df1['Path'] = df1.apply(lambda row: os.path.join( 'freefield1010','spec',str(row.itemid)+'.wav.npy'), axis = 1)\n",
    "df1['PathL2'] = df1.apply(lambda row: os.path.join( 'freefield1010','specl2',str(row.itemid)+'.wav.npy'), axis = 1)\n",
    "df1['AudioPath'] = df1.apply(lambda row: os.path.join( 'freefield1010','wav',str(row.itemid)+'.wav'), axis = 1)\n",
    "df1.rename(columns = {'hasbird':'Label'}, inplace = True)\n",
    "wab_txt = os.path.join(root_dir,\"Warblr/6035817\")\n",
    "df2 = pd.read_csv(wab_txt) \n",
    "df2['Path'] = df2.apply(lambda row: os.path.join( 'Warblr','spec',str(row.itemid)+'.wav.npy'), axis = 1)\n",
    "df2['PathL2'] = df2.apply(lambda row: os.path.join( 'Warblr','specl2',str(row.itemid)+'.wav.npy'), axis = 1)\n",
    "df2['AudioPath'] = df2.apply(lambda row: os.path.join( 'Warblr','wav',str(row.itemid)+'.wav'), axis = 1)\n",
    "df2.rename(columns = {'hasbird':'Label'}, inplace = True)\n",
    "combined_df = df1.append(df2)\n",
    "\n",
    "df1.to_csv(os.path.join(root_dir,\"freefield1010_data.csv\"),index=False)\n",
    "df2.to_csv(os.path.join(root_dir,\"Warblr_data.csv\"),index=False)\n",
    "combined_df.to_csv(os.path.join(root_dir,\"combined_data.csv\"),index=False)"
   ],
   "outputs": [],
   "metadata": {}
  },
  {
   "cell_type": "code",
   "execution_count": 5,
   "source": [
    "dataset = combined_df\n",
    "dataset[\"lenghts\"] = None\n",
    "for idx,row in dataset.iterrows() :\n",
    "    wav_file = AudioSegment.from_file(file = os.path.join(root_dir,row['AudioPath']), format = \"wav\")\n",
    "    dataset.loc[idx,\"lenghts\"] = len(wav_file)"
   ],
   "outputs": [
    {
     "output_type": "error",
     "ename": "FileNotFoundError",
     "evalue": "[Errno 2] No such file or directory: '/nlsasfs/home/nltm-pilot/sandeshk/icassp/data/birdsong/freefield1010/wav/64486.wav'",
     "traceback": [
      "\u001b[0;31m---------------------------------------------------------------------------\u001b[0m",
      "\u001b[0;31mFileNotFoundError\u001b[0m                         Traceback (most recent call last)",
      "\u001b[0;32m/tmp/ipykernel_3404212/507203145.py\u001b[0m in \u001b[0;36m<module>\u001b[0;34m\u001b[0m\n\u001b[1;32m      2\u001b[0m \u001b[0mdataset\u001b[0m\u001b[0;34m[\u001b[0m\u001b[0;34m\"lenghts\"\u001b[0m\u001b[0;34m]\u001b[0m \u001b[0;34m=\u001b[0m \u001b[0;32mNone\u001b[0m\u001b[0;34m\u001b[0m\u001b[0;34m\u001b[0m\u001b[0m\n\u001b[1;32m      3\u001b[0m \u001b[0;32mfor\u001b[0m \u001b[0midx\u001b[0m\u001b[0;34m,\u001b[0m\u001b[0mrow\u001b[0m \u001b[0;32min\u001b[0m \u001b[0mdataset\u001b[0m\u001b[0;34m.\u001b[0m\u001b[0miterrows\u001b[0m\u001b[0;34m(\u001b[0m\u001b[0;34m)\u001b[0m \u001b[0;34m:\u001b[0m\u001b[0;34m\u001b[0m\u001b[0;34m\u001b[0m\u001b[0m\n\u001b[0;32m----> 4\u001b[0;31m     \u001b[0mwav_file\u001b[0m \u001b[0;34m=\u001b[0m \u001b[0mAudioSegment\u001b[0m\u001b[0;34m.\u001b[0m\u001b[0mfrom_file\u001b[0m\u001b[0;34m(\u001b[0m\u001b[0mfile\u001b[0m \u001b[0;34m=\u001b[0m \u001b[0mos\u001b[0m\u001b[0;34m.\u001b[0m\u001b[0mpath\u001b[0m\u001b[0;34m.\u001b[0m\u001b[0mjoin\u001b[0m\u001b[0;34m(\u001b[0m\u001b[0mroot_dir\u001b[0m\u001b[0;34m,\u001b[0m\u001b[0mrow\u001b[0m\u001b[0;34m[\u001b[0m\u001b[0;34m'AudioPath'\u001b[0m\u001b[0;34m]\u001b[0m\u001b[0;34m)\u001b[0m\u001b[0;34m,\u001b[0m \u001b[0mformat\u001b[0m \u001b[0;34m=\u001b[0m \u001b[0;34m\"wav\"\u001b[0m\u001b[0;34m)\u001b[0m\u001b[0;34m\u001b[0m\u001b[0;34m\u001b[0m\u001b[0m\n\u001b[0m\u001b[1;32m      5\u001b[0m     \u001b[0mdataset\u001b[0m\u001b[0;34m.\u001b[0m\u001b[0mloc\u001b[0m\u001b[0;34m[\u001b[0m\u001b[0midx\u001b[0m\u001b[0;34m,\u001b[0m\u001b[0;34m\"lenghts\"\u001b[0m\u001b[0;34m]\u001b[0m \u001b[0;34m=\u001b[0m \u001b[0mlen\u001b[0m\u001b[0;34m(\u001b[0m\u001b[0mwav_file\u001b[0m\u001b[0;34m)\u001b[0m\u001b[0;34m\u001b[0m\u001b[0;34m\u001b[0m\u001b[0m\n",
      "\u001b[0;32m~/miniconda3/envs/default/lib/python3.8/site-packages/pydub/audio_segment.py\u001b[0m in \u001b[0;36mfrom_file\u001b[0;34m(cls, file, format, codec, parameters, start_second, duration, **kwargs)\u001b[0m\n\u001b[1;32m    649\u001b[0m         \u001b[0;32mexcept\u001b[0m \u001b[0mTypeError\u001b[0m\u001b[0;34m:\u001b[0m\u001b[0;34m\u001b[0m\u001b[0;34m\u001b[0m\u001b[0m\n\u001b[1;32m    650\u001b[0m             \u001b[0mfilename\u001b[0m \u001b[0;34m=\u001b[0m \u001b[0;32mNone\u001b[0m\u001b[0;34m\u001b[0m\u001b[0;34m\u001b[0m\u001b[0m\n\u001b[0;32m--> 651\u001b[0;31m         \u001b[0mfile\u001b[0m\u001b[0;34m,\u001b[0m \u001b[0mclose_file\u001b[0m \u001b[0;34m=\u001b[0m \u001b[0m_fd_or_path_or_tempfile\u001b[0m\u001b[0;34m(\u001b[0m\u001b[0mfile\u001b[0m\u001b[0;34m,\u001b[0m \u001b[0;34m'rb'\u001b[0m\u001b[0;34m,\u001b[0m \u001b[0mtempfile\u001b[0m\u001b[0;34m=\u001b[0m\u001b[0;32mFalse\u001b[0m\u001b[0;34m)\u001b[0m\u001b[0;34m\u001b[0m\u001b[0;34m\u001b[0m\u001b[0m\n\u001b[0m\u001b[1;32m    652\u001b[0m \u001b[0;34m\u001b[0m\u001b[0m\n\u001b[1;32m    653\u001b[0m         \u001b[0;32mif\u001b[0m \u001b[0mformat\u001b[0m\u001b[0;34m:\u001b[0m\u001b[0;34m\u001b[0m\u001b[0;34m\u001b[0m\u001b[0m\n",
      "\u001b[0;32m~/miniconda3/envs/default/lib/python3.8/site-packages/pydub/utils.py\u001b[0m in \u001b[0;36m_fd_or_path_or_tempfile\u001b[0;34m(fd, mode, tempfile)\u001b[0m\n\u001b[1;32m     58\u001b[0m \u001b[0;34m\u001b[0m\u001b[0m\n\u001b[1;32m     59\u001b[0m     \u001b[0;32mif\u001b[0m \u001b[0misinstance\u001b[0m\u001b[0;34m(\u001b[0m\u001b[0mfd\u001b[0m\u001b[0;34m,\u001b[0m \u001b[0mbasestring\u001b[0m\u001b[0;34m)\u001b[0m\u001b[0;34m:\u001b[0m\u001b[0;34m\u001b[0m\u001b[0;34m\u001b[0m\u001b[0m\n\u001b[0;32m---> 60\u001b[0;31m         \u001b[0mfd\u001b[0m \u001b[0;34m=\u001b[0m \u001b[0mopen\u001b[0m\u001b[0;34m(\u001b[0m\u001b[0mfd\u001b[0m\u001b[0;34m,\u001b[0m \u001b[0mmode\u001b[0m\u001b[0;34m=\u001b[0m\u001b[0mmode\u001b[0m\u001b[0;34m)\u001b[0m\u001b[0;34m\u001b[0m\u001b[0;34m\u001b[0m\u001b[0m\n\u001b[0m\u001b[1;32m     61\u001b[0m         \u001b[0mclose_fd\u001b[0m \u001b[0;34m=\u001b[0m \u001b[0;32mTrue\u001b[0m\u001b[0;34m\u001b[0m\u001b[0;34m\u001b[0m\u001b[0m\n\u001b[1;32m     62\u001b[0m \u001b[0;34m\u001b[0m\u001b[0m\n",
      "\u001b[0;31mFileNotFoundError\u001b[0m: [Errno 2] No such file or directory: '/nlsasfs/home/nltm-pilot/sandeshk/icassp/data/birdsong/freefield1010/wav/64486.wav'"
     ]
    }
   ],
   "metadata": {}
  },
  {
   "cell_type": "markdown",
   "source": [
    "# IEMOCAP\n",
    "\n",
    "* total samples 7532\n",
    "* 4 emotions toatl 4490\n",
    "* train 3548\n",
    "* test 942"
   ],
   "metadata": {}
  },
  {
   "cell_type": "code",
   "execution_count": 2,
   "source": [
    "root_dir = root_dirs[\"IEMOCAP\"]\n",
    "\n",
    "full_datacsv = pd.read_csv(os.path.join(root_dir,'iemocap_final.csv'))\n",
    "full_datacsv['type'] = full_datacsv.apply(lambda row: \"test\" if str(row.wav_file).startswith('Ses05') else \"train\",\n",
    "                                            axis=1)\n",
    "full_datacsv['AudioPath'] = full_datacsv.apply(lambda row: os.path.join('wav',str(row.wav_file)+'.wav'), axis = 1)\n",
    "full_datacsv['Path'] = full_datacsv.apply(lambda row: os.path.join('spec',str(row.wav_file)+'.wav.npy'), axis = 1)\n",
    "full_datacsv['PathL2'] = full_datacsv.apply(lambda row: os.path.join('specl2',str(row.wav_file)+'.wav.npy'), axis = 1)\n",
    "full_datacsv['Label'] = full_datacsv['emotion'] \n",
    "full_datacsv.drop(['index','start_time','end_time','val' ,'act' ,'dom' ,'emotion','wav_file'],axis=1,inplace=True)\n"
   ],
   "outputs": [],
   "metadata": {}
  },
  {
   "cell_type": "code",
   "execution_count": 5,
   "source": [
    "len(full_datacsv)"
   ],
   "outputs": [
    {
     "output_type": "execute_result",
     "data": {
      "text/plain": [
       "4490"
      ]
     },
     "metadata": {},
     "execution_count": 5
    }
   ],
   "metadata": {}
  },
  {
   "cell_type": "code",
   "execution_count": 4,
   "source": [
    "print(full_datacsv['Label'].unique())\n",
    "index_names = full_datacsv[ full_datacsv['Label'].isin(['fru','exc','sur','oth','fea','dis']) ].index\n",
    "full_datacsv.drop(index_names, inplace = True)\n",
    "print(full_datacsv['Label'].unique())"
   ],
   "outputs": [
    {
     "output_type": "stream",
     "name": "stdout",
     "text": [
      "['neu' 'fru' 'ang' 'sad' 'hap' 'exc' 'sur' 'oth' 'fea' 'dis']\n",
      "['neu' 'ang' 'sad' 'hap']\n"
     ]
    }
   ],
   "metadata": {}
  },
  {
   "cell_type": "code",
   "execution_count": 9,
   "source": [
    "grouped = full_datacsv.groupby(full_datacsv.type)\n",
    "\n",
    "train = grouped.get_group(\"train\").drop(['type'],axis=1)\n",
    "test  = grouped.get_group(\"test\").drop(['type'],axis=1)\n",
    "print(len(train))\n",
    "print(len(test))\n",
    "\n",
    "train.to_csv(os.path.join(root_dir,'train_data.csv'),index=False)\n",
    "test.to_csv(os.path.join(root_dir,'test_data.csv'),index=False)"
   ],
   "outputs": [
    {
     "output_type": "stream",
     "name": "stdout",
     "text": [
      "3548\n",
      "942\n"
     ]
    }
   ],
   "metadata": {}
  },
  {
   "cell_type": "markdown",
   "source": [
    "# Speech Commands V1\n",
    "\n",
    "```shell\n",
    "python data_prep.py --root_dir \"/nlsasfs/home/nltm-pilot/sandeshk/icassp/data/speechv1/train/\" --no_workers 15 --prefix audio --suffix spec --file \"labels.csv\"\n",
    "```\n",
    "\n",
    "\n",
    "train samples : 56314\n",
    "test samples : 6677"
   ],
   "metadata": {}
  },
  {
   "cell_type": "code",
   "execution_count": 10,
   "source": [
    "root_dir = \"/nlsasfs/home/nltm-pilot/sandeshk/icassp/data/speechv1/train\"\n",
    "\n",
    "test_labels = [\"yes\", \"no\", \"up\", \"down\",\"left\", \"right\", \"on\", \"off\", \"stop\", \"go\" ] #10\n",
    "core_labels = test_labels + [\"zero\",\"one\",\"two\",\"three\",\"four\",\"five\",\"six\",\"seven\",\"eight\",\"nine\"] # 20\n",
    "auxliary_labels = [\"bird\",\"dog\",\"happy\", \"wow\",\"bed\",\"cat\",\"house\",\"marvin\",\"sheila\",\"tree\"] #10\n",
    "labels = core_labels+ auxliary_labels + [\"silence\"]\n",
    "\n",
    "full_df = pd.DataFrame(columns = [ 'AudioPath', 'Label'])\n",
    "audio_root_dir = os.path.join(root_dir , \"audio\")\n",
    "\n",
    "for labe_id,label in tqdm(enumerate(labels)):\n",
    "    audiofiles = os.listdir(os.path.join(audio_root_dir,label))\n",
    "    for file in tqdm(audiofiles ,leave=False):\n",
    "        file_path = os.path.join(label,file)\n",
    "        full_df=full_df.append( {'AudioPath' : file_path, 'Label' : label} , ignore_index = True)\n",
    "full_df.to_csv(os.path.join(root_dir,\"labels.csv\"),index=False)\n",
    "full_df['Path'] = full_df.apply(lambda row: os.path.join('spec',str(row.AudioPath)+'.npy'), axis = 1)\n",
    "full_df['PathL2'] = full_df.apply(lambda row: os.path.join('specl2',str(row.AudioPath)+'.npy'), axis = 1)\n"
   ],
   "outputs": [
    {
     "output_type": "stream",
     "name": "stderr",
     "text": [
      "31it [01:37,  3.13s/it]\n"
     ]
    }
   ],
   "metadata": {}
  },
  {
   "cell_type": "code",
   "execution_count": 17,
   "source": [
    "full_df"
   ],
   "outputs": [
    {
     "output_type": "execute_result",
     "data": {
      "text/html": [
       "<div>\n",
       "<style scoped>\n",
       "    .dataframe tbody tr th:only-of-type {\n",
       "        vertical-align: middle;\n",
       "    }\n",
       "\n",
       "    .dataframe tbody tr th {\n",
       "        vertical-align: top;\n",
       "    }\n",
       "\n",
       "    .dataframe thead th {\n",
       "        text-align: right;\n",
       "    }\n",
       "</style>\n",
       "<table border=\"1\" class=\"dataframe\">\n",
       "  <thead>\n",
       "    <tr style=\"text-align: right;\">\n",
       "      <th></th>\n",
       "      <th>AudioPath</th>\n",
       "      <th>Label</th>\n",
       "      <th>Path</th>\n",
       "      <th>PathL2</th>\n",
       "    </tr>\n",
       "  </thead>\n",
       "  <tbody>\n",
       "    <tr>\n",
       "      <th>0</th>\n",
       "      <td>yes/c013fe4d_nohash_0.wav</td>\n",
       "      <td>yes</td>\n",
       "      <td>spec/yes/c013fe4d_nohash_0.wav.npy</td>\n",
       "      <td>specl2/yes/c013fe4d_nohash_0.wav.npy</td>\n",
       "    </tr>\n",
       "    <tr>\n",
       "      <th>1</th>\n",
       "      <td>yes/9db2bfe9_nohash_3.wav</td>\n",
       "      <td>yes</td>\n",
       "      <td>spec/yes/9db2bfe9_nohash_3.wav.npy</td>\n",
       "      <td>specl2/yes/9db2bfe9_nohash_3.wav.npy</td>\n",
       "    </tr>\n",
       "    <tr>\n",
       "      <th>2</th>\n",
       "      <td>yes/918a2473_nohash_2.wav</td>\n",
       "      <td>yes</td>\n",
       "      <td>spec/yes/918a2473_nohash_2.wav.npy</td>\n",
       "      <td>specl2/yes/918a2473_nohash_2.wav.npy</td>\n",
       "    </tr>\n",
       "    <tr>\n",
       "      <th>3</th>\n",
       "      <td>yes/146d97db_nohash_0.wav</td>\n",
       "      <td>yes</td>\n",
       "      <td>spec/yes/146d97db_nohash_0.wav.npy</td>\n",
       "      <td>specl2/yes/146d97db_nohash_0.wav.npy</td>\n",
       "    </tr>\n",
       "    <tr>\n",
       "      <th>4</th>\n",
       "      <td>yes/d0faf7e4_nohash_5.wav</td>\n",
       "      <td>yes</td>\n",
       "      <td>spec/yes/d0faf7e4_nohash_5.wav.npy</td>\n",
       "      <td>specl2/yes/d0faf7e4_nohash_5.wav.npy</td>\n",
       "    </tr>\n",
       "    <tr>\n",
       "      <th>...</th>\n",
       "      <td>...</td>\n",
       "      <td>...</td>\n",
       "      <td>...</td>\n",
       "      <td>...</td>\n",
       "    </tr>\n",
       "    <tr>\n",
       "      <th>70716</th>\n",
       "      <td>silence/exercise_bike95.wav</td>\n",
       "      <td>silence</td>\n",
       "      <td>spec/silence/exercise_bike95.wav.npy</td>\n",
       "      <td>specl2/silence/exercise_bike95.wav.npy</td>\n",
       "    </tr>\n",
       "    <tr>\n",
       "      <th>70717</th>\n",
       "      <td>silence/exercise_bike806.wav</td>\n",
       "      <td>silence</td>\n",
       "      <td>spec/silence/exercise_bike806.wav.npy</td>\n",
       "      <td>specl2/silence/exercise_bike806.wav.npy</td>\n",
       "    </tr>\n",
       "    <tr>\n",
       "      <th>70718</th>\n",
       "      <td>silence/pink_noise88.wav</td>\n",
       "      <td>silence</td>\n",
       "      <td>spec/silence/pink_noise88.wav.npy</td>\n",
       "      <td>specl2/silence/pink_noise88.wav.npy</td>\n",
       "    </tr>\n",
       "    <tr>\n",
       "      <th>70719</th>\n",
       "      <td>silence/running_tap54.wav</td>\n",
       "      <td>silence</td>\n",
       "      <td>spec/silence/running_tap54.wav.npy</td>\n",
       "      <td>specl2/silence/running_tap54.wav.npy</td>\n",
       "    </tr>\n",
       "    <tr>\n",
       "      <th>70720</th>\n",
       "      <td>silence/running_tap911.wav</td>\n",
       "      <td>silence</td>\n",
       "      <td>spec/silence/running_tap911.wav.npy</td>\n",
       "      <td>specl2/silence/running_tap911.wav.npy</td>\n",
       "    </tr>\n",
       "  </tbody>\n",
       "</table>\n",
       "<p>70721 rows × 4 columns</p>\n",
       "</div>"
      ],
      "text/plain": [
       "                          AudioPath    Label  \\\n",
       "0         yes/c013fe4d_nohash_0.wav      yes   \n",
       "1         yes/9db2bfe9_nohash_3.wav      yes   \n",
       "2         yes/918a2473_nohash_2.wav      yes   \n",
       "3         yes/146d97db_nohash_0.wav      yes   \n",
       "4         yes/d0faf7e4_nohash_5.wav      yes   \n",
       "...                             ...      ...   \n",
       "70716   silence/exercise_bike95.wav  silence   \n",
       "70717  silence/exercise_bike806.wav  silence   \n",
       "70718      silence/pink_noise88.wav  silence   \n",
       "70719     silence/running_tap54.wav  silence   \n",
       "70720    silence/running_tap911.wav  silence   \n",
       "\n",
       "                                        Path  \\\n",
       "0         spec/yes/c013fe4d_nohash_0.wav.npy   \n",
       "1         spec/yes/9db2bfe9_nohash_3.wav.npy   \n",
       "2         spec/yes/918a2473_nohash_2.wav.npy   \n",
       "3         spec/yes/146d97db_nohash_0.wav.npy   \n",
       "4         spec/yes/d0faf7e4_nohash_5.wav.npy   \n",
       "...                                      ...   \n",
       "70716   spec/silence/exercise_bike95.wav.npy   \n",
       "70717  spec/silence/exercise_bike806.wav.npy   \n",
       "70718      spec/silence/pink_noise88.wav.npy   \n",
       "70719     spec/silence/running_tap54.wav.npy   \n",
       "70720    spec/silence/running_tap911.wav.npy   \n",
       "\n",
       "                                        PathL2  \n",
       "0         specl2/yes/c013fe4d_nohash_0.wav.npy  \n",
       "1         specl2/yes/9db2bfe9_nohash_3.wav.npy  \n",
       "2         specl2/yes/918a2473_nohash_2.wav.npy  \n",
       "3         specl2/yes/146d97db_nohash_0.wav.npy  \n",
       "4         specl2/yes/d0faf7e4_nohash_5.wav.npy  \n",
       "...                                        ...  \n",
       "70716   specl2/silence/exercise_bike95.wav.npy  \n",
       "70717  specl2/silence/exercise_bike806.wav.npy  \n",
       "70718      specl2/silence/pink_noise88.wav.npy  \n",
       "70719     specl2/silence/running_tap54.wav.npy  \n",
       "70720    specl2/silence/running_tap911.wav.npy  \n",
       "\n",
       "[70721 rows x 4 columns]"
      ]
     },
     "metadata": {},
     "execution_count": 17
    }
   ],
   "metadata": {}
  },
  {
   "cell_type": "code",
   "execution_count": 18,
   "source": [
    "full_df.loc[~full_df.Label.isin([\"yes\", \"no\", \"up\", \"down\", \"left\", \"right\", \"on\", \"off\", \"stop\", \"go\", \"silence\"]), \"Label\"]=\"unknown\""
   ],
   "outputs": [],
   "metadata": {}
  },
  {
   "cell_type": "code",
   "execution_count": 19,
   "source": [
    "full_df.Label.unique()"
   ],
   "outputs": [
    {
     "output_type": "execute_result",
     "data": {
      "text/plain": [
       "array(['yes', 'no', 'up', 'down', 'left', 'right', 'on', 'off', 'stop',\n",
       "       'go', 'unknown', 'silence'], dtype=object)"
      ]
     },
     "metadata": {},
     "execution_count": 19
    }
   ],
   "metadata": {}
  },
  {
   "cell_type": "code",
   "execution_count": 20,
   "source": [
    "test_list = pd.read_csv(os.path.join(root_dir,\"testing_list.txt\"),header=None)[0].values\n",
    "train_df = full_df[~full_df['AudioPath'].isin(test_list)]\n",
    "test_df = full_df[full_df['AudioPath'].isin(test_list)]\n",
    "\n",
    "train_df['AudioPath'] = train_df.apply(lambda row: os.path.join('audio',str(row.AudioPath)), axis = 1)\n",
    "test_df['AudioPath'] = test_df.apply(lambda row: os.path.join('audio',str(row.AudioPath)), axis = 1)"
   ],
   "outputs": [
    {
     "output_type": "stream",
     "name": "stderr",
     "text": [
      "/tmp/ipykernel_3557477/3534063450.py:5: SettingWithCopyWarning: \n",
      "A value is trying to be set on a copy of a slice from a DataFrame.\n",
      "Try using .loc[row_indexer,col_indexer] = value instead\n",
      "\n",
      "See the caveats in the documentation: https://pandas.pydata.org/pandas-docs/stable/user_guide/indexing.html#returning-a-view-versus-a-copy\n",
      "  train_df['AudioPath'] = train_df.apply(lambda row: os.path.join('audio',str(row.AudioPath)), axis = 1)\n",
      "/tmp/ipykernel_3557477/3534063450.py:6: SettingWithCopyWarning: \n",
      "A value is trying to be set on a copy of a slice from a DataFrame.\n",
      "Try using .loc[row_indexer,col_indexer] = value instead\n",
      "\n",
      "See the caveats in the documentation: https://pandas.pydata.org/pandas-docs/stable/user_guide/indexing.html#returning-a-view-versus-a-copy\n",
      "  test_df['AudioPath'] = test_df.apply(lambda row: os.path.join('audio',str(row.AudioPath)), axis = 1)\n"
     ]
    }
   ],
   "metadata": {}
  },
  {
   "cell_type": "code",
   "execution_count": 21,
   "source": [
    "print(len(train_df))\n",
    "print(len(test_df))\n",
    "train_df.to_csv(os.path.join(root_dir,\"train_data.csv\"),index=False)\n",
    "test_df.to_csv(os.path.join(root_dir,\"test_data.csv\"),index=False)"
   ],
   "outputs": [
    {
     "output_type": "stream",
     "name": "stdout",
     "text": [
      "63886\n",
      "6835\n"
     ]
    }
   ],
   "metadata": {}
  },
  {
   "cell_type": "code",
   "execution_count": 14,
   "source": [
    "labels = pd.read_csv(\"/nlsasfs/home/nltm-pilot/sandeshk/icassp/data/speech_v1/labels.csv\")"
   ],
   "outputs": [],
   "metadata": {}
  },
  {
   "cell_type": "code",
   "execution_count": 21,
   "source": [
    "list1 = full_df.AudioPath.values"
   ],
   "outputs": [],
   "metadata": {}
  },
  {
   "cell_type": "code",
   "execution_count": 22,
   "source": [
    "list2 = labels.AudioPath.values"
   ],
   "outputs": [],
   "metadata": {}
  },
  {
   "cell_type": "code",
   "execution_count": 30,
   "source": [
    "len(np.unique(list1))"
   ],
   "outputs": [
    {
     "output_type": "execute_result",
     "data": {
      "text/plain": [
       "62991"
      ]
     },
     "metadata": {},
     "execution_count": 30
    }
   ],
   "metadata": {}
  },
  {
   "cell_type": "code",
   "execution_count": null,
   "source": [],
   "outputs": [],
   "metadata": {}
  },
  {
   "cell_type": "markdown",
   "source": [
    "# TUT Urban \n",
    "\n",
    "* total samples : 8640\n",
    "* fold1_train.txt 6122\n",
    "* fold1_test.txt 2518  == fold1_evaluate.txt 2518 "
   ],
   "metadata": {}
  },
  {
   "cell_type": "code",
   "execution_count": 41,
   "source": [
    "root_dir = root_dirs[\"tut_urban\"]\n",
    "train_df = pd.read_csv(os.path.join(root_dir,\"evaluation_setup\",\"fold1_train.txt\"),sep=\"\\t\",header=None)\n",
    "train_df.columns = [\"AudioPath\",\"Label\"]\n",
    "test_df = pd.read_csv(os.path.join(root_dir,\"evaluation_setup\",\"fold1_evaluate.txt\"),sep=\"\\t\",header=None)\n",
    "test_df.columns = [\"AudioPath\",\"Label\"]\n",
    "\n",
    "train_df['Path'] = train_df.apply(lambda row: os.path.join('spec',str(row.AudioPath).split('/')[-1]+'.npy'), axis = 1)\n",
    "train_df['PathL2'] = train_df.apply(lambda row: os.path.join('specl2',str(row.AudioPath).split('/')[-1]+'.npy'), axis = 1)\n",
    "\n",
    "test_df['Path'] = test_df.apply(lambda row: os.path.join('spec',str(row.AudioPath).split('/')[-1]+'.npy'), axis = 1)\n",
    "test_df['PathL2'] = test_df.apply(lambda row: os.path.join('specl2',str(row.AudioPath).split('/')[-1]+'.npy'), axis = 1)\n"
   ],
   "outputs": [],
   "metadata": {}
  },
  {
   "cell_type": "code",
   "execution_count": 42,
   "source": [
    "train_df = train_df.reindex(columns=['Label','AudioPath','Path','PathL2'])\n",
    "test_df = test_df.reindex(columns=['Label','AudioPath','Path','PathL2'])\n",
    "train_df.to_csv(os.path.join(root_dir,'train_data.csv'),index=False)\n",
    "test_df.to_csv(os.path.join(root_dir,'test_data.csv'),index=False)"
   ],
   "outputs": [],
   "metadata": {}
  },
  {
   "cell_type": "markdown",
   "source": [
    "# Libri100\n",
    "\n",
    "* train samples  : 22830\n",
    "* test samples : 5708\n",
    "* 585 speakers"
   ],
   "metadata": {}
  },
  {
   "cell_type": "code",
   "execution_count": 6,
   "source": [
    "root_dir = \"/nlsasfs/home/nltm-pilot/sandeshk/icassp/data/libri100\"\n",
    "utt2spk_root = os.path.join(root_dir,\"utt2spk\")\n",
    "utt2spk = dict()\n",
    "with open(utt2spk_root) as f:\n",
    "    for x in tqdm(f):\n",
    "        key , value = x.split()\n",
    "        if utt2spk.get(key, None)==None:\n",
    "            utt2spk[key] = value #.add(1, 'Geeks')\n",
    "        else:\n",
    "            raise NotImplementedError    \n"
   ],
   "outputs": [
    {
     "output_type": "stream",
     "name": "stderr",
     "text": [
      "28539it [00:00, 663363.23it/s]\n"
     ]
    }
   ],
   "metadata": {}
  },
  {
   "cell_type": "code",
   "execution_count": 7,
   "source": [
    "train_txt = os.path.join(root_dir,\"train_split.txt\")\n",
    "test_txt = os.path.join(root_dir,\"test_split.txt\")\n",
    "train_ids = []\n",
    "test_ids = []\n",
    "\n",
    "print(\"no_of_speakers\",len(set(utt2spk.values())))\n",
    "\n",
    "\n",
    "with open(test_txt) as f:\n",
    "    test_ids = f.read().splitlines() \n",
    "\n",
    "\n",
    "test_csv = pd.DataFrame(columns = ['AudioPath', 'Label'])\n",
    "test_speakers=[]\n",
    "for i in tqdm(test_ids):\n",
    "    test_speakers.append(utt2spk[i])\n",
    "    test_csv = test_csv.append({'AudioPath' : i+'.wav', 'Label' : utt2spk[i] }, \n",
    "                ignore_index = True)\n",
    "print(\"no_of_speakers\",len(set(test_speakers)))\n",
    "\n",
    "\n",
    "\n",
    "with open(train_txt) as f:\n",
    "    train_ids = f.read().splitlines() \n",
    "\n",
    "\n",
    "train_csv = pd.DataFrame(columns = ['AudioPath', 'Label'])\n",
    "train_speakers=[]\n",
    "for i in tqdm(train_ids):\n",
    "    train_speakers.append(utt2spk[i])\n",
    "    train_csv = train_csv.append({'AudioPath' : i+'.wav', 'Label' : utt2spk[i] }, \n",
    "                ignore_index = True)\n",
    "print(\"no_of_speakers\",len(set(train_speakers)))\n"
   ],
   "outputs": [
    {
     "output_type": "stream",
     "name": "stdout",
     "text": [
      "no_of_speakers 585\n"
     ]
    },
    {
     "output_type": "stream",
     "name": "stderr",
     "text": [
      "100%|██████████| 5708/5708 [00:05<00:00, 956.16it/s]\n"
     ]
    },
    {
     "output_type": "stream",
     "name": "stdout",
     "text": [
      "no_of_speakers 585\n"
     ]
    },
    {
     "output_type": "stream",
     "name": "stderr",
     "text": [
      "100%|██████████| 22830/22830 [00:25<00:00, 899.97it/s]"
     ]
    },
    {
     "output_type": "stream",
     "name": "stdout",
     "text": [
      "no_of_speakers 585\n"
     ]
    },
    {
     "output_type": "stream",
     "name": "stderr",
     "text": [
      "\n"
     ]
    }
   ],
   "metadata": {}
  },
  {
   "cell_type": "code",
   "execution_count": 9,
   "source": [
    "len(test_csv)"
   ],
   "outputs": [
    {
     "output_type": "execute_result",
     "data": {
      "text/plain": [
       "5708"
      ]
     },
     "metadata": {},
     "execution_count": 9
    }
   ],
   "metadata": {}
  },
  {
   "cell_type": "code",
   "execution_count": 60,
   "source": [
    "train_csv['Path'] = train_csv.apply(lambda row: os.path.join('spec',str(row.AudioPath)+'.npy'), axis = 1)\n",
    "train_csv['PathL2'] = train_csv.apply(lambda row: os.path.join('specl2',str(row.AudioPath)+'.npy'), axis = 1)\n",
    "\n",
    "test_csv['Path'] = test_csv.apply(lambda row: os.path.join('spec',str(row.AudioPath)+'.npy'), axis = 1)\n",
    "test_csv['PathL2'] = test_csv.apply(lambda row: os.path.join('specl2',str(row.AudioPath)+'.npy'), axis = 1)"
   ],
   "outputs": [],
   "metadata": {}
  },
  {
   "cell_type": "code",
   "execution_count": 62,
   "source": [
    "train_csv.to_csv(os.path.join(root_dir,\"train_data.csv\"),index=False)\n",
    "test_csv.to_csv(os.path.join(root_dir,\"test_data.csv\"),index=False)"
   ],
   "outputs": [],
   "metadata": {}
  },
  {
   "cell_type": "markdown",
   "source": [
    "# Speech Commands v2\n",
    "\n",
    "* labels :35\n",
    "* total data samples 105829\n",
    "* train : 94824\n",
    "* test  : 11005"
   ],
   "metadata": {}
  },
  {
   "cell_type": "code",
   "execution_count": null,
   "source": [
    "test_labels = [\"yes\", \"no\", \"up\", \"down\",\"left\", \"right\", \"on\", \"off\", \"stop\", \"go\",\"zero\",\"one\" ] #10\n",
    "core_labels = test_labels + [\"two\",\"three\",\"four\",\"five\",\"six\",\"seven\",\"eight\",\"nine\"] # 20\n",
    "auxliary_labels = [\"bird\",\"dog\",\"happy\", \"wow\",\"bed\",\"cat\",\"house\",\"marvin\",\"sheila\",\"tree\"] #10"
   ],
   "outputs": [],
   "metadata": {}
  },
  {
   "cell_type": "code",
   "execution_count": 11,
   "source": [
    "root_dir = \"/nlsasfs/home/nltm-pilot/sandeshk/icassp/data/speechv2/train\"\n",
    "\n",
    "labels = [ \"bird\",\"down\",\"follow\",\"go\",\"learn\", \"silence\",\n",
    "\"nine\",\"on\",\"seven\",\"stop\",\"two\",\"wow\",\"backward\",\"cat\",\"eight\",\"forward\",\"happy\",\n",
    "\"left\",\"no\",\"one\",\"sheila\",\"three\",\"up\", \"yes\",\"bed\",\"dog\",\"five\",\n",
    "\"four\",\"house\",\"marvin\",\"off\",\"right\",\"six\",\"tree\",\"visual\",\"zero\"]\n",
    "\n",
    "full_df = pd.DataFrame(columns = [ 'AudioPath', 'Label'])\n",
    "audio_root_dir = os.path.join(root_dir , \"audio\")\n",
    "\n",
    "for labe_id,label in tqdm(enumerate(labels)):\n",
    "    audiofiles = os.listdir(os.path.join(audio_root_dir,label))\n",
    "    for file in tqdm(audiofiles ,leave=False):\n",
    "        file_path = os.path.join(label,file)\n",
    "        full_df=full_df.append( {'AudioPath' : file_path, 'Label' : label} , ignore_index = True)\n",
    "full_df.to_csv(os.path.join(root_dir,\"labels.csv\"),index=False)\n",
    "full_df['Path'] = full_df.apply(lambda row: os.path.join('spec',str(row.AudioPath)+'.npy'), axis = 1)\n",
    "full_df['PathL2'] = full_df.apply(lambda row: os.path.join('specl2',str(row.AudioPath)+'.npy'), axis = 1)\n"
   ],
   "outputs": [
    {
     "output_type": "stream",
     "name": "stderr",
     "text": [
      "36it [03:10,  5.29s/it]\n"
     ]
    }
   ],
   "metadata": {}
  },
  {
   "cell_type": "code",
   "execution_count": 12,
   "source": [
    "len(full_df)"
   ],
   "outputs": [
    {
     "output_type": "execute_result",
     "data": {
      "text/plain": [
       "111829"
      ]
     },
     "metadata": {},
     "execution_count": 12
    }
   ],
   "metadata": {}
  },
  {
   "cell_type": "code",
   "execution_count": 33,
   "source": [
    "full_df.loc[~full_df.Label.isin([\"yes\", \"no\", \"up\", \"down\", \"left\", \"right\", \"on\", \"off\", \"stop\", \"go\", \"silence\"]), \"Label\"]=\"unknown\""
   ],
   "outputs": [],
   "metadata": {}
  },
  {
   "cell_type": "code",
   "execution_count": 34,
   "source": [
    "full_df.Label.unique()"
   ],
   "outputs": [
    {
     "output_type": "execute_result",
     "data": {
      "text/plain": [
       "array(['unknown', 'down', 'go', 'silence', 'on', 'stop', 'left', 'no',\n",
       "       'up', 'yes', 'off', 'right'], dtype=object)"
      ]
     },
     "metadata": {},
     "execution_count": 34
    }
   ],
   "metadata": {}
  },
  {
   "cell_type": "code",
   "execution_count": 19,
   "source": [
    "full_df.to_csv(os.path.join(root_dir,\"labels.csv\"),index=False)"
   ],
   "outputs": [],
   "metadata": {}
  },
  {
   "cell_type": "code",
   "execution_count": 35,
   "source": [
    "test_list = pd.read_csv(os.path.join(root_dir,\"testing_list.txt\"),header=None)[0].values\n",
    "train_df = full_df[~full_df['AudioPath'].isin(test_list)]\n",
    "test_df = full_df[full_df['AudioPath'].isin(test_list)]\n",
    "\n",
    "train_df['AudioPath'] = train_df.apply(lambda row: os.path.join('audio',str(row.AudioPath)), axis = 1)\n",
    "test_df['AudioPath'] = test_df.apply(lambda row: os.path.join('audio',str(row.AudioPath)), axis = 1)"
   ],
   "outputs": [
    {
     "output_type": "stream",
     "name": "stderr",
     "text": [
      "/tmp/ipykernel_231921/3534063450.py:5: SettingWithCopyWarning: \n",
      "A value is trying to be set on a copy of a slice from a DataFrame.\n",
      "Try using .loc[row_indexer,col_indexer] = value instead\n",
      "\n",
      "See the caveats in the documentation: https://pandas.pydata.org/pandas-docs/stable/user_guide/indexing.html#returning-a-view-versus-a-copy\n",
      "  train_df['AudioPath'] = train_df.apply(lambda row: os.path.join('audio',str(row.AudioPath)), axis = 1)\n",
      "/tmp/ipykernel_231921/3534063450.py:6: SettingWithCopyWarning: \n",
      "A value is trying to be set on a copy of a slice from a DataFrame.\n",
      "Try using .loc[row_indexer,col_indexer] = value instead\n",
      "\n",
      "See the caveats in the documentation: https://pandas.pydata.org/pandas-docs/stable/user_guide/indexing.html#returning-a-view-versus-a-copy\n",
      "  test_df['AudioPath'] = test_df.apply(lambda row: os.path.join('audio',str(row.AudioPath)), axis = 1)\n"
     ]
    }
   ],
   "metadata": {}
  },
  {
   "cell_type": "code",
   "execution_count": 36,
   "source": [
    "train_df.to_csv(os.path.join(root_dir,\"train_data.csv\"),index=False)\n",
    "test_df.to_csv(os.path.join(root_dir,\"test_data.csv\"),index=False)"
   ],
   "outputs": [],
   "metadata": {}
  },
  {
   "cell_type": "code",
   "execution_count": 37,
   "source": [
    "train_df.Label.unique()"
   ],
   "outputs": [
    {
     "output_type": "execute_result",
     "data": {
      "text/plain": [
       "array(['unknown', 'down', 'go', 'silence', 'on', 'stop', 'left', 'no',\n",
       "       'up', 'yes', 'off', 'right'], dtype=object)"
      ]
     },
     "metadata": {},
     "execution_count": 37
    }
   ],
   "metadata": {}
  },
  {
   "cell_type": "markdown",
   "source": [
    "# Chopping wave files for speechv2"
   ],
   "metadata": {}
  },
  {
   "cell_type": "code",
   "execution_count": 3,
   "source": [
    "full_df"
   ],
   "outputs": [
    {
     "output_type": "execute_result",
     "data": {
      "text/html": [
       "<div>\n",
       "<style scoped>\n",
       "    .dataframe tbody tr th:only-of-type {\n",
       "        vertical-align: middle;\n",
       "    }\n",
       "\n",
       "    .dataframe tbody tr th {\n",
       "        vertical-align: top;\n",
       "    }\n",
       "\n",
       "    .dataframe thead th {\n",
       "        text-align: right;\n",
       "    }\n",
       "</style>\n",
       "<table border=\"1\" class=\"dataframe\">\n",
       "  <thead>\n",
       "    <tr style=\"text-align: right;\">\n",
       "      <th></th>\n",
       "      <th>AudioPath</th>\n",
       "      <th>Label</th>\n",
       "      <th>Path</th>\n",
       "      <th>PathL2</th>\n",
       "    </tr>\n",
       "  </thead>\n",
       "  <tbody>\n",
       "    <tr>\n",
       "      <th>0</th>\n",
       "      <td>bird/b91b718c_nohash_0.wav</td>\n",
       "      <td>bird</td>\n",
       "      <td>spec/bird/b91b718c_nohash_0.wav.npy</td>\n",
       "      <td>specl2/bird/b91b718c_nohash_0.wav.npy</td>\n",
       "    </tr>\n",
       "    <tr>\n",
       "      <th>1</th>\n",
       "      <td>bird/146d97db_nohash_0.wav</td>\n",
       "      <td>bird</td>\n",
       "      <td>spec/bird/146d97db_nohash_0.wav.npy</td>\n",
       "      <td>specl2/bird/146d97db_nohash_0.wav.npy</td>\n",
       "    </tr>\n",
       "    <tr>\n",
       "      <th>2</th>\n",
       "      <td>bird/46114b4e_nohash_0.wav</td>\n",
       "      <td>bird</td>\n",
       "      <td>spec/bird/46114b4e_nohash_0.wav.npy</td>\n",
       "      <td>specl2/bird/46114b4e_nohash_0.wav.npy</td>\n",
       "    </tr>\n",
       "    <tr>\n",
       "      <th>3</th>\n",
       "      <td>bird/ce9410da_nohash_0.wav</td>\n",
       "      <td>bird</td>\n",
       "      <td>spec/bird/ce9410da_nohash_0.wav.npy</td>\n",
       "      <td>specl2/bird/ce9410da_nohash_0.wav.npy</td>\n",
       "    </tr>\n",
       "    <tr>\n",
       "      <th>4</th>\n",
       "      <td>bird/8931f494_nohash_0.wav</td>\n",
       "      <td>bird</td>\n",
       "      <td>spec/bird/8931f494_nohash_0.wav.npy</td>\n",
       "      <td>specl2/bird/8931f494_nohash_0.wav.npy</td>\n",
       "    </tr>\n",
       "    <tr>\n",
       "      <th>...</th>\n",
       "      <td>...</td>\n",
       "      <td>...</td>\n",
       "      <td>...</td>\n",
       "      <td>...</td>\n",
       "    </tr>\n",
       "    <tr>\n",
       "      <th>105824</th>\n",
       "      <td>zero/179a61b7_nohash_3.wav</td>\n",
       "      <td>zero</td>\n",
       "      <td>spec/zero/179a61b7_nohash_3.wav.npy</td>\n",
       "      <td>specl2/zero/179a61b7_nohash_3.wav.npy</td>\n",
       "    </tr>\n",
       "    <tr>\n",
       "      <th>105825</th>\n",
       "      <td>zero/3a182c98_nohash_0.wav</td>\n",
       "      <td>zero</td>\n",
       "      <td>spec/zero/3a182c98_nohash_0.wav.npy</td>\n",
       "      <td>specl2/zero/3a182c98_nohash_0.wav.npy</td>\n",
       "    </tr>\n",
       "    <tr>\n",
       "      <th>105826</th>\n",
       "      <td>zero/619b5164_nohash_1.wav</td>\n",
       "      <td>zero</td>\n",
       "      <td>spec/zero/619b5164_nohash_1.wav.npy</td>\n",
       "      <td>specl2/zero/619b5164_nohash_1.wav.npy</td>\n",
       "    </tr>\n",
       "    <tr>\n",
       "      <th>105827</th>\n",
       "      <td>zero/54412eae_nohash_1.wav</td>\n",
       "      <td>zero</td>\n",
       "      <td>spec/zero/54412eae_nohash_1.wav.npy</td>\n",
       "      <td>specl2/zero/54412eae_nohash_1.wav.npy</td>\n",
       "    </tr>\n",
       "    <tr>\n",
       "      <th>105828</th>\n",
       "      <td>zero/821b64cc_nohash_0.wav</td>\n",
       "      <td>zero</td>\n",
       "      <td>spec/zero/821b64cc_nohash_0.wav.npy</td>\n",
       "      <td>specl2/zero/821b64cc_nohash_0.wav.npy</td>\n",
       "    </tr>\n",
       "  </tbody>\n",
       "</table>\n",
       "<p>105829 rows × 4 columns</p>\n",
       "</div>"
      ],
      "text/plain": [
       "                         AudioPath Label                                 Path  \\\n",
       "0       bird/b91b718c_nohash_0.wav  bird  spec/bird/b91b718c_nohash_0.wav.npy   \n",
       "1       bird/146d97db_nohash_0.wav  bird  spec/bird/146d97db_nohash_0.wav.npy   \n",
       "2       bird/46114b4e_nohash_0.wav  bird  spec/bird/46114b4e_nohash_0.wav.npy   \n",
       "3       bird/ce9410da_nohash_0.wav  bird  spec/bird/ce9410da_nohash_0.wav.npy   \n",
       "4       bird/8931f494_nohash_0.wav  bird  spec/bird/8931f494_nohash_0.wav.npy   \n",
       "...                            ...   ...                                  ...   \n",
       "105824  zero/179a61b7_nohash_3.wav  zero  spec/zero/179a61b7_nohash_3.wav.npy   \n",
       "105825  zero/3a182c98_nohash_0.wav  zero  spec/zero/3a182c98_nohash_0.wav.npy   \n",
       "105826  zero/619b5164_nohash_1.wav  zero  spec/zero/619b5164_nohash_1.wav.npy   \n",
       "105827  zero/54412eae_nohash_1.wav  zero  spec/zero/54412eae_nohash_1.wav.npy   \n",
       "105828  zero/821b64cc_nohash_0.wav  zero  spec/zero/821b64cc_nohash_0.wav.npy   \n",
       "\n",
       "                                       PathL2  \n",
       "0       specl2/bird/b91b718c_nohash_0.wav.npy  \n",
       "1       specl2/bird/146d97db_nohash_0.wav.npy  \n",
       "2       specl2/bird/46114b4e_nohash_0.wav.npy  \n",
       "3       specl2/bird/ce9410da_nohash_0.wav.npy  \n",
       "4       specl2/bird/8931f494_nohash_0.wav.npy  \n",
       "...                                       ...  \n",
       "105824  specl2/zero/179a61b7_nohash_3.wav.npy  \n",
       "105825  specl2/zero/3a182c98_nohash_0.wav.npy  \n",
       "105826  specl2/zero/619b5164_nohash_1.wav.npy  \n",
       "105827  specl2/zero/54412eae_nohash_1.wav.npy  \n",
       "105828  specl2/zero/821b64cc_nohash_0.wav.npy  \n",
       "\n",
       "[105829 rows x 4 columns]"
      ]
     },
     "metadata": {},
     "execution_count": 3
    }
   ],
   "metadata": {}
  },
  {
   "cell_type": "code",
   "execution_count": 4,
   "source": [
    "fig, ax = plt.subplots(figsize =(5,3))\n",
    "ax.hist(full_df[\"Label\"].values,bins=20)\n",
    "plt.show()"
   ],
   "outputs": [
    {
     "output_type": "display_data",
     "data": {
      "image/png": "[encoded data removed]",
      "text/plain": [
       "<Figure size 360x216 with 1 Axes>"
      ]
     },
     "metadata": {
      "needs_background": "light"
     }
    }
   ],
   "metadata": {}
  },
  {
   "cell_type": "code",
   "execution_count": 5,
   "source": [
    "# 6000 \n",
    "\n",
    "wav_file = AudioSegment.from_file(file = os.path.join('/nlsasfs/home/nltm-pilot/sandeshk/icassp/data/speechv2/train/audio/_background_noise_/dude_miaowing.wav'), format = \"wav\")"
   ],
   "outputs": [],
   "metadata": {}
  },
  {
   "cell_type": "code",
   "execution_count": null,
   "source": [],
   "outputs": [],
   "metadata": {}
  },
  {
   "cell_type": "code",
   "execution_count": 7,
   "source": [
    "extract = wav_file[0:1000]"
   ],
   "outputs": [],
   "metadata": {}
  },
  {
   "cell_type": "code",
   "execution_count": 10,
   "source": [
    "len(extract)\n",
    "len(wav_file)"
   ],
   "outputs": [
    {
     "output_type": "execute_result",
     "data": {
      "text/plain": [
       "61806"
      ]
     },
     "metadata": {},
     "execution_count": 10
    }
   ],
   "metadata": {}
  },
  {
   "cell_type": "code",
   "execution_count": 17,
   "source": [
    "def chop_audio(wav_file, L=1000, num=20):\n",
    "    wav_file = AudioSegment.from_file(file = wav_file, format = \"wav\")\n",
    "    for i in range(num):\n",
    "        beg = np.random.randint(0, len(wav_file) - L)\n",
    "        yield wav_file[beg: beg + L]\n",
    "\n",
    "root_dir =\"/nlsasfs/home/nltm-pilot/sandeshk/icassp/data/speechv2/train/audio/\"\n",
    "list_sounds = ['doing_the_dishes.wav'] +  ['dude_miaowing.wav','exercise_bike.wav','pink_noise.wav','running_tap.wav','white_noise.wav']\n",
    "\n",
    "for file in tqdm(list_sounds):\n",
    "    for i,chop_file in tqdm(enumerate(chop_audio(os.path.join(root_dir,'_background_noise_',file),num=1000))):\n",
    "        chop_file.export( os.path.join(root_dir,'silence',file.split('.')[0]+str(i)+'.wav'), format=\"wav\")\n",
    "        \n",
    "\n"
   ],
   "outputs": [
    {
     "output_type": "stream",
     "name": "stderr",
     "text": [
      "1000it [00:01, 856.70it/s]\n",
      "1000it [00:01, 874.52it/s]\n",
      "1000it [00:01, 868.84it/s]\n",
      "1000it [00:01, 890.27it/s]\n",
      "1000it [00:01, 883.54it/s]\n",
      "1000it [00:01, 913.77it/s]\n",
      "100%|██████████| 6/6 [00:06<00:00,  1.14s/it]\n"
     ]
    }
   ],
   "metadata": {}
  },
  {
   "cell_type": "code",
   "execution_count": null,
   "source": [],
   "outputs": [],
   "metadata": {}
  },
  {
   "cell_type": "markdown",
   "source": [
    "# Musical Instruments"
   ],
   "metadata": {}
  },
  {
   "cell_type": "code",
   "execution_count": 7,
   "source": [
    "\n",
    "root_dir = root_dirs[\"MusicalInstruments\"] \n",
    "\n",
    "fi = open(os.path.join(root_dir,'nsynth-train','examples.json'))\n",
    "train_json = json.load(fi)\n",
    "train_csv=pd.DataFrame(columns=['AudioPath','Path','Label'])\n",
    "for key in tqdm(train_json.keys()):\n",
    "    train_csv=train_csv.append({'Path' : os.path.join('nsynth-train','spec',key+'.wav.npy'),\n",
    "                                'Label' : train_json[key]['instrument_family'] ,\n",
    "                                'AudioPath' : os.path.join('nsynth-train','audio',key+'.wav'),\n",
    "                                },ignore_index=True)\n",
    "fi.close()\n",
    "\n",
    "fi = open(os.path.join(root_dir,'nsynth-valid','examples.json'))\n",
    "valid_json = json.load(fi)\n",
    "\n",
    "valid_csv=pd.DataFrame(columns=['AudioPath','Path','Label'])\n",
    "for key in tqdm(valid_json.keys()):\n",
    "    valid_csv=valid_csv.append({'Path' : os.path.join('nsynth-valid','spec',key+'.wav.npy'),\n",
    "                                'Label' : valid_json[key]['instrument_family'],\n",
    "                                'AudioPath' : os.path.join('nsynth-valid','audio',key+'.wav'), \n",
    "    },ignore_index=True)\n",
    "fi.close()\n",
    "\n",
    "fi = open(os.path.join(root_dir,'nsynth-test','examples.json'))\n",
    "test_json = json.load(fi)\n",
    "\n",
    "test_csv=pd.DataFrame(columns=['AudioPath','Path','Label'])\n",
    "for key in tqdm(valid_json.keys()):\n",
    "    test_csv=test_csv.append({'Path' : os.path.join('nsynth-test','spec',key+'.wav.npy'),\n",
    "                                'Label' : valid_json[key]['instrument_family'],\n",
    "                                'AudioPath' : os.path.join('nsynth-test','audio',key+'.wav'), \n",
    "                                },ignore_index=True)\n",
    "fi.close()\n",
    "\n",
    "# train_csv.to_csv(os.path.join(root_dir,'train_data.csv'),index=False)\n",
    "# valid_csv.to_csv(os.path.join(root_dir,'valid_data.csv'),index=False)\n",
    "# test_csv.to_csv(os.path.join(root_dir,'test_data.csv'),index=False)"
   ],
   "outputs": [
    {
     "output_type": "stream",
     "name": "stderr",
     "text": [
      " 65%|██████▍   | 187043/289205 [18:43<10:13, 166.46it/s]\n"
     ]
    },
    {
     "output_type": "error",
     "ename": "KeyboardInterrupt",
     "evalue": "",
     "traceback": [
      "\u001b[0;31m---------------------------------------------------------------------------\u001b[0m",
      "\u001b[0;31mKeyboardInterrupt\u001b[0m                         Traceback (most recent call last)",
      "\u001b[0;32m/tmp/ipykernel_805563/1611594003.py\u001b[0m in \u001b[0;36m<module>\u001b[0;34m\u001b[0m\n\u001b[1;32m      5\u001b[0m \u001b[0mtrain_csv\u001b[0m\u001b[0;34m=\u001b[0m\u001b[0mpd\u001b[0m\u001b[0;34m.\u001b[0m\u001b[0mDataFrame\u001b[0m\u001b[0;34m(\u001b[0m\u001b[0mcolumns\u001b[0m\u001b[0;34m=\u001b[0m\u001b[0;34m[\u001b[0m\u001b[0;34m'AudioPath'\u001b[0m\u001b[0;34m,\u001b[0m\u001b[0;34m'Path'\u001b[0m\u001b[0;34m,\u001b[0m\u001b[0;34m'Label'\u001b[0m\u001b[0;34m]\u001b[0m\u001b[0;34m)\u001b[0m\u001b[0;34m\u001b[0m\u001b[0;34m\u001b[0m\u001b[0m\n\u001b[1;32m      6\u001b[0m \u001b[0;32mfor\u001b[0m \u001b[0mkey\u001b[0m \u001b[0;32min\u001b[0m \u001b[0mtqdm\u001b[0m\u001b[0;34m(\u001b[0m\u001b[0mtrain_json\u001b[0m\u001b[0;34m.\u001b[0m\u001b[0mkeys\u001b[0m\u001b[0;34m(\u001b[0m\u001b[0;34m)\u001b[0m\u001b[0;34m)\u001b[0m\u001b[0;34m:\u001b[0m\u001b[0;34m\u001b[0m\u001b[0;34m\u001b[0m\u001b[0m\n\u001b[0;32m----> 7\u001b[0;31m     train_csv=train_csv.append({'Path' : os.path.join('nsynth-train','spec',key+'.wav.npy'),\n\u001b[0m\u001b[1;32m      8\u001b[0m                                 \u001b[0;34m'Label'\u001b[0m \u001b[0;34m:\u001b[0m \u001b[0mtrain_json\u001b[0m\u001b[0;34m[\u001b[0m\u001b[0mkey\u001b[0m\u001b[0;34m]\u001b[0m\u001b[0;34m[\u001b[0m\u001b[0;34m'instrument_family'\u001b[0m\u001b[0;34m]\u001b[0m \u001b[0;34m,\u001b[0m\u001b[0;34m\u001b[0m\u001b[0;34m\u001b[0m\u001b[0m\n\u001b[1;32m      9\u001b[0m                                 \u001b[0;34m'AudioPath'\u001b[0m \u001b[0;34m:\u001b[0m \u001b[0mos\u001b[0m\u001b[0;34m.\u001b[0m\u001b[0mpath\u001b[0m\u001b[0;34m.\u001b[0m\u001b[0mjoin\u001b[0m\u001b[0;34m(\u001b[0m\u001b[0;34m'nsynth-train'\u001b[0m\u001b[0;34m,\u001b[0m\u001b[0;34m'audio'\u001b[0m\u001b[0;34m,\u001b[0m\u001b[0mkey\u001b[0m\u001b[0;34m+\u001b[0m\u001b[0;34m'.wav'\u001b[0m\u001b[0;34m)\u001b[0m\u001b[0;34m,\u001b[0m\u001b[0;34m\u001b[0m\u001b[0;34m\u001b[0m\u001b[0m\n",
      "\u001b[0;32m~/miniconda3/envs/default/lib/python3.8/site-packages/pandas/core/frame.py\u001b[0m in \u001b[0;36mappend\u001b[0;34m(self, other, ignore_index, verify_integrity, sort)\u001b[0m\n\u001b[1;32m   8964\u001b[0m             \u001b[0mto_concat\u001b[0m \u001b[0;34m=\u001b[0m \u001b[0;34m[\u001b[0m\u001b[0mself\u001b[0m\u001b[0;34m,\u001b[0m \u001b[0mother\u001b[0m\u001b[0;34m]\u001b[0m\u001b[0;34m\u001b[0m\u001b[0;34m\u001b[0m\u001b[0m\n\u001b[1;32m   8965\u001b[0m         return (\n\u001b[0;32m-> 8966\u001b[0;31m             concat(\n\u001b[0m\u001b[1;32m   8967\u001b[0m                 \u001b[0mto_concat\u001b[0m\u001b[0;34m,\u001b[0m\u001b[0;34m\u001b[0m\u001b[0;34m\u001b[0m\u001b[0m\n\u001b[1;32m   8968\u001b[0m                 \u001b[0mignore_index\u001b[0m\u001b[0;34m=\u001b[0m\u001b[0mignore_index\u001b[0m\u001b[0;34m,\u001b[0m\u001b[0;34m\u001b[0m\u001b[0;34m\u001b[0m\u001b[0m\n",
      "\u001b[0;32m~/miniconda3/envs/default/lib/python3.8/site-packages/pandas/util/_decorators.py\u001b[0m in \u001b[0;36mwrapper\u001b[0;34m(*args, **kwargs)\u001b[0m\n\u001b[1;32m    309\u001b[0m                     \u001b[0mstacklevel\u001b[0m\u001b[0;34m=\u001b[0m\u001b[0mstacklevel\u001b[0m\u001b[0;34m,\u001b[0m\u001b[0;34m\u001b[0m\u001b[0;34m\u001b[0m\u001b[0m\n\u001b[1;32m    310\u001b[0m                 )\n\u001b[0;32m--> 311\u001b[0;31m             \u001b[0;32mreturn\u001b[0m \u001b[0mfunc\u001b[0m\u001b[0;34m(\u001b[0m\u001b[0;34m*\u001b[0m\u001b[0margs\u001b[0m\u001b[0;34m,\u001b[0m \u001b[0;34m**\u001b[0m\u001b[0mkwargs\u001b[0m\u001b[0;34m)\u001b[0m\u001b[0;34m\u001b[0m\u001b[0;34m\u001b[0m\u001b[0m\n\u001b[0m\u001b[1;32m    312\u001b[0m \u001b[0;34m\u001b[0m\u001b[0m\n\u001b[1;32m    313\u001b[0m         \u001b[0;32mreturn\u001b[0m \u001b[0mwrapper\u001b[0m\u001b[0;34m\u001b[0m\u001b[0;34m\u001b[0m\u001b[0m\n",
      "\u001b[0;32m~/miniconda3/envs/default/lib/python3.8/site-packages/pandas/core/reshape/concat.py\u001b[0m in \u001b[0;36mconcat\u001b[0;34m(objs, axis, join, ignore_index, keys, levels, names, verify_integrity, sort, copy)\u001b[0m\n\u001b[1;32m    305\u001b[0m     )\n\u001b[1;32m    306\u001b[0m \u001b[0;34m\u001b[0m\u001b[0m\n\u001b[0;32m--> 307\u001b[0;31m     \u001b[0;32mreturn\u001b[0m \u001b[0mop\u001b[0m\u001b[0;34m.\u001b[0m\u001b[0mget_result\u001b[0m\u001b[0;34m(\u001b[0m\u001b[0;34m)\u001b[0m\u001b[0;34m\u001b[0m\u001b[0;34m\u001b[0m\u001b[0m\n\u001b[0m\u001b[1;32m    308\u001b[0m \u001b[0;34m\u001b[0m\u001b[0m\n\u001b[1;32m    309\u001b[0m \u001b[0;34m\u001b[0m\u001b[0m\n",
      "\u001b[0;32m~/miniconda3/envs/default/lib/python3.8/site-packages/pandas/core/reshape/concat.py\u001b[0m in \u001b[0;36mget_result\u001b[0;34m(self)\u001b[0m\n\u001b[1;32m    530\u001b[0m                 \u001b[0mmgrs_indexers\u001b[0m\u001b[0;34m.\u001b[0m\u001b[0mappend\u001b[0m\u001b[0;34m(\u001b[0m\u001b[0;34m(\u001b[0m\u001b[0mobj\u001b[0m\u001b[0;34m.\u001b[0m\u001b[0m_mgr\u001b[0m\u001b[0;34m,\u001b[0m \u001b[0mindexers\u001b[0m\u001b[0;34m)\u001b[0m\u001b[0;34m)\u001b[0m\u001b[0;34m\u001b[0m\u001b[0;34m\u001b[0m\u001b[0m\n\u001b[1;32m    531\u001b[0m \u001b[0;34m\u001b[0m\u001b[0m\n\u001b[0;32m--> 532\u001b[0;31m             new_data = concatenate_managers(\n\u001b[0m\u001b[1;32m    533\u001b[0m                 \u001b[0mmgrs_indexers\u001b[0m\u001b[0;34m,\u001b[0m \u001b[0mself\u001b[0m\u001b[0;34m.\u001b[0m\u001b[0mnew_axes\u001b[0m\u001b[0;34m,\u001b[0m \u001b[0mconcat_axis\u001b[0m\u001b[0;34m=\u001b[0m\u001b[0mself\u001b[0m\u001b[0;34m.\u001b[0m\u001b[0mbm_axis\u001b[0m\u001b[0;34m,\u001b[0m \u001b[0mcopy\u001b[0m\u001b[0;34m=\u001b[0m\u001b[0mself\u001b[0m\u001b[0;34m.\u001b[0m\u001b[0mcopy\u001b[0m\u001b[0;34m\u001b[0m\u001b[0;34m\u001b[0m\u001b[0m\n\u001b[1;32m    534\u001b[0m             )\n",
      "\u001b[0;32m~/miniconda3/envs/default/lib/python3.8/site-packages/pandas/core/internals/concat.py\u001b[0m in \u001b[0;36mconcatenate_managers\u001b[0;34m(mgrs_indexers, axes, concat_axis, copy)\u001b[0m\n\u001b[1;32m    207\u001b[0m                 \u001b[0mvalues\u001b[0m \u001b[0;34m=\u001b[0m \u001b[0mvalues\u001b[0m\u001b[0;34m.\u001b[0m\u001b[0mview\u001b[0m\u001b[0;34m(\u001b[0m\u001b[0;34m)\u001b[0m\u001b[0;34m\u001b[0m\u001b[0;34m\u001b[0m\u001b[0m\n\u001b[1;32m    208\u001b[0m             \u001b[0mfastpath\u001b[0m \u001b[0;34m=\u001b[0m \u001b[0;32mTrue\u001b[0m\u001b[0;34m\u001b[0m\u001b[0;34m\u001b[0m\u001b[0m\n\u001b[0;32m--> 209\u001b[0;31m         \u001b[0;32melif\u001b[0m \u001b[0m_is_uniform_join_units\u001b[0m\u001b[0;34m(\u001b[0m\u001b[0mjoin_units\u001b[0m\u001b[0;34m)\u001b[0m\u001b[0;34m:\u001b[0m\u001b[0;34m\u001b[0m\u001b[0;34m\u001b[0m\u001b[0m\n\u001b[0m\u001b[1;32m    210\u001b[0m             \u001b[0mvals\u001b[0m \u001b[0;34m=\u001b[0m \u001b[0;34m[\u001b[0m\u001b[0mju\u001b[0m\u001b[0;34m.\u001b[0m\u001b[0mblock\u001b[0m\u001b[0;34m.\u001b[0m\u001b[0mvalues\u001b[0m \u001b[0;32mfor\u001b[0m \u001b[0mju\u001b[0m \u001b[0;32min\u001b[0m \u001b[0mjoin_units\u001b[0m\u001b[0;34m]\u001b[0m\u001b[0;34m\u001b[0m\u001b[0;34m\u001b[0m\u001b[0m\n\u001b[1;32m    211\u001b[0m \u001b[0;34m\u001b[0m\u001b[0m\n",
      "\u001b[0;32m~/miniconda3/envs/default/lib/python3.8/site-packages/pandas/core/internals/concat.py\u001b[0m in \u001b[0;36m_is_uniform_join_units\u001b[0;34m(join_units)\u001b[0m\n\u001b[1;32m    605\u001b[0m         \u001b[0;31m# no blocks that would get missing values (can lead to type upcasts)\u001b[0m\u001b[0;34m\u001b[0m\u001b[0;34m\u001b[0m\u001b[0;34m\u001b[0m\u001b[0m\n\u001b[1;32m    606\u001b[0m         \u001b[0;31m# unless we're an extension dtype.\u001b[0m\u001b[0;34m\u001b[0m\u001b[0;34m\u001b[0m\u001b[0;34m\u001b[0m\u001b[0m\n\u001b[0;32m--> 607\u001b[0;31m         \u001b[0mall\u001b[0m\u001b[0;34m(\u001b[0m\u001b[0;32mnot\u001b[0m \u001b[0mju\u001b[0m\u001b[0;34m.\u001b[0m\u001b[0mis_na\u001b[0m \u001b[0;32mor\u001b[0m \u001b[0mju\u001b[0m\u001b[0;34m.\u001b[0m\u001b[0mblock\u001b[0m\u001b[0;34m.\u001b[0m\u001b[0mis_extension\u001b[0m \u001b[0;32mfor\u001b[0m \u001b[0mju\u001b[0m \u001b[0;32min\u001b[0m \u001b[0mjoin_units\u001b[0m\u001b[0;34m)\u001b[0m\u001b[0;34m\u001b[0m\u001b[0;34m\u001b[0m\u001b[0m\n\u001b[0m\u001b[1;32m    608\u001b[0m         \u001b[0;32mand\u001b[0m\u001b[0;34m\u001b[0m\u001b[0;34m\u001b[0m\u001b[0m\n\u001b[1;32m    609\u001b[0m         \u001b[0;31m# no blocks with indexers (as then the dimensions do not fit)\u001b[0m\u001b[0;34m\u001b[0m\u001b[0;34m\u001b[0m\u001b[0;34m\u001b[0m\u001b[0m\n",
      "\u001b[0;32m~/miniconda3/envs/default/lib/python3.8/site-packages/pandas/core/internals/concat.py\u001b[0m in \u001b[0;36m<genexpr>\u001b[0;34m(.0)\u001b[0m\n\u001b[1;32m    605\u001b[0m         \u001b[0;31m# no blocks that would get missing values (can lead to type upcasts)\u001b[0m\u001b[0;34m\u001b[0m\u001b[0;34m\u001b[0m\u001b[0;34m\u001b[0m\u001b[0m\n\u001b[1;32m    606\u001b[0m         \u001b[0;31m# unless we're an extension dtype.\u001b[0m\u001b[0;34m\u001b[0m\u001b[0;34m\u001b[0m\u001b[0;34m\u001b[0m\u001b[0m\n\u001b[0;32m--> 607\u001b[0;31m         \u001b[0mall\u001b[0m\u001b[0;34m(\u001b[0m\u001b[0;32mnot\u001b[0m \u001b[0mju\u001b[0m\u001b[0;34m.\u001b[0m\u001b[0mis_na\u001b[0m \u001b[0;32mor\u001b[0m \u001b[0mju\u001b[0m\u001b[0;34m.\u001b[0m\u001b[0mblock\u001b[0m\u001b[0;34m.\u001b[0m\u001b[0mis_extension\u001b[0m \u001b[0;32mfor\u001b[0m \u001b[0mju\u001b[0m \u001b[0;32min\u001b[0m \u001b[0mjoin_units\u001b[0m\u001b[0;34m)\u001b[0m\u001b[0;34m\u001b[0m\u001b[0;34m\u001b[0m\u001b[0m\n\u001b[0m\u001b[1;32m    608\u001b[0m         \u001b[0;32mand\u001b[0m\u001b[0;34m\u001b[0m\u001b[0;34m\u001b[0m\u001b[0m\n\u001b[1;32m    609\u001b[0m         \u001b[0;31m# no blocks with indexers (as then the dimensions do not fit)\u001b[0m\u001b[0;34m\u001b[0m\u001b[0;34m\u001b[0m\u001b[0;34m\u001b[0m\u001b[0m\n",
      "\u001b[0;32m~/miniconda3/envs/default/lib/python3.8/site-packages/pandas/_libs/properties.pyx\u001b[0m in \u001b[0;36mpandas._libs.properties.CachedProperty.__get__\u001b[0;34m()\u001b[0m\n",
      "\u001b[0;32m~/miniconda3/envs/default/lib/python3.8/site-packages/pandas/core/internals/concat.py\u001b[0m in \u001b[0;36mis_na\u001b[0;34m(self)\u001b[0m\n\u001b[1;32m    399\u001b[0m             \u001b[0mvalues_flat\u001b[0m \u001b[0;34m=\u001b[0m \u001b[0mvalues\u001b[0m\u001b[0;34m.\u001b[0m\u001b[0mravel\u001b[0m\u001b[0;34m(\u001b[0m\u001b[0morder\u001b[0m\u001b[0;34m=\u001b[0m\u001b[0;34m\"K\"\u001b[0m\u001b[0;34m)\u001b[0m\u001b[0;34m\u001b[0m\u001b[0;34m\u001b[0m\u001b[0m\n\u001b[1;32m    400\u001b[0m \u001b[0;34m\u001b[0m\u001b[0m\n\u001b[0;32m--> 401\u001b[0;31m         \u001b[0;32mreturn\u001b[0m \u001b[0misna_all\u001b[0m\u001b[0;34m(\u001b[0m\u001b[0mvalues_flat\u001b[0m\u001b[0;34m)\u001b[0m\u001b[0;34m\u001b[0m\u001b[0;34m\u001b[0m\u001b[0m\n\u001b[0m\u001b[1;32m    402\u001b[0m \u001b[0;34m\u001b[0m\u001b[0m\n\u001b[1;32m    403\u001b[0m     \u001b[0;32mdef\u001b[0m \u001b[0mget_reindexed_values\u001b[0m\u001b[0;34m(\u001b[0m\u001b[0mself\u001b[0m\u001b[0;34m,\u001b[0m \u001b[0mempty_dtype\u001b[0m\u001b[0;34m:\u001b[0m \u001b[0mDtypeObj\u001b[0m\u001b[0;34m,\u001b[0m \u001b[0mupcasted_na\u001b[0m\u001b[0;34m)\u001b[0m \u001b[0;34m->\u001b[0m \u001b[0mArrayLike\u001b[0m\u001b[0;34m:\u001b[0m\u001b[0;34m\u001b[0m\u001b[0;34m\u001b[0m\u001b[0m\n",
      "\u001b[0;32m~/miniconda3/envs/default/lib/python3.8/site-packages/pandas/core/dtypes/missing.py\u001b[0m in \u001b[0;36misna_all\u001b[0;34m(arr)\u001b[0m\n\u001b[1;32m    672\u001b[0m         )\n\u001b[1;32m    673\u001b[0m \u001b[0;34m\u001b[0m\u001b[0m\n\u001b[0;32m--> 674\u001b[0;31m     return all(\n\u001b[0m\u001b[1;32m    675\u001b[0m         \u001b[0;31m# error: Argument 1 to \"__call__\" of \"ufunc\" has incompatible type\u001b[0m\u001b[0;34m\u001b[0m\u001b[0;34m\u001b[0m\u001b[0;34m\u001b[0m\u001b[0m\n\u001b[1;32m    676\u001b[0m         \u001b[0;31m# \"Union[ExtensionArray, Any]\"; expected \"Union[Union[int, float, complex, str,\u001b[0m\u001b[0;34m\u001b[0m\u001b[0;34m\u001b[0m\u001b[0;34m\u001b[0m\u001b[0m\n",
      "\u001b[0;32m~/miniconda3/envs/default/lib/python3.8/site-packages/pandas/core/dtypes/missing.py\u001b[0m in \u001b[0;36m<genexpr>\u001b[0;34m(.0)\u001b[0m\n\u001b[1;32m    677\u001b[0m         \u001b[0;31m# bytes, generic], Sequence[Union[int, float, complex, str, bytes, generic]],\u001b[0m\u001b[0;34m\u001b[0m\u001b[0;34m\u001b[0m\u001b[0;34m\u001b[0m\u001b[0m\n\u001b[1;32m    678\u001b[0m         \u001b[0;31m# Sequence[Sequence[Any]], _SupportsArray]\"\u001b[0m\u001b[0;34m\u001b[0m\u001b[0;34m\u001b[0m\u001b[0;34m\u001b[0m\u001b[0m\n\u001b[0;32m--> 679\u001b[0;31m         \u001b[0mchecker\u001b[0m\u001b[0;34m(\u001b[0m\u001b[0marr\u001b[0m\u001b[0;34m[\u001b[0m\u001b[0mi\u001b[0m \u001b[0;34m:\u001b[0m \u001b[0mi\u001b[0m \u001b[0;34m+\u001b[0m \u001b[0mchunk_len\u001b[0m\u001b[0;34m]\u001b[0m\u001b[0;34m)\u001b[0m\u001b[0;34m.\u001b[0m\u001b[0mall\u001b[0m\u001b[0;34m(\u001b[0m\u001b[0;34m)\u001b[0m  \u001b[0;31m# type: ignore[arg-type]\u001b[0m\u001b[0;34m\u001b[0m\u001b[0;34m\u001b[0m\u001b[0m\n\u001b[0m\u001b[1;32m    680\u001b[0m         \u001b[0;32mfor\u001b[0m \u001b[0mi\u001b[0m \u001b[0;32min\u001b[0m \u001b[0mrange\u001b[0m\u001b[0;34m(\u001b[0m\u001b[0;36m0\u001b[0m\u001b[0;34m,\u001b[0m \u001b[0mtotal_len\u001b[0m\u001b[0;34m,\u001b[0m \u001b[0mchunk_len\u001b[0m\u001b[0;34m)\u001b[0m\u001b[0;34m\u001b[0m\u001b[0;34m\u001b[0m\u001b[0m\n\u001b[1;32m    681\u001b[0m     )\n",
      "\u001b[0;32m~/miniconda3/envs/default/lib/python3.8/site-packages/pandas/core/dtypes/missing.py\u001b[0m in \u001b[0;36m<lambda>\u001b[0;34m(x)\u001b[0m\n\u001b[1;32m    668\u001b[0m         \u001b[0;31m# error: Incompatible types in assignment (expression has type \"Callable[[Any],\u001b[0m\u001b[0;34m\u001b[0m\u001b[0;34m\u001b[0m\u001b[0;34m\u001b[0m\u001b[0m\n\u001b[1;32m    669\u001b[0m         \u001b[0;31m# Any]\", variable has type \"ufunc\")\u001b[0m\u001b[0;34m\u001b[0m\u001b[0;34m\u001b[0m\u001b[0;34m\u001b[0m\u001b[0m\n\u001b[0;32m--> 670\u001b[0;31m         checker = lambda x: _isna_array(  # type: ignore[assignment]\n\u001b[0m\u001b[1;32m    671\u001b[0m             \u001b[0mx\u001b[0m\u001b[0;34m,\u001b[0m \u001b[0minf_as_na\u001b[0m\u001b[0;34m=\u001b[0m\u001b[0mINF_AS_NA\u001b[0m\u001b[0;34m\u001b[0m\u001b[0;34m\u001b[0m\u001b[0m\n\u001b[1;32m    672\u001b[0m         )\n",
      "\u001b[0;32m~/miniconda3/envs/default/lib/python3.8/site-packages/pandas/core/dtypes/missing.py\u001b[0m in \u001b[0;36m_isna_array\u001b[0;34m(values, inf_as_na)\u001b[0m\n\u001b[1;32m    244\u001b[0m             \u001b[0mresult\u001b[0m \u001b[0;34m=\u001b[0m \u001b[0mvalues\u001b[0m\u001b[0;34m.\u001b[0m\u001b[0misna\u001b[0m\u001b[0;34m(\u001b[0m\u001b[0;34m)\u001b[0m\u001b[0;34m\u001b[0m\u001b[0;34m\u001b[0m\u001b[0m\n\u001b[1;32m    245\u001b[0m     \u001b[0;32melif\u001b[0m \u001b[0mis_string_dtype\u001b[0m\u001b[0;34m(\u001b[0m\u001b[0mdtype\u001b[0m\u001b[0;34m)\u001b[0m\u001b[0;34m:\u001b[0m\u001b[0;34m\u001b[0m\u001b[0;34m\u001b[0m\u001b[0m\n\u001b[0;32m--> 246\u001b[0;31m         \u001b[0mresult\u001b[0m \u001b[0;34m=\u001b[0m \u001b[0m_isna_string_dtype\u001b[0m\u001b[0;34m(\u001b[0m\u001b[0mvalues\u001b[0m\u001b[0;34m,\u001b[0m \u001b[0minf_as_na\u001b[0m\u001b[0;34m=\u001b[0m\u001b[0minf_as_na\u001b[0m\u001b[0;34m)\u001b[0m\u001b[0;34m\u001b[0m\u001b[0;34m\u001b[0m\u001b[0m\n\u001b[0m\u001b[1;32m    247\u001b[0m     \u001b[0;32melif\u001b[0m \u001b[0mneeds_i8_conversion\u001b[0m\u001b[0;34m(\u001b[0m\u001b[0mdtype\u001b[0m\u001b[0;34m)\u001b[0m\u001b[0;34m:\u001b[0m\u001b[0;34m\u001b[0m\u001b[0;34m\u001b[0m\u001b[0m\n\u001b[1;32m    248\u001b[0m         \u001b[0;31m# this is the NaT pattern\u001b[0m\u001b[0;34m\u001b[0m\u001b[0;34m\u001b[0m\u001b[0;34m\u001b[0m\u001b[0m\n",
      "\u001b[0;32m~/miniconda3/envs/default/lib/python3.8/site-packages/pandas/core/dtypes/missing.py\u001b[0m in \u001b[0;36m_isna_string_dtype\u001b[0;34m(values, inf_as_na)\u001b[0m\n\u001b[1;32m    269\u001b[0m             \u001b[0mvec\u001b[0m \u001b[0;34m=\u001b[0m \u001b[0mlibmissing\u001b[0m\u001b[0;34m.\u001b[0m\u001b[0misnaobj_old\u001b[0m\u001b[0;34m(\u001b[0m\u001b[0mvalues\u001b[0m\u001b[0;34m.\u001b[0m\u001b[0mravel\u001b[0m\u001b[0;34m(\u001b[0m\u001b[0;34m)\u001b[0m\u001b[0;34m)\u001b[0m\u001b[0;34m\u001b[0m\u001b[0;34m\u001b[0m\u001b[0m\n\u001b[1;32m    270\u001b[0m         \u001b[0;32melse\u001b[0m\u001b[0;34m:\u001b[0m\u001b[0;34m\u001b[0m\u001b[0;34m\u001b[0m\u001b[0m\n\u001b[0;32m--> 271\u001b[0;31m             \u001b[0mvec\u001b[0m \u001b[0;34m=\u001b[0m \u001b[0mlibmissing\u001b[0m\u001b[0;34m.\u001b[0m\u001b[0misnaobj\u001b[0m\u001b[0;34m(\u001b[0m\u001b[0mvalues\u001b[0m\u001b[0;34m.\u001b[0m\u001b[0mravel\u001b[0m\u001b[0;34m(\u001b[0m\u001b[0;34m)\u001b[0m\u001b[0;34m)\u001b[0m\u001b[0;34m\u001b[0m\u001b[0;34m\u001b[0m\u001b[0m\n\u001b[0m\u001b[1;32m    272\u001b[0m \u001b[0;34m\u001b[0m\u001b[0m\n\u001b[1;32m    273\u001b[0m         \u001b[0mresult\u001b[0m\u001b[0;34m[\u001b[0m\u001b[0;34m...\u001b[0m\u001b[0;34m]\u001b[0m \u001b[0;34m=\u001b[0m \u001b[0mvec\u001b[0m\u001b[0;34m.\u001b[0m\u001b[0mreshape\u001b[0m\u001b[0;34m(\u001b[0m\u001b[0mshape\u001b[0m\u001b[0;34m)\u001b[0m\u001b[0;34m\u001b[0m\u001b[0;34m\u001b[0m\u001b[0m\n",
      "\u001b[0;31mKeyboardInterrupt\u001b[0m: "
     ]
    }
   ],
   "metadata": {}
  },
  {
   "cell_type": "code",
   "execution_count": 5,
   "source": [
    "valid_csv"
   ],
   "outputs": [
    {
     "output_type": "execute_result",
     "data": {
      "text/html": [
       "<div>\n",
       "<style scoped>\n",
       "    .dataframe tbody tr th:only-of-type {\n",
       "        vertical-align: middle;\n",
       "    }\n",
       "\n",
       "    .dataframe tbody tr th {\n",
       "        vertical-align: top;\n",
       "    }\n",
       "\n",
       "    .dataframe thead th {\n",
       "        text-align: right;\n",
       "    }\n",
       "</style>\n",
       "<table border=\"1\" class=\"dataframe\">\n",
       "  <thead>\n",
       "    <tr style=\"text-align: right;\">\n",
       "      <th></th>\n",
       "      <th>AudioPath</th>\n",
       "      <th>Path</th>\n",
       "      <th>Label</th>\n",
       "    </tr>\n",
       "  </thead>\n",
       "  <tbody>\n",
       "    <tr>\n",
       "      <th>0</th>\n",
       "      <td>nsynth-valid/audio/keyboard_acoustic_004-060-0...</td>\n",
       "      <td>nsynth-valid/spec/keyboard_acoustic_004-060-02...</td>\n",
       "      <td>4</td>\n",
       "    </tr>\n",
       "    <tr>\n",
       "      <th>1</th>\n",
       "      <td>nsynth-valid/audio/bass_synthetic_033-050-100.wav</td>\n",
       "      <td>nsynth-valid/spec/bass_synthetic_033-050-100.w...</td>\n",
       "      <td>0</td>\n",
       "    </tr>\n",
       "    <tr>\n",
       "      <th>2</th>\n",
       "      <td>nsynth-valid/audio/bass_synthetic_009-052-050.wav</td>\n",
       "      <td>nsynth-valid/spec/bass_synthetic_009-052-050.w...</td>\n",
       "      <td>0</td>\n",
       "    </tr>\n",
       "    <tr>\n",
       "      <th>3</th>\n",
       "      <td>nsynth-valid/audio/keyboard_electronic_003-064...</td>\n",
       "      <td>nsynth-valid/spec/keyboard_electronic_003-064-...</td>\n",
       "      <td>4</td>\n",
       "    </tr>\n",
       "    <tr>\n",
       "      <th>4</th>\n",
       "      <td>nsynth-valid/audio/bass_synthetic_034-030-050.wav</td>\n",
       "      <td>nsynth-valid/spec/bass_synthetic_034-030-050.w...</td>\n",
       "      <td>0</td>\n",
       "    </tr>\n",
       "    <tr>\n",
       "      <th>...</th>\n",
       "      <td>...</td>\n",
       "      <td>...</td>\n",
       "      <td>...</td>\n",
       "    </tr>\n",
       "    <tr>\n",
       "      <th>25351</th>\n",
       "      <td>nsynth-test/audio/bass_electronic_025-051-127.wav</td>\n",
       "      <td>nsynth-test/spec/bass_electronic_025-051-127.w...</td>\n",
       "      <td>0</td>\n",
       "    </tr>\n",
       "    <tr>\n",
       "      <th>25352</th>\n",
       "      <td>nsynth-test/audio/flute_synthetic_000-080-025.wav</td>\n",
       "      <td>nsynth-test/spec/flute_synthetic_000-080-025.w...</td>\n",
       "      <td>2</td>\n",
       "    </tr>\n",
       "    <tr>\n",
       "      <th>25353</th>\n",
       "      <td>nsynth-test/audio/vocal_synthetic_003-073-025.wav</td>\n",
       "      <td>nsynth-test/spec/vocal_synthetic_003-073-025.w...</td>\n",
       "      <td>10</td>\n",
       "    </tr>\n",
       "    <tr>\n",
       "      <th>25354</th>\n",
       "      <td>nsynth-test/audio/bass_synthetic_134-036-100.wav</td>\n",
       "      <td>nsynth-test/spec/bass_synthetic_134-036-100.wa...</td>\n",
       "      <td>0</td>\n",
       "    </tr>\n",
       "    <tr>\n",
       "      <th>25355</th>\n",
       "      <td>nsynth-test/audio/keyboard_acoustic_004-044-12...</td>\n",
       "      <td>nsynth-test/spec/keyboard_acoustic_004-044-127...</td>\n",
       "      <td>4</td>\n",
       "    </tr>\n",
       "  </tbody>\n",
       "</table>\n",
       "<p>25356 rows × 3 columns</p>\n",
       "</div>"
      ],
      "text/plain": [
       "                                               AudioPath  \\\n",
       "0      nsynth-valid/audio/keyboard_acoustic_004-060-0...   \n",
       "1      nsynth-valid/audio/bass_synthetic_033-050-100.wav   \n",
       "2      nsynth-valid/audio/bass_synthetic_009-052-050.wav   \n",
       "3      nsynth-valid/audio/keyboard_electronic_003-064...   \n",
       "4      nsynth-valid/audio/bass_synthetic_034-030-050.wav   \n",
       "...                                                  ...   \n",
       "25351  nsynth-test/audio/bass_electronic_025-051-127.wav   \n",
       "25352  nsynth-test/audio/flute_synthetic_000-080-025.wav   \n",
       "25353  nsynth-test/audio/vocal_synthetic_003-073-025.wav   \n",
       "25354   nsynth-test/audio/bass_synthetic_134-036-100.wav   \n",
       "25355  nsynth-test/audio/keyboard_acoustic_004-044-12...   \n",
       "\n",
       "                                                    Path Label  \n",
       "0      nsynth-valid/spec/keyboard_acoustic_004-060-02...     4  \n",
       "1      nsynth-valid/spec/bass_synthetic_033-050-100.w...     0  \n",
       "2      nsynth-valid/spec/bass_synthetic_009-052-050.w...     0  \n",
       "3      nsynth-valid/spec/keyboard_electronic_003-064-...     4  \n",
       "4      nsynth-valid/spec/bass_synthetic_034-030-050.w...     0  \n",
       "...                                                  ...   ...  \n",
       "25351  nsynth-test/spec/bass_electronic_025-051-127.w...     0  \n",
       "25352  nsynth-test/spec/flute_synthetic_000-080-025.w...     2  \n",
       "25353  nsynth-test/spec/vocal_synthetic_003-073-025.w...    10  \n",
       "25354  nsynth-test/spec/bass_synthetic_134-036-100.wa...     0  \n",
       "25355  nsynth-test/spec/keyboard_acoustic_004-044-127...     4  \n",
       "\n",
       "[25356 rows x 3 columns]"
      ]
     },
     "metadata": {},
     "execution_count": 5
    }
   ],
   "metadata": {}
  },
  {
   "cell_type": "code",
   "execution_count": null,
   "source": [],
   "outputs": [],
   "metadata": {}
  },
  {
   "cell_type": "markdown",
   "source": [
    "# Language ID"
   ],
   "metadata": {}
  },
  {
   "cell_type": "code",
   "execution_count": 17,
   "source": [
    "root_dir = \"/nlsasfs/home/nltm-pilot/sandeshk/icassp/data/lid\"\n",
    "\n",
    "train_df = pd.read_csv(os.path.join(root_dir,\"train_path_voxforge.csv\"))\n",
    "train_df.columns = ['wav_file','Label']\n",
    "train_df['AudioPath']= train_df.apply(lambda row: os.path.join('audio',str(row.wav_file)), axis = 1)\n",
    "train_df['Path']= train_df.apply(lambda row: os.path.join('spec',str(row.wav_file)+'.npy'), axis = 1)\n",
    "train_df['PathL2']= train_df.apply(lambda row: os.path.join('specl2',str(row.wav_file)+'.npy'), axis = 1)\n",
    "train_df.drop(['wav_file'],axis=1,inplace=True)\n",
    "\n",
    "\n",
    "test_df = pd.read_csv(os.path.join(root_dir,\"valid_path_voxforge.csv\"))\n",
    "test_df.columns = ['wav_file','Label']\n",
    "test_df['AudioPath']= test_df.apply(lambda row: os.path.join('audio',str(row.wav_file)), axis = 1)\n",
    "test_df['Path']= test_df.apply(lambda row: os.path.join('spec',str(row.wav_file)+'.npy'), axis = 1)\n",
    "test_df['PathL2']= test_df.apply(lambda row: os.path.join('specl2',str(row.wav_file)+'.npy'), axis = 1)\n",
    "test_df.drop(['wav_file'],axis=1,inplace=True)"
   ],
   "outputs": [],
   "metadata": {}
  },
  {
   "cell_type": "code",
   "execution_count": 18,
   "source": [
    "test_df.Label.unique()"
   ],
   "outputs": [
    {
     "output_type": "execute_result",
     "data": {
      "text/plain": [
       "array(['french', 'spanish', 'german', 'russian', 'english', 'italian'],\n",
       "      dtype=object)"
      ]
     },
     "metadata": {},
     "execution_count": 18
    }
   ],
   "metadata": {}
  },
  {
   "cell_type": "code",
   "execution_count": 19,
   "source": [
    "train_df.to_csv(\"/nlsasfs/home/nltm-pilot/sandeshk/icassp/data/lid/train_data.csv\",index=False)\n",
    "test_df.to_csv(\"/nlsasfs/home/nltm-pilot/sandeshk/icassp/data/lid/test_data.csv\",index=False)"
   ],
   "outputs": [],
   "metadata": {}
  },
  {
   "cell_type": "code",
   "execution_count": null,
   "source": [],
   "outputs": [],
   "metadata": {}
  }
 ],
 "metadata": {
  "orig_nbformat": 4,
  "language_info": {
   "name": "python",
   "version": "3.8.11",
   "mimetype": "text/x-python",
   "codemirror_mode": {
    "name": "ipython",
    "version": 3
   },
   "pygments_lexer": "ipython3",
   "nbconvert_exporter": "python",
   "file_extension": ".py"
  },
  "kernelspec": {
   "name": "python3",
   "display_name": "Python 3.8.11 64-bit ('default': conda)"
  },
  "interpreter": {
   "hash": "813ba1e14fc4b8a3882955179ac8d5855d8bcd0514fe871de254646abb26b5e1"
  }
 },
 "nbformat": 4,
 "nbformat_minor": 2
}