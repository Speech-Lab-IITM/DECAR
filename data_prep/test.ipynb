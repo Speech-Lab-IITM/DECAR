{
 "cells": [
  {
   "cell_type": "code",
   "execution_count": 1,
   "source": [
    "print(\"hello\")"
   ],
   "outputs": [
    {
     "output_type": "stream",
     "name": "stdout",
     "text": [
      "hello\n"
     ]
    }
   ],
   "metadata": {}
  },
  {
   "cell_type": "markdown",
   "source": [
    "index,start_time,end_time,wav_file,emotion,val,act,dom\n",
    "\n",
    "1,10.01,11.3925,Ses01F_impro01_F001,neu,2.5,2.5,2.5"
   ],
   "metadata": {}
  },
  {
   "cell_type": "code",
   "execution_count": null,
   "source": [
    "# import required libraries\n",
    "from pydub import AudioSegment \n",
    "from pydub.playback import play \n",
    "import os\n",
    "# Import an audio file \n",
    "# Format parameter only\n",
    "# for readability \n",
    "root_dir =\"/speech/Databases/Birdsong/IEMOCAP/wav\"\n",
    "\n",
    "wav_file = AudioSegment.from_file(file = os.path.join(root_dir ,\"Ses01F_impro01_F001.wav\"), \n",
    "                                  format = \"wav\") \n"
   ],
   "outputs": [],
   "metadata": {}
  },
  {
   "cell_type": "code",
   "execution_count": 8,
   "source": [
    "wav_file = AudioSegment.from_file(file = os.path.join(root_dir ,\"Ses01F_impro01_F001.wav\"), \n",
    "                                  format = \"wav\") \n",
    "print(type(wav_file)) \n",
    "print(wav_file.frame_rate)   #16000\n",
    "print(wav_file.channels)     #1\n",
    "print(wav_file.sample_width)   \n",
    "print(wav_file.max)          \n",
    "print(len(wav_file)) #10010,11392\n"
   ],
   "outputs": [
    {
     "output_type": "stream",
     "name": "stdout",
     "text": [
      "<class 'pydub.audio_segment.AudioSegment'>\n",
      "16000\n",
      "1\n",
      "2\n",
      "6246\n",
      "1382\n"
     ]
    }
   ],
   "metadata": {}
  },
  {
   "cell_type": "code",
   "execution_count": 13,
   "source": [
    "wav_file = AudioSegment.from_file(file = os.path.join(root_dir ,\"Ses01F_impro01_F001.wav\"), \n",
    "                                  format = \"wav\") \n",
    "print(type(wav_file)) \n",
    "print(wav_file.frame_rate)   #16000\n",
    "print(wav_file.channels)     #1\n",
    "print(wav_file.sample_width)   \n",
    "print(wav_file.max)          \n",
    "print(len(wav_file)) #10010,11392"
   ],
   "outputs": [
    {
     "output_type": "stream",
     "name": "stdout",
     "text": [
      "<class 'pydub.audio_segment.AudioSegment'>\n",
      "16000\n",
      "1\n",
      "2\n",
      "6246\n",
      "1382\n"
     ]
    }
   ],
   "metadata": {}
  },
  {
   "cell_type": "code",
   "execution_count": 10,
   "source": [
    "#16,7.5712,10.475,Ses01F_impro01_M000,fru,2.5,2.0,2.5\n",
    "wav_file = AudioSegment.from_file(file = os.path.join(root_dir ,\"Ses01F_impro01_M000.wav\"), \n",
    "                                  format = \"wav\") \n",
    "# print(type(wav_file)) \n",
    "# print(wav_file.frame_rate)   #16000\n",
    "# print(wav_file.channels)     #1\n",
    "# print(wav_file.sample_width)   \n",
    "# print(wav_file.max)          \n",
    "print(len(wav_file)) #10010,11392\n",
    "print((10.475-7.5712)*1000)"
   ],
   "outputs": [
    {
     "output_type": "stream",
     "name": "stdout",
     "text": [
      "<class 'pydub.audio_segment.AudioSegment'>\n",
      "16000\n",
      "1\n",
      "2\n",
      "6549\n",
      "2904\n",
      "2903.7999999999993\n"
     ]
    }
   ],
   "metadata": {}
  },
  {
   "cell_type": "code",
   "execution_count": null,
   "source": [],
   "outputs": [],
   "metadata": {}
  }
 ],
 "metadata": {
  "orig_nbformat": 4,
  "language_info": {
   "version": "3.9.6",
   "nbconvert_exporter": "python",
   "name": "python",
   "pygments_lexer": "ipython3",
   "file_extension": ".py",
   "mimetype": "text/x-python",
   "codemirror_mode": {
    "version": 3,
    "name": "ipython"
   }
  },
  "kernelspec": {
   "name": "python3",
   "display_name": "Python 3.9.6 64-bit ('icassp_cluster': conda)"
  },
  "interpreter": {
   "hash": "c4b341d7c7549049021401f8ab71a8b28deca04d86498bd9d1a255879400ea91"
  }
 },
 "nbformat": 4,
 "nbformat_minor": 2
}