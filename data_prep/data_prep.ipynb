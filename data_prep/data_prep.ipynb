{
 "cells": [
  {
   "cell_type": "code",
   "execution_count": 1,
   "source": [
    "import json\n",
    "import pandas as pd\n",
    "import os\n",
    "from tqdm import tqdm\n",
    "from pydub import AudioSegment  \n",
    "import matplotlib.pyplot as plt"
   ],
   "outputs": [],
   "metadata": {}
  },
  {
   "cell_type": "code",
   "execution_count": 2,
   "source": [
    "root_dirs = {\n",
    "    \"Birdsong\" : \"/speech/Databases/Birdsong/BirdSong\",\n",
    "    \"IEMOCAP\"  : \"/speech/Databases/Birdsong/IEMOCAP/\",\n",
    "    \"MusicalInstruments\" : \"/speech/Databases/Birdsong/MusicalInstruments\",\n",
    "}"
   ],
   "outputs": [],
   "metadata": {}
  },
  {
   "cell_type": "markdown",
   "source": [
    "# BirdSong"
   ],
   "metadata": {}
  },
  {
   "cell_type": "code",
   "execution_count": 12,
   "source": [
    "root_dir = root_dirs[\"Birdsong\"]\n",
    "\n",
    "ff_txt = os.path.join(root_dir,\"freefield1010/6035814\")\n",
    "df1 = pd.read_csv(ff_txt) \n",
    "df1['Path'] = df1.apply(lambda row: os.path.join( 'freefield1010','spec',str(row.itemid)+'.wav.npy'), axis = 1)\n",
    "df1['AudioPath'] = df1.apply(lambda row: os.path.join( 'freefield1010','wav',str(row.itemid)+'.wav'), axis = 1)\n",
    "df1.rename(columns = {'hasbird':'Label'}, inplace = True)\n",
    "wab_txt = os.path.join(root_dir,\"Warblr/6035817\")\n",
    "df2 = pd.read_csv(wab_txt) \n",
    "df2['Path'] = df2.apply(lambda row: os.path.join( 'Warblr','spec',str(row.itemid)+'.wav.npy'), axis = 1)\n",
    "df2['AudioPath'] = df2.apply(lambda row: os.path.join( 'Warblr','wav',str(row.itemid)+'.wav'), axis = 1)\n",
    "df2.rename(columns = {'hasbird':'Label'}, inplace = True)\n",
    "combined_df = df1.append(df2)"
   ],
   "outputs": [],
   "metadata": {}
  },
  {
   "cell_type": "code",
   "execution_count": 14,
   "source": [
    "dataset = combined_df\n",
    "dataset[\"lenghts\"] = None\n",
    "for idx,row in dataset.iterrows() :\n",
    "    wav_file = AudioSegment.from_file(file = os.path.join(root_dir,row['AudioPath']), format = \"wav\")\n",
    "    dataset.loc[idx,\"lenghts\"] = len(wav_file)    "
   ],
   "outputs": [],
   "metadata": {}
  },
  {
   "cell_type": "code",
   "execution_count": 15,
   "source": [
    "print(max(dataset[\"lenghts\"].values))\n",
    "fig, ax = plt.subplots(figsize =(5, 3))\n",
    "ax.hist(dataset[\"lenghts\"].values,bins=20)\n",
    "fig, ax = plt.subplots(figsize =(5,3))\n",
    "ax.hist(dataset[\"Label\"].values,bins=20)\n",
    "plt.show()"
   ],
   "outputs": [
    {
     "output_type": "stream",
     "name": "stdout",
     "text": [
      "48414\n"
     ]
    },
    {
     "output_type": "display_data",
     "data": {
      "image/png": "[encoded data removed]",
      "text/plain": [
       "<Figure size 360x216 with 1 Axes>"
      ]
     },
     "metadata": {
      "needs_background": "light"
     }
    },
    {
     "output_type": "display_data",
     "data": {
      "image/png": "[encoded data removed]",
      "text/plain": [
       "<Figure size 360x216 with 1 Axes>"
      ]
     },
     "metadata": {
      "needs_background": "light"
     }
    }
   ],
   "metadata": {}
  },
  {
   "cell_type": "markdown",
   "source": [
    "## Feats Generation"
   ],
   "metadata": {}
  },
  {
   "cell_type": "code",
   "execution_count": null,
   "source": [],
   "outputs": [],
   "metadata": {}
  },
  {
   "cell_type": "markdown",
   "source": [
    "## Write Data"
   ],
   "metadata": {}
  },
  {
   "cell_type": "code",
   "execution_count": null,
   "source": [
    "df1 = df1.reindex(columns=['Path','Label'])\n",
    "df1.to_csv(os.path.join(root_dir,\"freefield1010_data.csv\"),index=False)\n",
    "df2 = df2.reindex(columns=['Path','Label'])\n",
    "df2.to_csv(os.path.join(root_dir,\"Warblr_data.csv\"),index=False)\n",
    "combined_df = combined_df.reindex(columns=['Path','Label'])\n",
    "combined_df.to_csv(os.path.join(root_dir,\"combined_data.csv\"),index=False)"
   ],
   "outputs": [],
   "metadata": {}
  },
  {
   "cell_type": "markdown",
   "source": [
    "# IEMOCAP"
   ],
   "metadata": {}
  },
  {
   "cell_type": "code",
   "execution_count": 38,
   "source": [
    "root_dir = root_dirs[\"IEMOCAP\"]\n",
    "\n",
    "full_datacsv = pd.read_csv(os.path.join(root_dir,'iemocap_final.csv'))\n",
    "full_datacsv['type'] = full_datacsv.apply(lambda row: \"test\" if str(row.wav_file).startswith('Ses05') else \"train\",\n",
    "                                            axis=1)\n",
    "full_datacsv['AudioPath'] = full_datacsv.apply(lambda row: os.path.join('wav',str(row.wav_file)+'.wav'), axis = 1)\n",
    "full_datacsv['Path'] = full_datacsv.apply(lambda row: os.path.join('spec',str(row.wav_file)+'.wav.npy'), axis = 1)\n",
    "full_datacsv['Label'] = full_datacsv['emotion'] \n",
    "full_datacsv.drop(['index','start_time','end_time','val' ,'act' ,'dom' ,'emotion','wav_file'],axis=1,inplace=True)\n"
   ],
   "outputs": [],
   "metadata": {}
  },
  {
   "cell_type": "code",
   "execution_count": 39,
   "source": [
    "print(full_datacsv['Label'].unique())\n",
    "index_names = full_datacsv[ full_datacsv['Label'].isin(['fru','exc','sur','oth','fea','dis']) ].index\n",
    "full_datacsv.drop(index_names, inplace = True)\n",
    "print(full_datacsv['Label'].unique())"
   ],
   "outputs": [
    {
     "output_type": "stream",
     "name": "stdout",
     "text": [
      "['neu' 'fru' 'ang' 'sad' 'hap' 'exc' 'sur' 'oth' 'fea' 'dis']\n",
      "['neu' 'ang' 'sad' 'hap']\n"
     ]
    }
   ],
   "metadata": {}
  },
  {
   "cell_type": "code",
   "execution_count": 40,
   "source": [
    "dataset = full_datacsv\n",
    "dataset[\"lenghts\"] = None\n",
    "for idx,row in dataset.iterrows() :\n",
    "    wav_file = AudioSegment.from_file(file = os.path.join(root_dir,row['AudioPath']), format = \"wav\")\n",
    "    dataset.loc[idx,\"lenghts\"] = len(wav_file)"
   ],
   "outputs": [],
   "metadata": {}
  },
  {
   "cell_type": "code",
   "execution_count": 41,
   "source": [
    "print(max(dataset[\"lenghts\"].values))\n",
    "fig, ax = plt.subplots(figsize =(5, 3))\n",
    "ax.hist(dataset[\"lenghts\"].values,bins=20)\n",
    "fig, ax = plt.subplots(figsize =(5,3))\n",
    "ax.hist(dataset[\"Label\"].values,bins=20)\n",
    "# Show plot\n",
    "plt.show()"
   ],
   "outputs": [
    {
     "output_type": "stream",
     "name": "stdout",
     "text": [
      "31910\n"
     ]
    },
    {
     "output_type": "display_data",
     "data": {
      "image/png": "[encoded data removed]",
      "text/plain": [
       "<Figure size 360x216 with 1 Axes>"
      ]
     },
     "metadata": {
      "needs_background": "light"
     }
    },
    {
     "output_type": "display_data",
     "data": {
      "image/png": "[encoded data removed]",
      "text/plain": [
       "<Figure size 360x216 with 1 Axes>"
      ]
     },
     "metadata": {
      "needs_background": "light"
     }
    }
   ],
   "metadata": {}
  },
  {
   "cell_type": "markdown",
   "source": [
    "## Write Data"
   ],
   "metadata": {}
  },
  {
   "cell_type": "code",
   "execution_count": 42,
   "source": [
    "full_datacsv"
   ],
   "outputs": [
    {
     "output_type": "execute_result",
     "data": {
      "text/html": [
       "<div>\n",
       "<style scoped>\n",
       "    .dataframe tbody tr th:only-of-type {\n",
       "        vertical-align: middle;\n",
       "    }\n",
       "\n",
       "    .dataframe tbody tr th {\n",
       "        vertical-align: top;\n",
       "    }\n",
       "\n",
       "    .dataframe thead th {\n",
       "        text-align: right;\n",
       "    }\n",
       "</style>\n",
       "<table border=\"1\" class=\"dataframe\">\n",
       "  <thead>\n",
       "    <tr style=\"text-align: right;\">\n",
       "      <th></th>\n",
       "      <th>type</th>\n",
       "      <th>AudioPath</th>\n",
       "      <th>Path</th>\n",
       "      <th>Label</th>\n",
       "      <th>lenghts</th>\n",
       "    </tr>\n",
       "  </thead>\n",
       "  <tbody>\n",
       "    <tr>\n",
       "      <th>0</th>\n",
       "      <td>train</td>\n",
       "      <td>wav/Ses01F_impro01_F000.wav</td>\n",
       "      <td>spec/Ses01F_impro01_F000.wav.npy</td>\n",
       "      <td>neu</td>\n",
       "      <td>1946</td>\n",
       "    </tr>\n",
       "    <tr>\n",
       "      <th>1</th>\n",
       "      <td>train</td>\n",
       "      <td>wav/Ses01F_impro01_F001.wav</td>\n",
       "      <td>spec/Ses01F_impro01_F001.wav.npy</td>\n",
       "      <td>neu</td>\n",
       "      <td>1382</td>\n",
       "    </tr>\n",
       "    <tr>\n",
       "      <th>2</th>\n",
       "      <td>train</td>\n",
       "      <td>wav/Ses01F_impro01_F002.wav</td>\n",
       "      <td>spec/Ses01F_impro01_F002.wav.npy</td>\n",
       "      <td>neu</td>\n",
       "      <td>3130</td>\n",
       "    </tr>\n",
       "    <tr>\n",
       "      <th>3</th>\n",
       "      <td>train</td>\n",
       "      <td>wav/Ses01F_impro01_F005.wav</td>\n",
       "      <td>spec/Ses01F_impro01_F005.wav.npy</td>\n",
       "      <td>neu</td>\n",
       "      <td>4030</td>\n",
       "    </tr>\n",
       "    <tr>\n",
       "      <th>9</th>\n",
       "      <td>train</td>\n",
       "      <td>wav/Ses01F_impro01_F012.wav</td>\n",
       "      <td>spec/Ses01F_impro01_F012.wav.npy</td>\n",
       "      <td>ang</td>\n",
       "      <td>2750</td>\n",
       "    </tr>\n",
       "    <tr>\n",
       "      <th>...</th>\n",
       "      <td>...</td>\n",
       "      <td>...</td>\n",
       "      <td>...</td>\n",
       "      <td>...</td>\n",
       "      <td>...</td>\n",
       "    </tr>\n",
       "    <tr>\n",
       "      <th>7527</th>\n",
       "      <td>test</td>\n",
       "      <td>wav/Ses05M_script03_2_M041.wav</td>\n",
       "      <td>spec/Ses05M_script03_2_M041.wav.npy</td>\n",
       "      <td>ang</td>\n",
       "      <td>8260</td>\n",
       "    </tr>\n",
       "    <tr>\n",
       "      <th>7528</th>\n",
       "      <td>test</td>\n",
       "      <td>wav/Ses05M_script03_2_M042.wav</td>\n",
       "      <td>spec/Ses05M_script03_2_M042.wav.npy</td>\n",
       "      <td>ang</td>\n",
       "      <td>1740</td>\n",
       "    </tr>\n",
       "    <tr>\n",
       "      <th>7529</th>\n",
       "      <td>test</td>\n",
       "      <td>wav/Ses05M_script03_2_M043.wav</td>\n",
       "      <td>spec/Ses05M_script03_2_M043.wav.npy</td>\n",
       "      <td>ang</td>\n",
       "      <td>2240</td>\n",
       "    </tr>\n",
       "    <tr>\n",
       "      <th>7530</th>\n",
       "      <td>test</td>\n",
       "      <td>wav/Ses05M_script03_2_M044.wav</td>\n",
       "      <td>spec/Ses05M_script03_2_M044.wav.npy</td>\n",
       "      <td>ang</td>\n",
       "      <td>4470</td>\n",
       "    </tr>\n",
       "    <tr>\n",
       "      <th>7531</th>\n",
       "      <td>test</td>\n",
       "      <td>wav/Ses05M_script03_2_M045.wav</td>\n",
       "      <td>spec/Ses05M_script03_2_M045.wav.npy</td>\n",
       "      <td>ang</td>\n",
       "      <td>6010</td>\n",
       "    </tr>\n",
       "  </tbody>\n",
       "</table>\n",
       "<p>4490 rows × 5 columns</p>\n",
       "</div>"
      ],
      "text/plain": [
       "       type                       AudioPath  \\\n",
       "0     train     wav/Ses01F_impro01_F000.wav   \n",
       "1     train     wav/Ses01F_impro01_F001.wav   \n",
       "2     train     wav/Ses01F_impro01_F002.wav   \n",
       "3     train     wav/Ses01F_impro01_F005.wav   \n",
       "9     train     wav/Ses01F_impro01_F012.wav   \n",
       "...     ...                             ...   \n",
       "7527   test  wav/Ses05M_script03_2_M041.wav   \n",
       "7528   test  wav/Ses05M_script03_2_M042.wav   \n",
       "7529   test  wav/Ses05M_script03_2_M043.wav   \n",
       "7530   test  wav/Ses05M_script03_2_M044.wav   \n",
       "7531   test  wav/Ses05M_script03_2_M045.wav   \n",
       "\n",
       "                                     Path Label lenghts  \n",
       "0        spec/Ses01F_impro01_F000.wav.npy   neu    1946  \n",
       "1        spec/Ses01F_impro01_F001.wav.npy   neu    1382  \n",
       "2        spec/Ses01F_impro01_F002.wav.npy   neu    3130  \n",
       "3        spec/Ses01F_impro01_F005.wav.npy   neu    4030  \n",
       "9        spec/Ses01F_impro01_F012.wav.npy   ang    2750  \n",
       "...                                   ...   ...     ...  \n",
       "7527  spec/Ses05M_script03_2_M041.wav.npy   ang    8260  \n",
       "7528  spec/Ses05M_script03_2_M042.wav.npy   ang    1740  \n",
       "7529  spec/Ses05M_script03_2_M043.wav.npy   ang    2240  \n",
       "7530  spec/Ses05M_script03_2_M044.wav.npy   ang    4470  \n",
       "7531  spec/Ses05M_script03_2_M045.wav.npy   ang    6010  \n",
       "\n",
       "[4490 rows x 5 columns]"
      ]
     },
     "metadata": {},
     "execution_count": 42
    }
   ],
   "metadata": {}
  },
  {
   "cell_type": "code",
   "execution_count": 43,
   "source": [
    "full_datacsv = full_datacsv.reindex(columns=['Path','Label','type'])\n",
    "grouped = full_datacsv.groupby(full_datacsv.type)\n",
    "\n",
    "train = grouped.get_group(\"train\").drop(['type'],axis=1)\n",
    "test  = grouped.get_group(\"test\").drop(['type'],axis=1)\n",
    "print(len(train))\n",
    "print(len(test))\n",
    "# print(full_datacsv)\n",
    "train.to_csv(os.path.join(root_dir,'train_data.csv'),index=False)\n",
    "test.to_csv(os.path.join(root_dir,'test_data.csv'),index=False)\n",
    "# full_datacsv.to_csv(os.path.join(root_dir,'data.csv'),index=False)"
   ],
   "outputs": [
    {
     "output_type": "stream",
     "name": "stdout",
     "text": [
      "3548\n",
      "942\n"
     ]
    }
   ],
   "metadata": {}
  },
  {
   "cell_type": "markdown",
   "source": [
    "# Voxceleb"
   ],
   "metadata": {}
  },
  {
   "cell_type": "code",
   "execution_count": null,
   "source": [
    "train_csv = pd.read_csv(\"/speech/Databases/Birdsong/Voxceleb1/dev/test_vox.csv\")\n",
    "lenghts = []\n",
    "drop_index = []\n",
    "for idx,row in train_csv.iterrows() :\n",
    "    wav_file = AudioSegment.from_file(file = os.path.join(\"/speech/Databases/Birdsong/Voxceleb1/dev/wav\",row['file_path'][46:]), \n",
    "                                  format = \"wav\")\n",
    "    lenghts.append(len(wav_file))\n",
    "    if len(wav_file) > 50000 :\n",
    "        drop_index.append(idx)\n",
    "\n",
    "\n",
    "train_new_csv = train_csv.drop(drop_index,axis=0)\n",
    "print(len(train_csv)- len(train_new_csv))\n",
    "# train_new_csv.to_csv(\"/speech/Databases/Birdsong/Voxceleb1/dev/train_new_vox.csv\")\n",
    "train_new_csv['Path'] = train_new_csv.apply(lambda row: os.path.join('spec',str(str(row.file_path)[46:]+'.npy')) , axis = 1)\n",
    "train_new_csv  = train_new_csv.drop(['file_path'],axis=1)\n",
    "train_new_csv = train_new_csv.reindex(columns=['Path','label'])\n",
    "train_new_csv.to_csv(\"/speech/Databases/Birdsong/Voxceleb1/dev/test_data.csv\",index=False)"
   ],
   "outputs": [],
   "metadata": {}
  },
  {
   "cell_type": "code",
   "execution_count": null,
   "source": [
    "dataset = train_new_csv\n",
    "dataset[\"lenghts\"] = None\n",
    "for idx,row in dataset.iterrows() :\n",
    "    wav_file = AudioSegment.from_file(file = os.path.join(root_dir,'wav',row['wav_file']+'.wav'), format = \"wav\")\n",
    "    dataset.loc[idx,\"lenghts\"] = len(wav_file)"
   ],
   "outputs": [],
   "metadata": {}
  },
  {
   "cell_type": "code",
   "execution_count": null,
   "source": [
    "print(max(dataset[\"lenghts\"].values))\n",
    "fig, ax = plt.subplots(figsize =(5, 3))\n",
    "ax.hist(dataset[\"lenghts\"].values,bins=20)\n",
    "fig, ax = plt.subplots(figsize =(5,3))\n",
    "ax.hist(dataset[\"Label\"].values,bins=20)\n",
    "# Show plot\n",
    "plt.show()"
   ],
   "outputs": [],
   "metadata": {}
  },
  {
   "cell_type": "markdown",
   "source": [
    "# TuT Urban"
   ],
   "metadata": {}
  },
  {
   "cell_type": "code",
   "execution_count": null,
   "source": [
    "root_dir = \"/speech/Databases/Birdsong/TutUrban/TUT-urban-acoustic-scenes-2018-development\"\n",
    "\n",
    "train_df = pd.read_csv(os.path.join(root_dir,\"evaluation_setup\",\"fold1_train.txt\"),sep=\"\\t\",header=None)\n",
    "train_df.columns = [\"AudioPath\",\"Label\"]"
   ],
   "outputs": [],
   "metadata": {}
  },
  {
   "cell_type": "code",
   "execution_count": null,
   "source": [
    "train_df"
   ],
   "outputs": [],
   "metadata": {}
  },
  {
   "cell_type": "code",
   "execution_count": null,
   "source": [
    "dataset = train_df\n",
    "dataset[\"lenghts\"] = None\n",
    "for idx,row in dataset.iterrows() :\n",
    "    wav_file = AudioSegment.from_file(file = os.path.join(root_dir,'wav',row['AudioPath']+'.wav'), format = \"wav\")\n",
    "    dataset.loc[idx,\"lenghts\"] = len(wav_file)"
   ],
   "outputs": [],
   "metadata": {}
  },
  {
   "cell_type": "code",
   "execution_count": null,
   "source": [
    "print(max(dataset[\"lenghts\"].values))\n",
    "fig, ax = plt.subplots(figsize =(5, 3))\n",
    "ax.hist(dataset[\"lenghts\"].values,bins=20)\n",
    "fig, ax = plt.subplots(figsize =(5,3))\n",
    "ax.hist(dataset[\"Label\"].values,bins=20)\n",
    "# Show plot\n",
    "plt.show()"
   ],
   "outputs": [],
   "metadata": {}
  },
  {
   "cell_type": "markdown",
   "source": [
    "# Speech Commands V1"
   ],
   "metadata": {}
  },
  {
   "cell_type": "code",
   "execution_count": null,
   "source": [
    "root_dir = \"/speech/Databases/Birdsong/SpeechCommandsV1/train\"\n",
    "\n",
    "test_labels = [\"yes\", \"no\", \"up\", \"down\",\"left\", \"right\", \"on\", \"off\", \"stop\", \"go\" ] #10\n",
    "core_labels = test_labels + [\"zero\",\"one\",\"two\",\"three\",\"four\",\"five\",\"six\",\"seven\",\"eight\",\"nine\"] # 20\n",
    "auxliary_labels = [\"bird\",\"dog\",\"happy\", \"wow\",\"bed\",\"cat\",\"house\",\"marvin\",\"sheila\",\"tree\"] #10\n",
    "labels = core_labels+ auxliary_labels\n",
    "\n",
    "train_df = pd.DataFrame(columns = [ 'AudioPath', 'Label'])\n",
    "audio_root_dir = os.path.join(root_dir , \"audio\")\n",
    "\n",
    "for labe_id,label in tqdm(enumerate(labels)):\n",
    "    audiofiles = os.listdir(os.path.join(audio_root_dir,label))\n",
    "    for file in tqdm(audiofiles ,leave=False):\n",
    "        file_path = os.path.join(label,file)\n",
    "        train_df=train_df.append( {'AudioPath' : file_path, 'Label' : label} , ignore_index = True)"
   ],
   "outputs": [],
   "metadata": {}
  },
  {
   "cell_type": "code",
   "execution_count": null,
   "source": [
    "train_df"
   ],
   "outputs": [],
   "metadata": {}
  },
  {
   "cell_type": "code",
   "execution_count": null,
   "source": [
    "dataset = train_df\n",
    "dataset[\"lenghts\"] = None\n",
    "for idx,row in tqdm(dataset.iterrows()) :\n",
    "    wav_file = AudioSegment.from_file(file = os.path.join(root_dir,'audio',row['AudioPath']), format = \"wav\")\n",
    "    dataset.loc[idx,\"lenghts\"] = len(wav_file)"
   ],
   "outputs": [],
   "metadata": {}
  },
  {
   "cell_type": "code",
   "execution_count": null,
   "source": [
    "print(max(dataset[\"lenghts\"].values))\n",
    "fig, ax = plt.subplots(figsize =(5, 3))\n",
    "ax.hist(dataset[\"lenghts\"].values,bins=20)\n",
    "fig, ax = plt.subplots(figsize =(15,3))\n",
    "ax.hist(dataset[\"Label\"].values,bins=20)\n",
    "# Show plot\n",
    "plt.show()"
   ],
   "outputs": [],
   "metadata": {}
  },
  {
   "cell_type": "markdown",
   "source": [
    "# Libri100"
   ],
   "metadata": {}
  },
  {
   "cell_type": "code",
   "execution_count": null,
   "source": [
    "root_dir = \"/speech/Databases/Birdsong/Libri100SpkId/\""
   ],
   "outputs": [],
   "metadata": {}
  },
  {
   "cell_type": "code",
   "execution_count": null,
   "source": [
    "utt2spk_root = os.path.join(root_dir,\"utt2spk\")\n",
    "utt2spk = dict()\n",
    "with open(utt2spk_root) as f:\n",
    "    for x in tqdm(f):\n",
    "        key , value = x.split()\n",
    "        if utt2spk.get(key, None)==None:\n",
    "            utt2spk[key] = value #.add(1, 'Geeks')\n",
    "        else:\n",
    "            raise NotImplementedError    \n"
   ],
   "outputs": [],
   "metadata": {}
  },
  {
   "cell_type": "code",
   "execution_count": null,
   "source": [
    "train_txt = os.path.join(root_dir,\"train_split.txt\")\n",
    "test_txt = os.path.join(root_dir,\"test_split.txt\")\n",
    "train_ids = []\n",
    "test_ids = []\n",
    "\n",
    "print(\"no_of_speakers\",len(set(utt2spk.values())))\n",
    "\n",
    "\n",
    "with open(test_txt) as f:\n",
    "    test_ids = f.read().splitlines() \n",
    "\n",
    "\n",
    "test_csv = pd.DataFrame(columns = ['AudioPath', 'Label'])\n",
    "test_speakers=[]\n",
    "for i in tqdm(test_ids):\n",
    "    test_speakers.append(utt2spk[i])\n",
    "    test_csv = test_csv.append({'AudioPath' : i+'.wav', 'Label' : utt2spk[i] }, \n",
    "                ignore_index = True)\n",
    "print(\"no_of_speakers\",len(set(test_speakers)))\n",
    "\n",
    "\n",
    "\n",
    "with open(train_txt) as f:\n",
    "    train_ids = f.read().splitlines() \n",
    "\n",
    "\n",
    "train_csv = pd.DataFrame(columns = ['AudioPath', 'Label'])\n",
    "train_speakers=[]\n",
    "for i in tqdm(train_ids):\n",
    "    train_speakers.append(utt2spk[i])\n",
    "    train_csv = train_csv.append({'AudioPath' : i+'.wav', 'Label' : utt2spk[i] }, \n",
    "                ignore_index = True)\n",
    "print(\"no_of_speakers\",len(set(train_speakers)))\n"
   ],
   "outputs": [],
   "metadata": {}
  },
  {
   "cell_type": "code",
   "execution_count": null,
   "source": [
    "train_csv"
   ],
   "outputs": [],
   "metadata": {}
  },
  {
   "cell_type": "code",
   "execution_count": null,
   "source": [
    "dataset = train_csv\n",
    "dataset[\"lenghts\"] = None\n",
    "for idx,row in tqdm(dataset.iterrows()) :\n",
    "    wav_file = AudioSegment.from_file(file = os.path.join(root_dir,'wav',row['AudioPath']), format = \"wav\")\n",
    "    dataset.loc[idx,\"lenghts\"] = len(wav_file)"
   ],
   "outputs": [],
   "metadata": {}
  },
  {
   "cell_type": "code",
   "execution_count": null,
   "source": [
    "print(max(dataset[\"lenghts\"].values))\n",
    "fig, ax = plt.subplots(figsize =(5, 3))\n",
    "ax.hist(dataset[\"lenghts\"].values,bins=20)\n",
    "fig, ax = plt.subplots(figsize =(15,3))\n",
    "ax.hist(dataset[\"Label\"].values,bins=20)\n",
    "# Show plot\n",
    "plt.show()"
   ],
   "outputs": [],
   "metadata": {}
  },
  {
   "cell_type": "code",
   "execution_count": null,
   "source": [],
   "outputs": [],
   "metadata": {}
  },
  {
   "cell_type": "markdown",
   "source": [
    "# Musical Instruments\n",
    "\n",
    "* nsynth-train : (289205)"
   ],
   "metadata": {}
  },
  {
   "cell_type": "code",
   "execution_count": 8,
   "source": [
    "\n",
    "root_dir = root_dirs[\"MusicalInstruments\"] \n",
    "\n",
    "fi = open(os.path.join(root_dir,'nsynth-train','examples.json'))\n",
    "train_json = json.load(fi)\n",
    "train_csv=pd.DataFrame(columns=['AudioPath','Path','Label'])\n",
    "for key in tqdm(train_json.keys()):\n",
    "    train_csv=train_csv.append({'Path' : os.path.join('nsynth-train','spec',key+'.wav.npy'),\n",
    "                                'Label' : train_json[key]['instrument_family'] ,\n",
    "                                'AudioPath' : os.path.join('nsynth-train','audio',key+'.wav'),\n",
    "                                },ignore_index=True)\n",
    "fi.close()\n",
    "\n",
    "fi = open(os.path.join(root_dir,'nsynth-valid','examples.json'))\n",
    "valid_json = json.load(fi)\n",
    "\n",
    "valid_csv=pd.DataFrame(columns=['AudioPath','Path','Label'])\n",
    "for key in tqdm(valid_json.keys()):\n",
    "    valid_csv=valid_csv.append({'Path' : os.path.join('nsynth-valid','spec',key+'.wav.npy'),\n",
    "                                'Label' : valid_json[key]['instrument_family'],\n",
    "                                'AudioPath' : os.path.join('nsynth-valid','audio',key+'.wav'), \n",
    "    },ignore_index=True)\n",
    "fi.close()\n",
    "\n",
    "fi = open(os.path.join(root_dir,'nsynth-test','examples.json'))\n",
    "test_json = json.load(fi)\n",
    "\n",
    "test_csv=pd.DataFrame(columns=['AudioPath','Path','Label'])\n",
    "for key in tqdm(valid_json.keys()):\n",
    "    valid_csv=valid_csv.append({'Path' : os.path.join('nsynth-test','spec',key+'.wav.npy'),\n",
    "                                'Label' : valid_json[key]['instrument_family'],\n",
    "                                'AudioPath' : os.path.join('nsynth-test','audio',key+'.wav'), \n",
    "                                },ignore_index=True)\n",
    "fi.close()\n",
    "\n",
    "# train_csv.to_csv(os.path.join(root_dir,'train_data.csv'),index=False)\n",
    "# valid_csv.to_csv(os.path.join(root_dir,'valid_data.csv'),index=False)\n",
    "# test_csv.to_csv(os.path.join(root_dir,'test_data.csv'),index=False)\n",
    "\n",
    "\n",
    "\n",
    "\n",
    "\n"
   ],
   "outputs": [
    {
     "output_type": "stream",
     "name": "stderr",
     "text": [
      " 23%|██▎       | 67026/289205 [04:25<14:39, 252.55it/s]\n"
     ]
    },
    {
     "output_type": "error",
     "ename": "KeyboardInterrupt",
     "evalue": "",
     "traceback": [
      "\u001b[0;31m---------------------------------------------------------------------------\u001b[0m",
      "\u001b[0;31mKeyboardInterrupt\u001b[0m                         Traceback (most recent call last)",
      "\u001b[0;32m/tmp/ipykernel_10000/4055347795.py\u001b[0m in \u001b[0;36m<module>\u001b[0;34m\u001b[0m\n\u001b[1;32m      5\u001b[0m \u001b[0mtrain_csv\u001b[0m\u001b[0;34m=\u001b[0m\u001b[0mpd\u001b[0m\u001b[0;34m.\u001b[0m\u001b[0mDataFrame\u001b[0m\u001b[0;34m(\u001b[0m\u001b[0mcolumns\u001b[0m\u001b[0;34m=\u001b[0m\u001b[0;34m[\u001b[0m\u001b[0;34m'AudioPath'\u001b[0m\u001b[0;34m,\u001b[0m\u001b[0;34m'Path'\u001b[0m\u001b[0;34m,\u001b[0m\u001b[0;34m'Label'\u001b[0m\u001b[0;34m]\u001b[0m\u001b[0;34m)\u001b[0m\u001b[0;34m\u001b[0m\u001b[0;34m\u001b[0m\u001b[0m\n\u001b[1;32m      6\u001b[0m \u001b[0;32mfor\u001b[0m \u001b[0mkey\u001b[0m \u001b[0;32min\u001b[0m \u001b[0mtqdm\u001b[0m\u001b[0;34m(\u001b[0m\u001b[0mtrain_json\u001b[0m\u001b[0;34m.\u001b[0m\u001b[0mkeys\u001b[0m\u001b[0;34m(\u001b[0m\u001b[0;34m)\u001b[0m\u001b[0;34m)\u001b[0m\u001b[0;34m:\u001b[0m\u001b[0;34m\u001b[0m\u001b[0;34m\u001b[0m\u001b[0m\n\u001b[0;32m----> 7\u001b[0;31m     train_csv=train_csv.append({'Path' : os.path.join('nsynth-train','spec',key+'.wav.npy'),\n\u001b[0m\u001b[1;32m      8\u001b[0m                                 \u001b[0;34m'Label'\u001b[0m \u001b[0;34m:\u001b[0m \u001b[0mtrain_json\u001b[0m\u001b[0;34m[\u001b[0m\u001b[0mkey\u001b[0m\u001b[0;34m]\u001b[0m\u001b[0;34m[\u001b[0m\u001b[0;34m'instrument_family'\u001b[0m\u001b[0;34m]\u001b[0m \u001b[0;34m,\u001b[0m\u001b[0;34m\u001b[0m\u001b[0;34m\u001b[0m\u001b[0m\n\u001b[1;32m      9\u001b[0m                                 \u001b[0;34m'AudioPath'\u001b[0m \u001b[0;34m:\u001b[0m \u001b[0mos\u001b[0m\u001b[0;34m.\u001b[0m\u001b[0mpath\u001b[0m\u001b[0;34m.\u001b[0m\u001b[0mjoin\u001b[0m\u001b[0;34m(\u001b[0m\u001b[0;34m'nsynth-train'\u001b[0m\u001b[0;34m,\u001b[0m\u001b[0;34m'audio'\u001b[0m\u001b[0;34m,\u001b[0m\u001b[0mkey\u001b[0m\u001b[0;34m+\u001b[0m\u001b[0;34m'.wav'\u001b[0m\u001b[0;34m)\u001b[0m\u001b[0;34m,\u001b[0m\u001b[0;34m\u001b[0m\u001b[0;34m\u001b[0m\u001b[0m\n",
      "\u001b[0;32m~/miniconda3/envs/icassp_cluster/lib/python3.9/site-packages/pandas/core/frame.py\u001b[0m in \u001b[0;36mappend\u001b[0;34m(self, other, ignore_index, verify_integrity, sort)\u001b[0m\n\u001b[1;32m   7980\u001b[0m             \u001b[0mto_concat\u001b[0m \u001b[0;34m=\u001b[0m \u001b[0;34m[\u001b[0m\u001b[0mself\u001b[0m\u001b[0;34m,\u001b[0m \u001b[0mother\u001b[0m\u001b[0;34m]\u001b[0m\u001b[0;34m\u001b[0m\u001b[0;34m\u001b[0m\u001b[0m\n\u001b[1;32m   7981\u001b[0m         return (\n\u001b[0;32m-> 7982\u001b[0;31m             concat(\n\u001b[0m\u001b[1;32m   7983\u001b[0m                 \u001b[0mto_concat\u001b[0m\u001b[0;34m,\u001b[0m\u001b[0;34m\u001b[0m\u001b[0;34m\u001b[0m\u001b[0m\n\u001b[1;32m   7984\u001b[0m                 \u001b[0mignore_index\u001b[0m\u001b[0;34m=\u001b[0m\u001b[0mignore_index\u001b[0m\u001b[0;34m,\u001b[0m\u001b[0;34m\u001b[0m\u001b[0;34m\u001b[0m\u001b[0m\n",
      "\u001b[0;32m~/miniconda3/envs/icassp_cluster/lib/python3.9/site-packages/pandas/core/reshape/concat.py\u001b[0m in \u001b[0;36mconcat\u001b[0;34m(objs, axis, join, ignore_index, keys, levels, names, verify_integrity, sort, copy)\u001b[0m\n\u001b[1;32m    296\u001b[0m     )\n\u001b[1;32m    297\u001b[0m \u001b[0;34m\u001b[0m\u001b[0m\n\u001b[0;32m--> 298\u001b[0;31m     \u001b[0;32mreturn\u001b[0m \u001b[0mop\u001b[0m\u001b[0;34m.\u001b[0m\u001b[0mget_result\u001b[0m\u001b[0;34m(\u001b[0m\u001b[0;34m)\u001b[0m\u001b[0;34m\u001b[0m\u001b[0;34m\u001b[0m\u001b[0m\n\u001b[0m\u001b[1;32m    299\u001b[0m \u001b[0;34m\u001b[0m\u001b[0m\n\u001b[1;32m    300\u001b[0m \u001b[0;34m\u001b[0m\u001b[0m\n",
      "\u001b[0;32m~/miniconda3/envs/icassp_cluster/lib/python3.9/site-packages/pandas/core/reshape/concat.py\u001b[0m in \u001b[0;36mget_result\u001b[0;34m(self)\u001b[0m\n\u001b[1;32m    518\u001b[0m                 \u001b[0mmgrs_indexers\u001b[0m\u001b[0;34m.\u001b[0m\u001b[0mappend\u001b[0m\u001b[0;34m(\u001b[0m\u001b[0;34m(\u001b[0m\u001b[0mobj\u001b[0m\u001b[0;34m.\u001b[0m\u001b[0m_mgr\u001b[0m\u001b[0;34m,\u001b[0m \u001b[0mindexers\u001b[0m\u001b[0;34m)\u001b[0m\u001b[0;34m)\u001b[0m\u001b[0;34m\u001b[0m\u001b[0;34m\u001b[0m\u001b[0m\n\u001b[1;32m    519\u001b[0m \u001b[0;34m\u001b[0m\u001b[0m\n\u001b[0;32m--> 520\u001b[0;31m             new_data = concatenate_block_managers(\n\u001b[0m\u001b[1;32m    521\u001b[0m                 \u001b[0mmgrs_indexers\u001b[0m\u001b[0;34m,\u001b[0m \u001b[0mself\u001b[0m\u001b[0;34m.\u001b[0m\u001b[0mnew_axes\u001b[0m\u001b[0;34m,\u001b[0m \u001b[0mconcat_axis\u001b[0m\u001b[0;34m=\u001b[0m\u001b[0mself\u001b[0m\u001b[0;34m.\u001b[0m\u001b[0mbm_axis\u001b[0m\u001b[0;34m,\u001b[0m \u001b[0mcopy\u001b[0m\u001b[0;34m=\u001b[0m\u001b[0mself\u001b[0m\u001b[0;34m.\u001b[0m\u001b[0mcopy\u001b[0m\u001b[0;34m\u001b[0m\u001b[0;34m\u001b[0m\u001b[0m\n\u001b[1;32m    522\u001b[0m             )\n",
      "\u001b[0;32m~/miniconda3/envs/icassp_cluster/lib/python3.9/site-packages/pandas/core/internals/concat.py\u001b[0m in \u001b[0;36mconcatenate_block_managers\u001b[0;34m(mgrs_indexers, axes, concat_axis, copy)\u001b[0m\n\u001b[1;32m     71\u001b[0m \u001b[0;34m\u001b[0m\u001b[0m\n\u001b[1;32m     72\u001b[0m             \u001b[0;32mif\u001b[0m \u001b[0;32mnot\u001b[0m \u001b[0mblk\u001b[0m\u001b[0;34m.\u001b[0m\u001b[0mis_extension\u001b[0m\u001b[0;34m:\u001b[0m\u001b[0;34m\u001b[0m\u001b[0;34m\u001b[0m\u001b[0m\n\u001b[0;32m---> 73\u001b[0;31m                 \u001b[0mvalues\u001b[0m \u001b[0;34m=\u001b[0m \u001b[0mconcat_compat\u001b[0m\u001b[0;34m(\u001b[0m\u001b[0mvals\u001b[0m\u001b[0;34m,\u001b[0m \u001b[0maxis\u001b[0m\u001b[0;34m=\u001b[0m\u001b[0mblk\u001b[0m\u001b[0;34m.\u001b[0m\u001b[0mndim\u001b[0m \u001b[0;34m-\u001b[0m \u001b[0;36m1\u001b[0m\u001b[0;34m)\u001b[0m\u001b[0;34m\u001b[0m\u001b[0;34m\u001b[0m\u001b[0m\n\u001b[0m\u001b[1;32m     74\u001b[0m             \u001b[0;32melse\u001b[0m\u001b[0;34m:\u001b[0m\u001b[0;34m\u001b[0m\u001b[0;34m\u001b[0m\u001b[0m\n\u001b[1;32m     75\u001b[0m                 \u001b[0;31m# TODO(EA2D): special-casing not needed with 2D EAs\u001b[0m\u001b[0;34m\u001b[0m\u001b[0;34m\u001b[0m\u001b[0;34m\u001b[0m\u001b[0m\n",
      "\u001b[0;32m~/miniconda3/envs/icassp_cluster/lib/python3.9/site-packages/pandas/core/dtypes/concat.py\u001b[0m in \u001b[0;36mconcat_compat\u001b[0;34m(to_concat, axis)\u001b[0m\n\u001b[1;32m    169\u001b[0m                 \u001b[0mto_concat\u001b[0m \u001b[0;34m=\u001b[0m \u001b[0;34m[\u001b[0m\u001b[0mx\u001b[0m\u001b[0;34m.\u001b[0m\u001b[0mastype\u001b[0m\u001b[0;34m(\u001b[0m\u001b[0;34m\"object\"\u001b[0m\u001b[0;34m)\u001b[0m \u001b[0;32mfor\u001b[0m \u001b[0mx\u001b[0m \u001b[0;32min\u001b[0m \u001b[0mto_concat\u001b[0m\u001b[0;34m]\u001b[0m\u001b[0;34m\u001b[0m\u001b[0;34m\u001b[0m\u001b[0m\n\u001b[1;32m    170\u001b[0m \u001b[0;34m\u001b[0m\u001b[0m\n\u001b[0;32m--> 171\u001b[0;31m     \u001b[0;32mreturn\u001b[0m \u001b[0mnp\u001b[0m\u001b[0;34m.\u001b[0m\u001b[0mconcatenate\u001b[0m\u001b[0;34m(\u001b[0m\u001b[0mto_concat\u001b[0m\u001b[0;34m,\u001b[0m \u001b[0maxis\u001b[0m\u001b[0;34m=\u001b[0m\u001b[0maxis\u001b[0m\u001b[0;34m)\u001b[0m\u001b[0;34m\u001b[0m\u001b[0;34m\u001b[0m\u001b[0m\n\u001b[0m\u001b[1;32m    172\u001b[0m \u001b[0;34m\u001b[0m\u001b[0m\n\u001b[1;32m    173\u001b[0m \u001b[0;34m\u001b[0m\u001b[0m\n",
      "\u001b[0;32m<__array_function__ internals>\u001b[0m in \u001b[0;36mconcatenate\u001b[0;34m(*args, **kwargs)\u001b[0m\n",
      "\u001b[0;31mKeyboardInterrupt\u001b[0m: "
     ]
    }
   ],
   "metadata": {}
  },
  {
   "cell_type": "code",
   "execution_count": 7,
   "source": [
    "valid_csv"
   ],
   "outputs": [
    {
     "output_type": "execute_result",
     "data": {
      "text/html": [
       "<div>\n",
       "<style scoped>\n",
       "    .dataframe tbody tr th:only-of-type {\n",
       "        vertical-align: middle;\n",
       "    }\n",
       "\n",
       "    .dataframe tbody tr th {\n",
       "        vertical-align: top;\n",
       "    }\n",
       "\n",
       "    .dataframe thead th {\n",
       "        text-align: right;\n",
       "    }\n",
       "</style>\n",
       "<table border=\"1\" class=\"dataframe\">\n",
       "  <thead>\n",
       "    <tr style=\"text-align: right;\">\n",
       "      <th></th>\n",
       "      <th>Path</th>\n",
       "      <th>Label</th>\n",
       "      <th>AudioPath</th>\n",
       "      <th>lenghts</th>\n",
       "    </tr>\n",
       "  </thead>\n",
       "  <tbody>\n",
       "    <tr>\n",
       "      <th>0</th>\n",
       "      <td>nsynth-valid/spec/keyboard_acoustic_004-060-02...</td>\n",
       "      <td>4</td>\n",
       "      <td>nsynth-valid/audio/keyboard_acoustic_004-060-0...</td>\n",
       "      <td>4000</td>\n",
       "    </tr>\n",
       "    <tr>\n",
       "      <th>1</th>\n",
       "      <td>nsynth-valid/spec/bass_synthetic_033-050-100.w...</td>\n",
       "      <td>0</td>\n",
       "      <td>nsynth-valid/audio/bass_synthetic_033-050-100.wav</td>\n",
       "      <td>4000</td>\n",
       "    </tr>\n",
       "    <tr>\n",
       "      <th>2</th>\n",
       "      <td>nsynth-valid/spec/bass_synthetic_009-052-050.w...</td>\n",
       "      <td>0</td>\n",
       "      <td>nsynth-valid/audio/bass_synthetic_009-052-050.wav</td>\n",
       "      <td>4000</td>\n",
       "    </tr>\n",
       "    <tr>\n",
       "      <th>3</th>\n",
       "      <td>nsynth-valid/spec/keyboard_electronic_003-064-...</td>\n",
       "      <td>4</td>\n",
       "      <td>nsynth-valid/audio/keyboard_electronic_003-064...</td>\n",
       "      <td>4000</td>\n",
       "    </tr>\n",
       "    <tr>\n",
       "      <th>4</th>\n",
       "      <td>nsynth-valid/spec/bass_synthetic_034-030-050.w...</td>\n",
       "      <td>0</td>\n",
       "      <td>nsynth-valid/audio/bass_synthetic_034-030-050.wav</td>\n",
       "      <td>4000</td>\n",
       "    </tr>\n",
       "    <tr>\n",
       "      <th>...</th>\n",
       "      <td>...</td>\n",
       "      <td>...</td>\n",
       "      <td>...</td>\n",
       "      <td>...</td>\n",
       "    </tr>\n",
       "    <tr>\n",
       "      <th>12673</th>\n",
       "      <td>nsynth-valid/spec/bass_electronic_025-051-127....</td>\n",
       "      <td>0</td>\n",
       "      <td>nsynth-valid/audio/bass_electronic_025-051-127...</td>\n",
       "      <td>4000</td>\n",
       "    </tr>\n",
       "    <tr>\n",
       "      <th>12674</th>\n",
       "      <td>nsynth-valid/spec/flute_synthetic_000-080-025....</td>\n",
       "      <td>2</td>\n",
       "      <td>nsynth-valid/audio/flute_synthetic_000-080-025...</td>\n",
       "      <td>4000</td>\n",
       "    </tr>\n",
       "    <tr>\n",
       "      <th>12675</th>\n",
       "      <td>nsynth-valid/spec/vocal_synthetic_003-073-025....</td>\n",
       "      <td>10</td>\n",
       "      <td>nsynth-valid/audio/vocal_synthetic_003-073-025...</td>\n",
       "      <td>4000</td>\n",
       "    </tr>\n",
       "    <tr>\n",
       "      <th>12676</th>\n",
       "      <td>nsynth-valid/spec/bass_synthetic_134-036-100.w...</td>\n",
       "      <td>0</td>\n",
       "      <td>nsynth-valid/audio/bass_synthetic_134-036-100.wav</td>\n",
       "      <td>4000</td>\n",
       "    </tr>\n",
       "    <tr>\n",
       "      <th>12677</th>\n",
       "      <td>nsynth-valid/spec/keyboard_acoustic_004-044-12...</td>\n",
       "      <td>4</td>\n",
       "      <td>nsynth-valid/audio/keyboard_acoustic_004-044-1...</td>\n",
       "      <td>4000</td>\n",
       "    </tr>\n",
       "  </tbody>\n",
       "</table>\n",
       "<p>12678 rows × 4 columns</p>\n",
       "</div>"
      ],
      "text/plain": [
       "                                                    Path Label  \\\n",
       "0      nsynth-valid/spec/keyboard_acoustic_004-060-02...     4   \n",
       "1      nsynth-valid/spec/bass_synthetic_033-050-100.w...     0   \n",
       "2      nsynth-valid/spec/bass_synthetic_009-052-050.w...     0   \n",
       "3      nsynth-valid/spec/keyboard_electronic_003-064-...     4   \n",
       "4      nsynth-valid/spec/bass_synthetic_034-030-050.w...     0   \n",
       "...                                                  ...   ...   \n",
       "12673  nsynth-valid/spec/bass_electronic_025-051-127....     0   \n",
       "12674  nsynth-valid/spec/flute_synthetic_000-080-025....     2   \n",
       "12675  nsynth-valid/spec/vocal_synthetic_003-073-025....    10   \n",
       "12676  nsynth-valid/spec/bass_synthetic_134-036-100.w...     0   \n",
       "12677  nsynth-valid/spec/keyboard_acoustic_004-044-12...     4   \n",
       "\n",
       "                                               AudioPath lenghts  \n",
       "0      nsynth-valid/audio/keyboard_acoustic_004-060-0...    4000  \n",
       "1      nsynth-valid/audio/bass_synthetic_033-050-100.wav    4000  \n",
       "2      nsynth-valid/audio/bass_synthetic_009-052-050.wav    4000  \n",
       "3      nsynth-valid/audio/keyboard_electronic_003-064...    4000  \n",
       "4      nsynth-valid/audio/bass_synthetic_034-030-050.wav    4000  \n",
       "...                                                  ...     ...  \n",
       "12673  nsynth-valid/audio/bass_electronic_025-051-127...    4000  \n",
       "12674  nsynth-valid/audio/flute_synthetic_000-080-025...    4000  \n",
       "12675  nsynth-valid/audio/vocal_synthetic_003-073-025...    4000  \n",
       "12676  nsynth-valid/audio/bass_synthetic_134-036-100.wav    4000  \n",
       "12677  nsynth-valid/audio/keyboard_acoustic_004-044-1...    4000  \n",
       "\n",
       "[12678 rows x 4 columns]"
      ]
     },
     "metadata": {},
     "execution_count": 7
    }
   ],
   "metadata": {}
  },
  {
   "cell_type": "code",
   "execution_count": 5,
   "source": [
    "dataset = train_csv\n",
    "dataset[\"lenghts\"] = None\n",
    "for idx,row in dataset.iterrows() :\n",
    "    wav_file = AudioSegment.from_file(file = os.path.join(root_dir,row['AudioPath']), format = \"wav\")\n",
    "    dataset.loc[idx,\"lenghts\"] = len(wav_file)    "
   ],
   "outputs": [],
   "metadata": {}
  },
  {
   "cell_type": "code",
   "execution_count": 6,
   "source": [
    "print(max(dataset[\"lenghts\"].values))\n",
    "fig, ax = plt.subplots(figsize =(5, 3))\n",
    "ax.hist(dataset[\"lenghts\"].values,bins=20)\n",
    "fig, ax = plt.subplots(figsize =(5,3))\n",
    "ax.hist(dataset[\"Label\"].values,bins=20)\n",
    "plt.show()"
   ],
   "outputs": [
    {
     "output_type": "stream",
     "name": "stdout",
     "text": [
      "4000\n"
     ]
    },
    {
     "output_type": "display_data",
     "data": {
      "image/png": "[encoded data removed]",
      "text/plain": [
       "<Figure size 360x216 with 1 Axes>"
      ]
     },
     "metadata": {
      "needs_background": "light"
     }
    },
    {
     "output_type": "display_data",
     "data": {
      "image/png": "[encoded data removed]",
      "text/plain": [
       "<Figure size 360x216 with 1 Axes>"
      ]
     },
     "metadata": {
      "needs_background": "light"
     }
    }
   ],
   "metadata": {}
  },
  {
   "cell_type": "code",
   "execution_count": null,
   "source": [],
   "outputs": [],
   "metadata": {}
  }
 ],
 "metadata": {
  "orig_nbformat": 4,
  "language_info": {
   "version": "3.9.6",
   "nbconvert_exporter": "python",
   "name": "python",
   "pygments_lexer": "ipython3",
   "file_extension": ".py",
   "mimetype": "text/x-python",
   "codemirror_mode": {
    "version": 3,
    "name": "ipython"
   }
  },
  "kernelspec": {
   "name": "python3",
   "display_name": "Python 3.9.6 64-bit ('icassp_cluster': conda)"
  },
  "interpreter": {
   "hash": "c4b341d7c7549049021401f8ab71a8b28deca04d86498bd9d1a255879400ea91"
  }
 },
 "nbformat": 4,
 "nbformat_minor": 2
}