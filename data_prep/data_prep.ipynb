{
 "cells": [
  {
   "cell_type": "code",
   "execution_count": 2,
   "source": [
    "import json\n",
    "import pandas as pd\n",
    "import os\n",
    "from tqdm import tqdm\n",
    "from pydub import AudioSegment  \n",
    "import matplotlib.pyplot as plt"
   ],
   "outputs": [],
   "metadata": {}
  },
  {
   "cell_type": "code",
   "execution_count": 2,
   "source": [
    "root_dirs = {\n",
    "        \"Birdsong\" : \"/nlsasfs/home/nltm-pilot/sandeshk/icassp/data/birdsong\",\n",
    "        \"IEMOCAP\" : \"/nlsasfs/home/nltm-pilot/sandeshk/icassp/data/iemocap/\",\n",
    "        \"MusicalInstruments\" : \"/nlsasfs/home/nltm-pilot/sandeshk/icassp/data/magenta\",\n",
    "        \"tut_urban\" : \"/nlsasfs/home/nltm-pilot/sandeshk/icassp/data/utu/TUT-urban-acoustic-scenes-2018-development\",\n",
    "        \"voxceleb_v1\" : \"/nlsasfs/home/nltm-pilot/sandeshk/icassp/data/voxceleb/\"\n",
    "    }"
   ],
   "outputs": [],
   "metadata": {}
  },
  {
   "cell_type": "markdown",
   "source": [
    "# BirdSong"
   ],
   "metadata": {}
  },
  {
   "cell_type": "code",
   "execution_count": null,
   "source": [
    "root_dir = root_dirs[\"Birdsong\"]\n",
    "\n",
    "ff_txt = os.path.join(root_dir,\"freefield1010/6035814\")\n",
    "df1 = pd.read_csv(ff_txt) \n",
    "df1['Path'] = df1.apply(lambda row: os.path.join( 'freefield1010','spec',str(row.itemid)+'.wav.npy'), axis = 1)\n",
    "df1['AudioPath'] = df1.apply(lambda row: os.path.join( 'freefield1010','wav',str(row.itemid)+'.wav'), axis = 1)\n",
    "df1.rename(columns = {'hasbird':'Label'}, inplace = True)\n",
    "wab_txt = os.path.join(root_dir,\"Warblr/6035817\")\n",
    "df2 = pd.read_csv(wab_txt) \n",
    "df2['Path'] = df2.apply(lambda row: os.path.join( 'Warblr','spec',str(row.itemid)+'.wav.npy'), axis = 1)\n",
    "df2['AudioPath'] = df2.apply(lambda row: os.path.join( 'Warblr','wav',str(row.itemid)+'.wav'), axis = 1)\n",
    "df2.rename(columns = {'hasbird':'Label'}, inplace = True)\n",
    "combined_df = df1.append(df2)"
   ],
   "outputs": [],
   "metadata": {}
  },
  {
   "cell_type": "code",
   "execution_count": null,
   "source": [
    "dataset = combined_df\n",
    "dataset[\"lenghts\"] = None\n",
    "for idx,row in dataset.iterrows() :\n",
    "    wav_file = AudioSegment.from_file(file = os.path.join(root_dir,row['AudioPath']), format = \"wav\")\n",
    "    dataset.loc[idx,\"lenghts\"] = len(wav_file)    "
   ],
   "outputs": [],
   "metadata": {}
  },
  {
   "cell_type": "code",
   "execution_count": null,
   "source": [
    "print(max(dataset[\"lenghts\"].values))\n",
    "fig, ax = plt.subplots(figsize =(5, 3))\n",
    "ax.hist(dataset[\"lenghts\"].values,bins=20)\n",
    "fig, ax = plt.subplots(figsize =(5,3))\n",
    "ax.hist(dataset[\"Label\"].values,bins=20)\n",
    "plt.show()"
   ],
   "outputs": [],
   "metadata": {}
  },
  {
   "cell_type": "markdown",
   "source": [
    "## Feats Generation"
   ],
   "metadata": {}
  },
  {
   "cell_type": "code",
   "execution_count": null,
   "source": [],
   "outputs": [],
   "metadata": {}
  },
  {
   "cell_type": "markdown",
   "source": [
    "## Write Data"
   ],
   "metadata": {}
  },
  {
   "cell_type": "code",
   "execution_count": null,
   "source": [
    "df1 = df1.reindex(columns=['Path','Label'])\n",
    "df1.to_csv(os.path.join(root_dir,\"freefield1010_data.csv\"),index=False)\n",
    "df2 = df2.reindex(columns=['Path','Label'])\n",
    "df2.to_csv(os.path.join(root_dir,\"Warblr_data.csv\"),index=False)\n",
    "combined_df = combined_df.reindex(columns=['Path','Label'])\n",
    "combined_df.to_csv(os.path.join(root_dir,\"combined_data.csv\"),index=False)"
   ],
   "outputs": [],
   "metadata": {}
  },
  {
   "cell_type": "markdown",
   "source": [
    "# IEMOCAP"
   ],
   "metadata": {}
  },
  {
   "cell_type": "code",
   "execution_count": 20,
   "source": [
    "root_dir = root_dirs[\"IEMOCAP\"]\n",
    "\n",
    "full_datacsv = pd.read_csv(os.path.join(root_dir,'iemocap_final.csv'))\n",
    "full_datacsv['type'] = full_datacsv.apply(lambda row: \"test\" if str(row.wav_file).startswith('Ses05') else \"train\",\n",
    "                                            axis=1)\n",
    "full_datacsv['AudioPath'] = full_datacsv.apply(lambda row: os.path.join('wav',str(row.wav_file)+'.wav'), axis = 1)\n",
    "full_datacsv['Path'] = full_datacsv.apply(lambda row: os.path.join('spec',str(row.wav_file)+'.wav.npy'), axis = 1)\n",
    "full_datacsv['Pathl2'] = full_datacsv.apply(lambda row: os.path.join('specl2',str(row.wav_file)+'.wav.npy'), axis = 1)\n",
    "full_datacsv['Label'] = full_datacsv['emotion'] \n",
    "full_datacsv.drop(['index','start_time','end_time','val' ,'act' ,'dom' ,'emotion','wav_file'],axis=1,inplace=True)\n"
   ],
   "outputs": [],
   "metadata": {}
  },
  {
   "cell_type": "code",
   "execution_count": 21,
   "source": [
    "print(full_datacsv['Label'].unique())\n",
    "index_names = full_datacsv[ full_datacsv['Label'].isin(['fru','exc','sur','oth','fea','dis']) ].index\n",
    "full_datacsv.drop(index_names, inplace = True)\n",
    "print(full_datacsv['Label'].unique())"
   ],
   "outputs": [
    {
     "output_type": "stream",
     "name": "stdout",
     "text": [
      "['neu' 'fru' 'ang' 'sad' 'hap' 'exc' 'sur' 'oth' 'fea' 'dis']\n",
      "['neu' 'ang' 'sad' 'hap']\n"
     ]
    }
   ],
   "metadata": {}
  },
  {
   "cell_type": "markdown",
   "source": [
    "## Write Data"
   ],
   "metadata": {}
  },
  {
   "cell_type": "code",
   "execution_count": 23,
   "source": [
    "full_datacsv"
   ],
   "outputs": [
    {
     "output_type": "execute_result",
     "data": {
      "text/html": [
       "<div>\n",
       "<style scoped>\n",
       "    .dataframe tbody tr th:only-of-type {\n",
       "        vertical-align: middle;\n",
       "    }\n",
       "\n",
       "    .dataframe tbody tr th {\n",
       "        vertical-align: top;\n",
       "    }\n",
       "\n",
       "    .dataframe thead th {\n",
       "        text-align: right;\n",
       "    }\n",
       "</style>\n",
       "<table border=\"1\" class=\"dataframe\">\n",
       "  <thead>\n",
       "    <tr style=\"text-align: right;\">\n",
       "      <th></th>\n",
       "      <th>type</th>\n",
       "      <th>AudioPath</th>\n",
       "      <th>Path</th>\n",
       "      <th>Pathl2</th>\n",
       "      <th>Label</th>\n",
       "      <th>lenghts</th>\n",
       "    </tr>\n",
       "  </thead>\n",
       "  <tbody>\n",
       "    <tr>\n",
       "      <th>0</th>\n",
       "      <td>train</td>\n",
       "      <td>wav/Ses01F_impro01_F000.wav</td>\n",
       "      <td>spec/Ses01F_impro01_F000.wav.npy</td>\n",
       "      <td>specl2/Ses01F_impro01_F000.wav.npy</td>\n",
       "      <td>neu</td>\n",
       "      <td>None</td>\n",
       "    </tr>\n",
       "    <tr>\n",
       "      <th>1</th>\n",
       "      <td>train</td>\n",
       "      <td>wav/Ses01F_impro01_F001.wav</td>\n",
       "      <td>spec/Ses01F_impro01_F001.wav.npy</td>\n",
       "      <td>specl2/Ses01F_impro01_F001.wav.npy</td>\n",
       "      <td>neu</td>\n",
       "      <td>None</td>\n",
       "    </tr>\n",
       "    <tr>\n",
       "      <th>2</th>\n",
       "      <td>train</td>\n",
       "      <td>wav/Ses01F_impro01_F002.wav</td>\n",
       "      <td>spec/Ses01F_impro01_F002.wav.npy</td>\n",
       "      <td>specl2/Ses01F_impro01_F002.wav.npy</td>\n",
       "      <td>neu</td>\n",
       "      <td>None</td>\n",
       "    </tr>\n",
       "    <tr>\n",
       "      <th>3</th>\n",
       "      <td>train</td>\n",
       "      <td>wav/Ses01F_impro01_F005.wav</td>\n",
       "      <td>spec/Ses01F_impro01_F005.wav.npy</td>\n",
       "      <td>specl2/Ses01F_impro01_F005.wav.npy</td>\n",
       "      <td>neu</td>\n",
       "      <td>None</td>\n",
       "    </tr>\n",
       "    <tr>\n",
       "      <th>9</th>\n",
       "      <td>train</td>\n",
       "      <td>wav/Ses01F_impro01_F012.wav</td>\n",
       "      <td>spec/Ses01F_impro01_F012.wav.npy</td>\n",
       "      <td>specl2/Ses01F_impro01_F012.wav.npy</td>\n",
       "      <td>ang</td>\n",
       "      <td>None</td>\n",
       "    </tr>\n",
       "    <tr>\n",
       "      <th>...</th>\n",
       "      <td>...</td>\n",
       "      <td>...</td>\n",
       "      <td>...</td>\n",
       "      <td>...</td>\n",
       "      <td>...</td>\n",
       "      <td>...</td>\n",
       "    </tr>\n",
       "    <tr>\n",
       "      <th>7527</th>\n",
       "      <td>test</td>\n",
       "      <td>wav/Ses05M_script03_2_M041.wav</td>\n",
       "      <td>spec/Ses05M_script03_2_M041.wav.npy</td>\n",
       "      <td>specl2/Ses05M_script03_2_M041.wav.npy</td>\n",
       "      <td>ang</td>\n",
       "      <td>None</td>\n",
       "    </tr>\n",
       "    <tr>\n",
       "      <th>7528</th>\n",
       "      <td>test</td>\n",
       "      <td>wav/Ses05M_script03_2_M042.wav</td>\n",
       "      <td>spec/Ses05M_script03_2_M042.wav.npy</td>\n",
       "      <td>specl2/Ses05M_script03_2_M042.wav.npy</td>\n",
       "      <td>ang</td>\n",
       "      <td>None</td>\n",
       "    </tr>\n",
       "    <tr>\n",
       "      <th>7529</th>\n",
       "      <td>test</td>\n",
       "      <td>wav/Ses05M_script03_2_M043.wav</td>\n",
       "      <td>spec/Ses05M_script03_2_M043.wav.npy</td>\n",
       "      <td>specl2/Ses05M_script03_2_M043.wav.npy</td>\n",
       "      <td>ang</td>\n",
       "      <td>None</td>\n",
       "    </tr>\n",
       "    <tr>\n",
       "      <th>7530</th>\n",
       "      <td>test</td>\n",
       "      <td>wav/Ses05M_script03_2_M044.wav</td>\n",
       "      <td>spec/Ses05M_script03_2_M044.wav.npy</td>\n",
       "      <td>specl2/Ses05M_script03_2_M044.wav.npy</td>\n",
       "      <td>ang</td>\n",
       "      <td>None</td>\n",
       "    </tr>\n",
       "    <tr>\n",
       "      <th>7531</th>\n",
       "      <td>test</td>\n",
       "      <td>wav/Ses05M_script03_2_M045.wav</td>\n",
       "      <td>spec/Ses05M_script03_2_M045.wav.npy</td>\n",
       "      <td>specl2/Ses05M_script03_2_M045.wav.npy</td>\n",
       "      <td>ang</td>\n",
       "      <td>None</td>\n",
       "    </tr>\n",
       "  </tbody>\n",
       "</table>\n",
       "<p>4490 rows × 6 columns</p>\n",
       "</div>"
      ],
      "text/plain": [
       "       type                       AudioPath  \\\n",
       "0     train     wav/Ses01F_impro01_F000.wav   \n",
       "1     train     wav/Ses01F_impro01_F001.wav   \n",
       "2     train     wav/Ses01F_impro01_F002.wav   \n",
       "3     train     wav/Ses01F_impro01_F005.wav   \n",
       "9     train     wav/Ses01F_impro01_F012.wav   \n",
       "...     ...                             ...   \n",
       "7527   test  wav/Ses05M_script03_2_M041.wav   \n",
       "7528   test  wav/Ses05M_script03_2_M042.wav   \n",
       "7529   test  wav/Ses05M_script03_2_M043.wav   \n",
       "7530   test  wav/Ses05M_script03_2_M044.wav   \n",
       "7531   test  wav/Ses05M_script03_2_M045.wav   \n",
       "\n",
       "                                     Path  \\\n",
       "0        spec/Ses01F_impro01_F000.wav.npy   \n",
       "1        spec/Ses01F_impro01_F001.wav.npy   \n",
       "2        spec/Ses01F_impro01_F002.wav.npy   \n",
       "3        spec/Ses01F_impro01_F005.wav.npy   \n",
       "9        spec/Ses01F_impro01_F012.wav.npy   \n",
       "...                                   ...   \n",
       "7527  spec/Ses05M_script03_2_M041.wav.npy   \n",
       "7528  spec/Ses05M_script03_2_M042.wav.npy   \n",
       "7529  spec/Ses05M_script03_2_M043.wav.npy   \n",
       "7530  spec/Ses05M_script03_2_M044.wav.npy   \n",
       "7531  spec/Ses05M_script03_2_M045.wav.npy   \n",
       "\n",
       "                                     Pathl2 Label lenghts  \n",
       "0        specl2/Ses01F_impro01_F000.wav.npy   neu    None  \n",
       "1        specl2/Ses01F_impro01_F001.wav.npy   neu    None  \n",
       "2        specl2/Ses01F_impro01_F002.wav.npy   neu    None  \n",
       "3        specl2/Ses01F_impro01_F005.wav.npy   neu    None  \n",
       "9        specl2/Ses01F_impro01_F012.wav.npy   ang    None  \n",
       "...                                     ...   ...     ...  \n",
       "7527  specl2/Ses05M_script03_2_M041.wav.npy   ang    None  \n",
       "7528  specl2/Ses05M_script03_2_M042.wav.npy   ang    None  \n",
       "7529  specl2/Ses05M_script03_2_M043.wav.npy   ang    None  \n",
       "7530  specl2/Ses05M_script03_2_M044.wav.npy   ang    None  \n",
       "7531  specl2/Ses05M_script03_2_M045.wav.npy   ang    None  \n",
       "\n",
       "[4490 rows x 6 columns]"
      ]
     },
     "metadata": {},
     "execution_count": 23
    }
   ],
   "metadata": {}
  },
  {
   "cell_type": "code",
   "execution_count": 24,
   "source": [
    "full_datacsv = full_datacsv.reindex(columns=['Pathl2','Label','type'])\n",
    "grouped = full_datacsv.groupby(full_datacsv.type)\n",
    "\n",
    "train = grouped.get_group(\"train\").drop(['type'],axis=1)\n",
    "test  = grouped.get_group(\"test\").drop(['type'],axis=1)\n",
    "print(len(train))\n",
    "print(len(test))\n",
    "# print(full_datacsv)\n",
    "train.to_csv(os.path.join(root_dir,'train_data_l2.csv'),index=False)\n",
    "test.to_csv(os.path.join(root_dir,'test_data_l2.csv'),index=False)\n",
    "# full_datacsv.to_csv(os.path.join(root_dir,'data.csv'),index=False)"
   ],
   "outputs": [
    {
     "output_type": "stream",
     "name": "stdout",
     "text": [
      "3548\n",
      "942\n"
     ]
    }
   ],
   "metadata": {}
  },
  {
   "cell_type": "markdown",
   "source": [
    "# Voxceleb"
   ],
   "metadata": {}
  },
  {
   "cell_type": "code",
   "execution_count": null,
   "source": [
    "train_csv = pd.read_csv(\"/speech/Databases/Birdsong/Voxceleb1/dev/test_vox.csv\")\n",
    "lenghts = []\n",
    "drop_index = []\n",
    "for idx,row in train_csv.iterrows() :\n",
    "    wav_file = AudioSegment.from_file(file = os.path.join(\"/speech/Databases/Birdsong/Voxceleb1/dev/wav\",row['file_path'][46:]), \n",
    "                                  format = \"wav\")\n",
    "    lenghts.append(len(wav_file))\n",
    "    if len(wav_file) > 50000 :\n",
    "        drop_index.append(idx)\n",
    "\n",
    "\n",
    "train_new_csv = train_csv.drop(drop_index,axis=0)\n",
    "print(len(train_csv)- len(train_new_csv))\n",
    "# train_new_csv.to_csv(\"/speech/Databases/Birdsong/Voxceleb1/dev/train_new_vox.csv\")\n",
    "train_new_csv['Path'] = train_new_csv.apply(lambda row: os.path.join('spec',str(str(row.file_path)[46:]+'.npy')) , axis = 1)\n",
    "train_new_csv  = train_new_csv.drop(['file_path'],axis=1)\n",
    "train_new_csv = train_new_csv.reindex(columns=['Path','label'])\n",
    "train_new_csv.to_csv(\"/speech/Databases/Birdsong/Voxceleb1/dev/test_data.csv\",index=False)"
   ],
   "outputs": [],
   "metadata": {}
  },
  {
   "cell_type": "code",
   "execution_count": null,
   "source": [
    "dataset = train_new_csv\n",
    "dataset[\"lenghts\"] = None\n",
    "for idx,row in dataset.iterrows() :\n",
    "    wav_file = AudioSegment.from_file(file = os.path.join(root_dir,'wav',row['wav_file']+'.wav'), format = \"wav\")\n",
    "    dataset.loc[idx,\"lenghts\"] = len(wav_file)"
   ],
   "outputs": [],
   "metadata": {}
  },
  {
   "cell_type": "code",
   "execution_count": null,
   "source": [
    "print(max(dataset[\"lenghts\"].values))\n",
    "fig, ax = plt.subplots(figsize =(5, 3))\n",
    "ax.hist(dataset[\"lenghts\"].values,bins=20)\n",
    "fig, ax = plt.subplots(figsize =(5,3))\n",
    "ax.hist(dataset[\"Label\"].values,bins=20)\n",
    "# Show plot\n",
    "plt.show()"
   ],
   "outputs": [],
   "metadata": {}
  },
  {
   "cell_type": "markdown",
   "source": [
    "# TuT Urban"
   ],
   "metadata": {}
  },
  {
   "cell_type": "code",
   "execution_count": 4,
   "source": [
    "root_dir = \"/nlsasfs/home/nltm-pilot/sandeshk/icassp/data/utu/TUT-urban-acoustic-scenes-2018-development\"\n",
    "\n",
    "train_df = pd.read_csv(os.path.join(root_dir,\"evaluation_setup\",\"fold1_train.txt\"),sep=\"\\t\",header=None)\n",
    "train_df.columns = [\"AudioPath\",\"Label\"]\n",
    "\n",
    "train_df['Path'] = train_df.apply(lambda row: os.path.join('spec',str(row.AudioPath).split('/')[-1]+'.npy'), axis = 1)\n",
    "train_df['PathL2'] = train_df.apply(lambda row: os.path.join('specl2',str(row.AudioPath).split('/')[-1]+'.npy'), axis = 1)\n",
    "\n",
    "test_df = pd.read_csv(os.path.join(root_dir,\"evaluation_setup\",\"fold1_test.txt\"),sep=\"\\t\",header=None)\n",
    "test_df.columns = [\"AudioPath\"]\n",
    "test_df['Label'] =test_df.apply(lambda row: (str(row.AudioPath).split('/')[-1]).split('-')[0], axis = 1) \n",
    "test_df['Path'] = test_df.apply(lambda row: os.path.join('spec',str(row.AudioPath).split('/')[-1]+'.npy'), axis = 1)\n",
    "test_df['PathL2'] = test_df.apply(lambda row: os.path.join('specl2',str(row.AudioPath).split('/')[-1]+'.npy'), axis = 1)"
   ],
   "outputs": [],
   "metadata": {}
  },
  {
   "cell_type": "code",
   "execution_count": 5,
   "source": [
    "train_df = train_df.reindex(columns=['Path','Label'])\n",
    "train_df.to_csv(os.path.join(root_dir,\"train_data.csv\"),index=False)\n",
    "test_df = test_df.reindex(columns=['Path','Label'])\n",
    "test_df.to_csv(os.path.join(root_dir,\"test_data.csv\"),index=False)"
   ],
   "outputs": [],
   "metadata": {}
  },
  {
   "cell_type": "code",
   "execution_count": 5,
   "source": [
    "train_df = train_df.reindex(columns=['PathL2','Label'])\n",
    "train_df.to_csv(os.path.join(root_dir,\"train_data_l2.csv\"),index=False)\n",
    "test_df = test_df.reindex(columns=['PathL2','Label'])\n",
    "test_df.to_csv(os.path.join(root_dir,\"test_data_l2.csv\"),index=False)"
   ],
   "outputs": [],
   "metadata": {}
  },
  {
   "cell_type": "code",
   "execution_count": 7,
   "source": [
    "train_df"
   ],
   "outputs": [
    {
     "output_type": "execute_result",
     "data": {
      "text/html": [
       "<div>\n",
       "<style scoped>\n",
       "    .dataframe tbody tr th:only-of-type {\n",
       "        vertical-align: middle;\n",
       "    }\n",
       "\n",
       "    .dataframe tbody tr th {\n",
       "        vertical-align: top;\n",
       "    }\n",
       "\n",
       "    .dataframe thead th {\n",
       "        text-align: right;\n",
       "    }\n",
       "</style>\n",
       "<table border=\"1\" class=\"dataframe\">\n",
       "  <thead>\n",
       "    <tr style=\"text-align: right;\">\n",
       "      <th></th>\n",
       "      <th>Path</th>\n",
       "      <th>Label</th>\n",
       "    </tr>\n",
       "  </thead>\n",
       "  <tbody>\n",
       "    <tr>\n",
       "      <th>0</th>\n",
       "      <td>spec/airport-barcelona-0-0-a.wav.npy</td>\n",
       "      <td>airport</td>\n",
       "    </tr>\n",
       "    <tr>\n",
       "      <th>1</th>\n",
       "      <td>spec/airport-barcelona-0-1-a.wav.npy</td>\n",
       "      <td>airport</td>\n",
       "    </tr>\n",
       "    <tr>\n",
       "      <th>2</th>\n",
       "      <td>spec/airport-barcelona-0-2-a.wav.npy</td>\n",
       "      <td>airport</td>\n",
       "    </tr>\n",
       "    <tr>\n",
       "      <th>3</th>\n",
       "      <td>spec/airport-barcelona-0-3-a.wav.npy</td>\n",
       "      <td>airport</td>\n",
       "    </tr>\n",
       "    <tr>\n",
       "      <th>4</th>\n",
       "      <td>spec/airport-barcelona-0-4-a.wav.npy</td>\n",
       "      <td>airport</td>\n",
       "    </tr>\n",
       "    <tr>\n",
       "      <th>...</th>\n",
       "      <td>...</td>\n",
       "      <td>...</td>\n",
       "    </tr>\n",
       "    <tr>\n",
       "      <th>6117</th>\n",
       "      <td>spec/tram-vienna-202-6117-a.wav.npy</td>\n",
       "      <td>tram</td>\n",
       "    </tr>\n",
       "    <tr>\n",
       "      <th>6118</th>\n",
       "      <td>spec/tram-vienna-202-6118-a.wav.npy</td>\n",
       "      <td>tram</td>\n",
       "    </tr>\n",
       "    <tr>\n",
       "      <th>6119</th>\n",
       "      <td>spec/tram-vienna-202-6119-a.wav.npy</td>\n",
       "      <td>tram</td>\n",
       "    </tr>\n",
       "    <tr>\n",
       "      <th>6120</th>\n",
       "      <td>spec/tram-vienna-202-6120-a.wav.npy</td>\n",
       "      <td>tram</td>\n",
       "    </tr>\n",
       "    <tr>\n",
       "      <th>6121</th>\n",
       "      <td>spec/tram-vienna-202-6121-a.wav.npy</td>\n",
       "      <td>tram</td>\n",
       "    </tr>\n",
       "  </tbody>\n",
       "</table>\n",
       "<p>6122 rows × 2 columns</p>\n",
       "</div>"
      ],
      "text/plain": [
       "                                      Path    Label\n",
       "0     spec/airport-barcelona-0-0-a.wav.npy  airport\n",
       "1     spec/airport-barcelona-0-1-a.wav.npy  airport\n",
       "2     spec/airport-barcelona-0-2-a.wav.npy  airport\n",
       "3     spec/airport-barcelona-0-3-a.wav.npy  airport\n",
       "4     spec/airport-barcelona-0-4-a.wav.npy  airport\n",
       "...                                    ...      ...\n",
       "6117   spec/tram-vienna-202-6117-a.wav.npy     tram\n",
       "6118   spec/tram-vienna-202-6118-a.wav.npy     tram\n",
       "6119   spec/tram-vienna-202-6119-a.wav.npy     tram\n",
       "6120   spec/tram-vienna-202-6120-a.wav.npy     tram\n",
       "6121   spec/tram-vienna-202-6121-a.wav.npy     tram\n",
       "\n",
       "[6122 rows x 2 columns]"
      ]
     },
     "metadata": {},
     "execution_count": 7
    }
   ],
   "metadata": {}
  },
  {
   "cell_type": "code",
   "execution_count": 10,
   "source": [
    "test_df"
   ],
   "outputs": [
    {
     "output_type": "execute_result",
     "data": {
      "text/html": [
       "<div>\n",
       "<style scoped>\n",
       "    .dataframe tbody tr th:only-of-type {\n",
       "        vertical-align: middle;\n",
       "    }\n",
       "\n",
       "    .dataframe tbody tr th {\n",
       "        vertical-align: top;\n",
       "    }\n",
       "\n",
       "    .dataframe thead th {\n",
       "        text-align: right;\n",
       "    }\n",
       "</style>\n",
       "<table border=\"1\" class=\"dataframe\">\n",
       "  <thead>\n",
       "    <tr style=\"text-align: right;\">\n",
       "      <th></th>\n",
       "      <th>PathL2</th>\n",
       "      <th>Label</th>\n",
       "    </tr>\n",
       "  </thead>\n",
       "  <tbody>\n",
       "    <tr>\n",
       "      <th>0</th>\n",
       "      <td>specl2/airport-barcelona-203-6122-a.wav.npy</td>\n",
       "      <td>airport</td>\n",
       "    </tr>\n",
       "    <tr>\n",
       "      <th>1</th>\n",
       "      <td>specl2/airport-barcelona-203-6123-a.wav.npy</td>\n",
       "      <td>airport</td>\n",
       "    </tr>\n",
       "    <tr>\n",
       "      <th>2</th>\n",
       "      <td>specl2/airport-barcelona-203-6124-a.wav.npy</td>\n",
       "      <td>airport</td>\n",
       "    </tr>\n",
       "    <tr>\n",
       "      <th>3</th>\n",
       "      <td>specl2/airport-barcelona-203-6125-a.wav.npy</td>\n",
       "      <td>airport</td>\n",
       "    </tr>\n",
       "    <tr>\n",
       "      <th>4</th>\n",
       "      <td>specl2/airport-barcelona-203-6126-a.wav.npy</td>\n",
       "      <td>airport</td>\n",
       "    </tr>\n",
       "    <tr>\n",
       "      <th>...</th>\n",
       "      <td>...</td>\n",
       "      <td>...</td>\n",
       "    </tr>\n",
       "    <tr>\n",
       "      <th>2513</th>\n",
       "      <td>specl2/tram-vienna-285-8635-a.wav.npy</td>\n",
       "      <td>tram</td>\n",
       "    </tr>\n",
       "    <tr>\n",
       "      <th>2514</th>\n",
       "      <td>specl2/tram-vienna-285-8636-a.wav.npy</td>\n",
       "      <td>tram</td>\n",
       "    </tr>\n",
       "    <tr>\n",
       "      <th>2515</th>\n",
       "      <td>specl2/tram-vienna-285-8637-a.wav.npy</td>\n",
       "      <td>tram</td>\n",
       "    </tr>\n",
       "    <tr>\n",
       "      <th>2516</th>\n",
       "      <td>specl2/tram-vienna-285-8638-a.wav.npy</td>\n",
       "      <td>tram</td>\n",
       "    </tr>\n",
       "    <tr>\n",
       "      <th>2517</th>\n",
       "      <td>specl2/tram-vienna-285-8639-a.wav.npy</td>\n",
       "      <td>tram</td>\n",
       "    </tr>\n",
       "  </tbody>\n",
       "</table>\n",
       "<p>2518 rows × 2 columns</p>\n",
       "</div>"
      ],
      "text/plain": [
       "                                           PathL2    Label\n",
       "0     specl2/airport-barcelona-203-6122-a.wav.npy  airport\n",
       "1     specl2/airport-barcelona-203-6123-a.wav.npy  airport\n",
       "2     specl2/airport-barcelona-203-6124-a.wav.npy  airport\n",
       "3     specl2/airport-barcelona-203-6125-a.wav.npy  airport\n",
       "4     specl2/airport-barcelona-203-6126-a.wav.npy  airport\n",
       "...                                           ...      ...\n",
       "2513        specl2/tram-vienna-285-8635-a.wav.npy     tram\n",
       "2514        specl2/tram-vienna-285-8636-a.wav.npy     tram\n",
       "2515        specl2/tram-vienna-285-8637-a.wav.npy     tram\n",
       "2516        specl2/tram-vienna-285-8638-a.wav.npy     tram\n",
       "2517        specl2/tram-vienna-285-8639-a.wav.npy     tram\n",
       "\n",
       "[2518 rows x 2 columns]"
      ]
     },
     "metadata": {},
     "execution_count": 10
    }
   ],
   "metadata": {}
  },
  {
   "cell_type": "code",
   "execution_count": null,
   "source": [
    "dataset = train_df\n",
    "dataset[\"lenghts\"] = None\n",
    "for idx,row in dataset.iterrows() :\n",
    "    wav_file = AudioSegment.from_file(file = os.path.join(root_dir,'wav',row['AudioPath']+'.wav'), format = \"wav\")\n",
    "    dataset.loc[idx,\"lenghts\"] = len(wav_file)"
   ],
   "outputs": [],
   "metadata": {}
  },
  {
   "cell_type": "code",
   "execution_count": null,
   "source": [
    "print(max(dataset[\"lenghts\"].values))\n",
    "fig, ax = plt.subplots(figsize =(5, 3))\n",
    "ax.hist(dataset[\"lenghts\"].values,bins=20)\n",
    "fig, ax = plt.subplots(figsize =(5,3))\n",
    "ax.hist(dataset[\"Label\"].values,bins=20)\n",
    "# Show plot\n",
    "plt.show()"
   ],
   "outputs": [],
   "metadata": {}
  },
  {
   "cell_type": "markdown",
   "source": [
    "# Speech Commands V1"
   ],
   "metadata": {}
  },
  {
   "cell_type": "code",
   "execution_count": 9,
   "source": [
    "labels  = pd.read_csv(\"/nlsasfs/home/nltm-pilot/sandeshk/icassp/data/SpeechCommandsV1/train/labels.csv\")\n",
    "labels['Path']  = labels.apply(lambda row: str(row.Path)[45:], axis = 1)"
   ],
   "outputs": [],
   "metadata": {}
  },
  {
   "cell_type": "code",
   "execution_count": 10,
   "source": [
    "labels"
   ],
   "outputs": [
    {
     "output_type": "execute_result",
     "data": {
      "text/html": [
       "<div>\n",
       "<style scoped>\n",
       "    .dataframe tbody tr th:only-of-type {\n",
       "        vertical-align: middle;\n",
       "    }\n",
       "\n",
       "    .dataframe tbody tr th {\n",
       "        vertical-align: top;\n",
       "    }\n",
       "\n",
       "    .dataframe thead th {\n",
       "        text-align: right;\n",
       "    }\n",
       "</style>\n",
       "<table border=\"1\" class=\"dataframe\">\n",
       "  <thead>\n",
       "    <tr style=\"text-align: right;\">\n",
       "      <th></th>\n",
       "      <th>Path</th>\n",
       "      <th>Label</th>\n",
       "    </tr>\n",
       "  </thead>\n",
       "  <tbody>\n",
       "    <tr>\n",
       "      <th>0</th>\n",
       "      <td>yes/11860c84_nohash_0.wav</td>\n",
       "      <td>yes</td>\n",
       "    </tr>\n",
       "    <tr>\n",
       "      <th>1</th>\n",
       "      <td>yes/140a0fdc_nohash_1.wav</td>\n",
       "      <td>yes</td>\n",
       "    </tr>\n",
       "    <tr>\n",
       "      <th>2</th>\n",
       "      <td>yes/b6ebe225_nohash_0.wav</td>\n",
       "      <td>yes</td>\n",
       "    </tr>\n",
       "    <tr>\n",
       "      <th>3</th>\n",
       "      <td>yes/e900b652_nohash_0.wav</td>\n",
       "      <td>yes</td>\n",
       "    </tr>\n",
       "    <tr>\n",
       "      <th>4</th>\n",
       "      <td>yes/96ab6565_nohash_2.wav</td>\n",
       "      <td>yes</td>\n",
       "    </tr>\n",
       "    <tr>\n",
       "      <th>...</th>\n",
       "      <td>...</td>\n",
       "      <td>...</td>\n",
       "    </tr>\n",
       "    <tr>\n",
       "      <th>64716</th>\n",
       "      <td>tree/15b0c947_nohash_0.wav</td>\n",
       "      <td>tree</td>\n",
       "    </tr>\n",
       "    <tr>\n",
       "      <th>64717</th>\n",
       "      <td>tree/a8688b67_nohash_0.wav</td>\n",
       "      <td>tree</td>\n",
       "    </tr>\n",
       "    <tr>\n",
       "      <th>64718</th>\n",
       "      <td>tree/c137814b_nohash_0.wav</td>\n",
       "      <td>tree</td>\n",
       "    </tr>\n",
       "    <tr>\n",
       "      <th>64719</th>\n",
       "      <td>tree/b01c8f61_nohash_0.wav</td>\n",
       "      <td>tree</td>\n",
       "    </tr>\n",
       "    <tr>\n",
       "      <th>64720</th>\n",
       "      <td>tree/a6d586b7_nohash_0.wav</td>\n",
       "      <td>tree</td>\n",
       "    </tr>\n",
       "  </tbody>\n",
       "</table>\n",
       "<p>64721 rows × 2 columns</p>\n",
       "</div>"
      ],
      "text/plain": [
       "                             Path Label\n",
       "0       yes/11860c84_nohash_0.wav   yes\n",
       "1       yes/140a0fdc_nohash_1.wav   yes\n",
       "2       yes/b6ebe225_nohash_0.wav   yes\n",
       "3       yes/e900b652_nohash_0.wav   yes\n",
       "4       yes/96ab6565_nohash_2.wav   yes\n",
       "...                           ...   ...\n",
       "64716  tree/15b0c947_nohash_0.wav  tree\n",
       "64717  tree/a8688b67_nohash_0.wav  tree\n",
       "64718  tree/c137814b_nohash_0.wav  tree\n",
       "64719  tree/b01c8f61_nohash_0.wav  tree\n",
       "64720  tree/a6d586b7_nohash_0.wav  tree\n",
       "\n",
       "[64721 rows x 2 columns]"
      ]
     },
     "metadata": {},
     "execution_count": 10
    }
   ],
   "metadata": {}
  },
  {
   "cell_type": "code",
   "execution_count": 11,
   "source": [
    "root_dir = \"/nlsasfs/home/nltm-pilot/sandeshk/icassp/data/SpeechCommandsV1/train\"\n",
    "\n",
    "test_labels = [\"yes\", \"no\", \"up\", \"down\",\"left\", \"right\", \"on\", \"off\", \"stop\", \"go\" ] #10\n",
    "core_labels = test_labels + [\"zero\",\"one\",\"two\",\"three\",\"four\",\"five\",\"six\",\"seven\",\"eight\",\"nine\"] # 20\n",
    "auxliary_labels = [\"bird\",\"dog\",\"happy\", \"wow\",\"bed\",\"cat\",\"house\",\"marvin\",\"sheila\",\"tree\"] #10\n",
    "labels = core_labels+ auxliary_labels\n",
    "\n",
    "train_df = pd.DataFrame(columns = [ 'AudioPath', 'Label'])\n",
    "audio_root_dir = os.path.join(root_dir , \"audio\")\n",
    "\n",
    "for labe_id,label in tqdm(enumerate(labels)):\n",
    "    audiofiles = os.listdir(os.path.join(audio_root_dir,label))\n",
    "    for file in tqdm(audiofiles ,leave=False):\n",
    "        file_path = os.path.join(label,file)\n",
    "        train_df=train_df.append( {'AudioPath' : file_path, 'Label' : label} , ignore_index = True)"
   ],
   "outputs": [
    {
     "output_type": "stream",
     "name": "stderr",
     "text": [
      "25it [02:19,  6.08s/it]"
     ]
    }
   ],
   "metadata": {}
  },
  {
   "cell_type": "code",
   "execution_count": null,
   "source": [
    "train_df"
   ],
   "outputs": [],
   "metadata": {}
  },
  {
   "cell_type": "code",
   "execution_count": null,
   "source": [
    "dataset = train_df\n",
    "dataset[\"lenghts\"] = None\n",
    "for idx,row in tqdm(dataset.iterrows()) :\n",
    "    wav_file = AudioSegment.from_file(file = os.path.join(root_dir,'audio',row['AudioPath']), format = \"wav\")\n",
    "    dataset.loc[idx,\"lenghts\"] = len(wav_file)"
   ],
   "outputs": [],
   "metadata": {}
  },
  {
   "cell_type": "code",
   "execution_count": null,
   "source": [
    "print(max(dataset[\"lenghts\"].values))\n",
    "fig, ax = plt.subplots(figsize =(5, 3))\n",
    "ax.hist(dataset[\"lenghts\"].values,bins=20)\n",
    "fig, ax = plt.subplots(figsize =(15,3))\n",
    "ax.hist(dataset[\"Label\"].values,bins=20)\n",
    "# Show plot\n",
    "plt.show()"
   ],
   "outputs": [],
   "metadata": {}
  },
  {
   "cell_type": "markdown",
   "source": [
    "# Libri100"
   ],
   "metadata": {}
  },
  {
   "cell_type": "code",
   "execution_count": null,
   "source": [
    "root_dir = \"/speech/Databases/Birdsong/Libri100SpkId/\""
   ],
   "outputs": [],
   "metadata": {}
  },
  {
   "cell_type": "code",
   "execution_count": null,
   "source": [
    "utt2spk_root = os.path.join(root_dir,\"utt2spk\")\n",
    "utt2spk = dict()\n",
    "with open(utt2spk_root) as f:\n",
    "    for x in tqdm(f):\n",
    "        key , value = x.split()\n",
    "        if utt2spk.get(key, None)==None:\n",
    "            utt2spk[key] = value #.add(1, 'Geeks')\n",
    "        else:\n",
    "            raise NotImplementedError    \n"
   ],
   "outputs": [],
   "metadata": {}
  },
  {
   "cell_type": "code",
   "execution_count": null,
   "source": [
    "train_txt = os.path.join(root_dir,\"train_split.txt\")\n",
    "test_txt = os.path.join(root_dir,\"test_split.txt\")\n",
    "train_ids = []\n",
    "test_ids = []\n",
    "\n",
    "print(\"no_of_speakers\",len(set(utt2spk.values())))\n",
    "\n",
    "\n",
    "with open(test_txt) as f:\n",
    "    test_ids = f.read().splitlines() \n",
    "\n",
    "\n",
    "test_csv = pd.DataFrame(columns = ['AudioPath', 'Label'])\n",
    "test_speakers=[]\n",
    "for i in tqdm(test_ids):\n",
    "    test_speakers.append(utt2spk[i])\n",
    "    test_csv = test_csv.append({'AudioPath' : i+'.wav', 'Label' : utt2spk[i] }, \n",
    "                ignore_index = True)\n",
    "print(\"no_of_speakers\",len(set(test_speakers)))\n",
    "\n",
    "\n",
    "\n",
    "with open(train_txt) as f:\n",
    "    train_ids = f.read().splitlines() \n",
    "\n",
    "\n",
    "train_csv = pd.DataFrame(columns = ['AudioPath', 'Label'])\n",
    "train_speakers=[]\n",
    "for i in tqdm(train_ids):\n",
    "    train_speakers.append(utt2spk[i])\n",
    "    train_csv = train_csv.append({'AudioPath' : i+'.wav', 'Label' : utt2spk[i] }, \n",
    "                ignore_index = True)\n",
    "print(\"no_of_speakers\",len(set(train_speakers)))\n"
   ],
   "outputs": [],
   "metadata": {}
  },
  {
   "cell_type": "code",
   "execution_count": null,
   "source": [
    "train_csv"
   ],
   "outputs": [],
   "metadata": {}
  },
  {
   "cell_type": "code",
   "execution_count": null,
   "source": [
    "dataset = train_csv\n",
    "dataset[\"lenghts\"] = None\n",
    "for idx,row in tqdm(dataset.iterrows()) :\n",
    "    wav_file = AudioSegment.from_file(file = os.path.join(root_dir,'wav',row['AudioPath']), format = \"wav\")\n",
    "    dataset.loc[idx,\"lenghts\"] = len(wav_file)"
   ],
   "outputs": [],
   "metadata": {}
  },
  {
   "cell_type": "code",
   "execution_count": null,
   "source": [
    "print(max(dataset[\"lenghts\"].values))\n",
    "fig, ax = plt.subplots(figsize =(5, 3))\n",
    "ax.hist(dataset[\"lenghts\"].values,bins=20)\n",
    "fig, ax = plt.subplots(figsize =(15,3))\n",
    "ax.hist(dataset[\"Label\"].values,bins=20)\n",
    "# Show plot\n",
    "plt.show()"
   ],
   "outputs": [],
   "metadata": {}
  },
  {
   "cell_type": "code",
   "execution_count": null,
   "source": [],
   "outputs": [],
   "metadata": {}
  },
  {
   "cell_type": "markdown",
   "source": [
    "# Musical Instruments\n",
    "\n",
    "* nsynth-train : (289205)"
   ],
   "metadata": {}
  },
  {
   "cell_type": "code",
   "execution_count": null,
   "source": [
    "\n",
    "root_dir = root_dirs[\"MusicalInstruments\"] \n",
    "\n",
    "fi = open(os.path.join(root_dir,'nsynth-train','examples.json'))\n",
    "train_json = json.load(fi)\n",
    "train_csv=pd.DataFrame(columns=['AudioPath','Path','Label'])\n",
    "for key in tqdm(train_json.keys()):\n",
    "    train_csv=train_csv.append({'Path' : os.path.join('nsynth-train','spec',key+'.wav.npy'),\n",
    "                                'Label' : train_json[key]['instrument_family'] ,\n",
    "                                'AudioPath' : os.path.join('nsynth-train','audio',key+'.wav'),\n",
    "                                },ignore_index=True)\n",
    "fi.close()\n",
    "\n",
    "fi = open(os.path.join(root_dir,'nsynth-valid','examples.json'))\n",
    "valid_json = json.load(fi)\n",
    "\n",
    "valid_csv=pd.DataFrame(columns=['AudioPath','Path','Label'])\n",
    "for key in tqdm(valid_json.keys()):\n",
    "    valid_csv=valid_csv.append({'Path' : os.path.join('nsynth-valid','spec',key+'.wav.npy'),\n",
    "                                'Label' : valid_json[key]['instrument_family'],\n",
    "                                'AudioPath' : os.path.join('nsynth-valid','audio',key+'.wav'), \n",
    "    },ignore_index=True)\n",
    "fi.close()\n",
    "\n",
    "fi = open(os.path.join(root_dir,'nsynth-test','examples.json'))\n",
    "test_json = json.load(fi)\n",
    "\n",
    "test_csv=pd.DataFrame(columns=['AudioPath','Path','Label'])\n",
    "for key in tqdm(valid_json.keys()):\n",
    "    valid_csv=valid_csv.append({'Path' : os.path.join('nsynth-test','spec',key+'.wav.npy'),\n",
    "                                'Label' : valid_json[key]['instrument_family'],\n",
    "                                'AudioPath' : os.path.join('nsynth-test','audio',key+'.wav'), \n",
    "                                },ignore_index=True)\n",
    "fi.close()\n",
    "\n",
    "# train_csv.to_csv(os.path.join(root_dir,'train_data.csv'),index=False)\n",
    "# valid_csv.to_csv(os.path.join(root_dir,'valid_data.csv'),index=False)\n",
    "# test_csv.to_csv(os.path.join(root_dir,'test_data.csv'),index=False)\n",
    "\n",
    "\n",
    "\n",
    "\n",
    "\n"
   ],
   "outputs": [],
   "metadata": {}
  },
  {
   "cell_type": "code",
   "execution_count": null,
   "source": [
    "valid_csv"
   ],
   "outputs": [],
   "metadata": {}
  },
  {
   "cell_type": "code",
   "execution_count": null,
   "source": [
    "dataset = train_csv\n",
    "dataset[\"lenghts\"] = None\n",
    "for idx,row in dataset.iterrows() :\n",
    "    wav_file = AudioSegment.from_file(file = os.path.join(root_dir,row['AudioPath']), format = \"wav\")\n",
    "    dataset.loc[idx,\"lenghts\"] = len(wav_file)    "
   ],
   "outputs": [],
   "metadata": {}
  },
  {
   "cell_type": "code",
   "execution_count": null,
   "source": [
    "print(max(dataset[\"lenghts\"].values))\n",
    "fig, ax = plt.subplots(figsize =(5, 3))\n",
    "ax.hist(dataset[\"lenghts\"].values,bins=20)\n",
    "fig, ax = plt.subplots(figsize =(5,3))\n",
    "ax.hist(dataset[\"Label\"].values,bins=20)\n",
    "plt.show()"
   ],
   "outputs": [],
   "metadata": {}
  },
  {
   "cell_type": "code",
   "execution_count": null,
   "source": [],
   "outputs": [],
   "metadata": {}
  }
 ],
 "metadata": {
  "orig_nbformat": 4,
  "language_info": {
   "version": "3.8.11",
   "nbconvert_exporter": "python",
   "name": "python",
   "pygments_lexer": "ipython3",
   "file_extension": ".py",
   "mimetype": "text/x-python",
   "codemirror_mode": {
    "version": 3,
    "name": "ipython"
   }
  },
  "kernelspec": {
   "name": "python3",
   "display_name": "Python 3.8.11 64-bit ('default': conda)"
  },
  "interpreter": {
   "hash": "813ba1e14fc4b8a3882955179ac8d5855d8bcd0514fe871de254646abb26b5e1"
  }
 },
 "nbformat": 4,
 "nbformat_minor": 2
}